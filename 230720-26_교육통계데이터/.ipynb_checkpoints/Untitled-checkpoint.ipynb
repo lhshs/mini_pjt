{
 "cells": [
  {
   "cell_type": "code",
   "execution_count": 1,
   "id": "ec78de0c",
   "metadata": {
    "ExecuteTime": {
     "end_time": "2023-07-26T05:56:51.533550Z",
     "start_time": "2023-07-26T05:56:51.054988Z"
    }
   },
   "outputs": [],
   "source": [
    "import dash\n",
    "from dash import dcc, html\n",
    "from dash.dependencies import Input, Output\n",
    "import plotly.graph_objs as go\n",
    "import pandas as pd\n",
    "import numpy as np"
   ]
  },
  {
   "cell_type": "code",
   "execution_count": 2,
   "id": "690458e7",
   "metadata": {
    "ExecuteTime": {
     "end_time": "2023-07-26T05:56:51.662546Z",
     "start_time": "2023-07-26T05:56:51.658610Z"
    }
   },
   "outputs": [],
   "source": [
    "ori = pd.read_csv('data/18_22edustats.csv')"
   ]
  },
  {
   "cell_type": "code",
   "execution_count": 3,
   "id": "51ef468b",
   "metadata": {
    "ExecuteTime": {
     "end_time": "2023-07-26T05:56:51.861820Z",
     "start_time": "2023-07-26T05:56:51.858952Z"
    }
   },
   "outputs": [],
   "source": [
    "df = ori.copy()"
   ]
  },
  {
   "cell_type": "code",
   "execution_count": 16,
   "id": "78a24967",
   "metadata": {
    "ExecuteTime": {
     "end_time": "2023-07-26T06:03:14.873357Z",
     "start_time": "2023-07-26T06:03:14.355826Z"
    }
   },
   "outputs": [
    {
     "data": {
      "text/html": [
       "\n",
       "        <iframe\n",
       "            width=\"100%\"\n",
       "            height=\"650\"\n",
       "            src=\"http://127.0.0.1:8051/\"\n",
       "            frameborder=\"0\"\n",
       "            allowfullscreen\n",
       "            \n",
       "        ></iframe>\n",
       "        "
      ],
      "text/plain": [
       "<IPython.lib.display.IFrame at 0x24d91ac8750>"
      ]
     },
     "metadata": {},
     "output_type": "display_data"
    }
   ],
   "source": [
    "# Initialize the Dash app\n",
    "app = dash.Dash(__name__)\n",
    "\n",
    "# Dropdown options setup\n",
    "dropdown_options = [{'label': col, 'value': col} for col in df.columns]\n",
    "\n",
    "# Layout setup\n",
    "app.layout = html.Div([\n",
    "    dcc.Dropdown(\n",
    "        id='column-dropdown',\n",
    "        options=dropdown_options,\n",
    "        value=df.columns[0],  # Set the default value\n",
    "        style={'width': '50%'}\n",
    "    ),\n",
    "    dcc.Graph(id='box-plot'),\n",
    "\n",
    "])\n",
    "\n",
    "# Callback function definition\n",
    "@app.callback(\n",
    "    Output('box-plot', 'figure'),\n",
    "    Input('column-dropdown', 'value')\n",
    ")\n",
    "def update_plots(selected_column):\n",
    "    # Create the Box Plot\n",
    "    box_fig = go.Figure()\n",
    "    box_fig.add_trace(go.Box(x=df['지역'], y=df[selected_column], name='Box Plot', \n",
    "                             boxpoints='all', fillcolor='smoker', marker_size=2, line_width=1))\n",
    "    box_fig.update_layout(height=600, width=800)\n",
    "    return box_fig\n",
    "\n",
    "# Run the app\n",
    "if __name__ == '__main__':\n",
    "    app.run_server(debug=True, port=8051)"
   ]
  },
  {
   "cell_type": "code",
   "execution_count": null,
   "id": "56bcafa9",
   "metadata": {},
   "outputs": [],
   "source": []
  }
 ],
 "metadata": {
  "kernelspec": {
   "display_name": "Python 3 (ipykernel)",
   "language": "python",
   "name": "python3"
  },
  "language_info": {
   "codemirror_mode": {
    "name": "ipython",
    "version": 3
   },
   "file_extension": ".py",
   "mimetype": "text/x-python",
   "name": "python",
   "nbconvert_exporter": "python",
   "pygments_lexer": "ipython3",
   "version": "3.11.3"
  },
  "toc": {
   "base_numbering": 1,
   "nav_menu": {},
   "number_sections": false,
   "sideBar": true,
   "skip_h1_title": false,
   "title_cell": "Table of Contents",
   "title_sidebar": "Contents",
   "toc_cell": false,
   "toc_position": {},
   "toc_section_display": true,
   "toc_window_display": false
  }
 },
 "nbformat": 4,
 "nbformat_minor": 5
}
