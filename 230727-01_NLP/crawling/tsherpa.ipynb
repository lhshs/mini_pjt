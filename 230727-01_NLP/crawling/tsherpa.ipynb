{
 "cells": [
  {
   "cell_type": "code",
   "execution_count": 1,
   "id": "ddb7797a",
   "metadata": {},
   "outputs": [],
   "source": [
    "from selenium import webdriver\n",
    "import pandas as pd\n",
    "import time\n",
    "from datetime import datetime, timedelta"
   ]
  },
  {
   "cell_type": "code",
   "execution_count": 2,
   "id": "401faadb",
   "metadata": {},
   "outputs": [],
   "source": [
    "driver = webdriver.Chrome()\n",
    "\n",
    "tsherpa_url = \"https://edu.tsherpa.co.kr/LectureInfo/LectureReviews2\"\n",
    "driver.get(tsherpa_url)"
   ]
  },
  {
   "cell_type": "code",
   "execution_count": 5,
   "id": "5b2695b3",
   "metadata": {},
   "outputs": [],
   "source": [
    "ind = 1  # 현재 복사한 순서\n",
    "no = 1 # 1~10페이지 중 위치한 곳\n",
    "page = 1  # 현재 페이지 번호\n",
    "list1 = []  # 결과물이 저장되는 리스트"
   ]
  },
  {
   "cell_type": "code",
   "execution_count": null,
   "id": "e7da5861",
   "metadata": {},
   "outputs": [],
   "source": [
    "while 1:\n",
    "    try:\n",
    "        driver.switch_to.window(driver.window_handles[0])  \n",
    "        \n",
    "        driver.find_element(by='xpath',\n",
    "                    value = f'//*[@id=\"mainForm\"]/table/tbody/tr[{ind}]/td[2]/a').click()\n",
    "\n",
    "        time.sleep(0.2)\n",
    "\n",
    "        driver.switch_to.window(driver.window_handles[1]) \n",
    "        \n",
    "        name = driver.find_element(by='xpath',\n",
    "               value = '//*[@id=\"mainForm\"]/div[1]/span/a').text\n",
    "\n",
    "        title = driver.find_element(by='xpath', value = '//*[@id=\"mainForm\"]/div[2]/table/tbody/tr[1]/td').text\n",
    "\n",
    "        star= (driver.find_element(by='xpath',value = f'//*[@id=\"mainForm\"]/div[2]/table/tbody/tr[2]/td/span[1]/img')).get_attribute('alt')\n",
    "\n",
    "        contents = driver.find_element(by='xpath',\n",
    "                           value = '//*[@id=\"mainForm\"]/div[2]/table/tbody/tr[3]/td').text\n",
    "        \n",
    "        date = driver.find_element(by='xpath',\n",
    "                   value = '//*[@id=\"mainForm\"]/div[2]/table/tbody/tr[2]/td/span[2]').text.split(' ')[3]\n",
    "\n",
    "        driver.find_element(by = 'xpath',\n",
    "                           value = '//*[@id=\"mainForm\"]/div[2]/div/a').click()\n",
    "\n",
    "        driver.switch_to.window(driver.window_handles[0])  \n",
    "        \n",
    "        list1.append([name, title, star, contents, date])\n",
    "        \n",
    "        ind += 1\n",
    "       \n",
    "\n",
    "    except:\n",
    "        no += 1\n",
    "        if no < 12:\n",
    "            driver.find_element(by='xpath',value = f'//*[@id=\"mainForm\"]/div[3]/a[{no+1}]').click()\n",
    "            ind = 1\n",
    "            page += 1\n",
    "            continue\n",
    "\n",
    "\n",
    "        elif no == 12:\n",
    "            driver.find_element(by='xpath',value = '//*[@id=\"mainForm\"]/div[3]/a[12]/img').click()\n",
    "            no = 1\n",
    "            ind = 1\n",
    "            page += 1\n",
    "            continue\n",
    "            \n",
    "        else:\n",
    "            break"
   ]
  },
  {
   "cell_type": "code",
   "execution_count": null,
   "id": "55a17967",
   "metadata": {},
   "outputs": [],
   "source": [
    "df = pd.DataFrame(list1)\n",
    "df.rename(columns = { 0 : 'name', 1 : 'title', 2 : 'star', 3 : 'contents', 4 : 'date'},inplace = True)\n",
    "df"
   ]
  },
  {
   "cell_type": "code",
   "execution_count": 6,
   "id": "d1812126",
   "metadata": {},
   "outputs": [
    {
     "data": {
      "text/plain": [
       "[]"
      ]
     },
     "execution_count": 6,
     "metadata": {},
     "output_type": "execute_result"
    }
   ],
   "source": [
    "list1"
   ]
  },
  {
   "cell_type": "code",
   "execution_count": 7,
   "id": "6dc25197",
   "metadata": {},
   "outputs": [],
   "source": [
    "driver.quit()"
   ]
  }
 ],
 "metadata": {
  "kernelspec": {
   "display_name": "Python 3 (ipykernel)",
   "language": "python",
   "name": "python3"
  },
  "language_info": {
   "codemirror_mode": {
    "name": "ipython",
    "version": 3
   },
   "file_extension": ".py",
   "mimetype": "text/x-python",
   "name": "python",
   "nbconvert_exporter": "python",
   "pygments_lexer": "ipython3",
   "version": "3.11.3"
  }
 },
 "nbformat": 4,
 "nbformat_minor": 5
}
