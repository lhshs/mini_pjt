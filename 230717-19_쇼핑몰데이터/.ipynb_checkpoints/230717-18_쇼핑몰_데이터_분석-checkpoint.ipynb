{
 "cells": [
  {
   "cell_type": "markdown",
   "id": "e0665077",
   "metadata": {},
   "source": [
    "#### Import Library"
   ]
  },
  {
   "cell_type": "code",
   "execution_count": 1,
   "id": "d4d15c5a",
   "metadata": {
    "ExecuteTime": {
     "end_time": "2023-07-19T04:39:54.112129Z",
     "start_time": "2023-07-19T04:39:53.183142Z"
    }
   },
   "outputs": [],
   "source": [
    "import numpy as np\n",
    "import pandas as pd\n",
    "import seaborn as sns\n",
    "import matplotlib.pyplot as plt\n",
    "plt.rc('font', family='Malgun Gothic')  \n",
    "plt.rcParams['axes.unicode_minus'] = False\n",
    "\n",
    "from statannot import add_stat_annotation\n",
    "\n",
    "import warnings\n",
    "warnings.filterwarnings('ignore')\n",
    "\n",
    "import plotly.express as px\n",
    "import plotly.graph_objects as go"
   ]
  },
  {
   "cell_type": "markdown",
   "id": "ecd9a06b",
   "metadata": {},
   "source": [
    "#### Data Load"
   ]
  },
  {
   "cell_type": "code",
   "execution_count": null,
   "id": "ba88b318",
   "metadata": {
    "ExecuteTime": {
     "end_time": "2023-07-19T04:11:07.000791Z",
     "start_time": "2023-07-19T04:10:53.363670Z"
    }
   },
   "outputs": [],
   "source": [
    "df = pd.read_excel('data/미니프로젝트-쇼핑몰 실습데이터.xlsx')"
   ]
  },
  {
   "cell_type": "markdown",
   "id": "71b9df54",
   "metadata": {},
   "source": [
    "#### def"
   ]
  },
  {
   "cell_type": "code",
   "execution_count": null,
   "id": "00f2e040",
   "metadata": {
    "ExecuteTime": {
     "end_time": "2023-07-19T04:00:24.255568Z",
     "start_time": "2023-07-19T04:00:24.251514Z"
    }
   },
   "outputs": [],
   "source": [
    "# 데이터 기본 정보 확인 함수_(info, value_counts, 그래프)\n",
    "def confirm_data(df):\n",
    "    print(df.info())\n",
    "    print(df.columns)\n",
    "    print('💕')\n",
    "    print('')\n",
    "    for i in df.columns:\n",
    "        print(df[i].value_counts())\n",
    "        print('💕')\n",
    "        print('')"
   ]
  },
  {
   "cell_type": "code",
   "execution_count": null,
   "id": "331d96df",
   "metadata": {
    "ExecuteTime": {
     "end_time": "2023-07-19T04:00:24.462386Z",
     "start_time": "2023-07-19T04:00:24.256638Z"
    },
    "scrolled": true
   },
   "outputs": [],
   "source": [
    "confirm_data(df)"
   ]
  },
  {
   "cell_type": "code",
   "execution_count": null,
   "id": "c27ba680",
   "metadata": {
    "ExecuteTime": {
     "end_time": "2023-07-19T04:00:24.470728Z",
     "start_time": "2023-07-19T04:00:24.463406Z"
    },
    "scrolled": true
   },
   "outputs": [],
   "source": [
    "# 업체명 종류 파악\n",
    "df['업체명'].unique()"
   ]
  },
  {
   "cell_type": "code",
   "execution_count": null,
   "id": "6b9bbb3c",
   "metadata": {
    "ExecuteTime": {
     "end_time": "2023-07-19T04:00:24.482681Z",
     "start_time": "2023-07-19T04:00:24.471754Z"
    }
   },
   "outputs": [],
   "source": [
    "df"
   ]
  },
  {
   "cell_type": "code",
   "execution_count": null,
   "id": "2edc2c73",
   "metadata": {
    "ExecuteTime": {
     "end_time": "2023-07-19T04:00:24.541539Z",
     "start_time": "2023-07-19T04:00:24.483700Z"
    }
   },
   "outputs": [],
   "source": [
    "# 업체명 중 1 개의 nan값이 있는데,\n",
    "# 'HBE문고리 비닐봉투(주황)-1세트 200장'을 구매한 업체는 '지니'밖에 없으므로\n",
    "# '지니'로 채우고 진행\n",
    "df['업체명'] = df['업체명'].fillna('지니')\n",
    "\n",
    "# '지니 태블릿'과 '지니 태블릿(후불집행)'업체는 같은 업체라 판단하고 \n",
    "# '지니 태블릿'으로 통일한다.\n",
    "df.loc[df['업체명'] == '지니 태블릿(후불집행)', '업체명'] = '지니 태블릿'\n",
    "\n",
    "# 할부기간의 결측치는 할부로 결제하지 않은 것으로 판단하고 '일시불'로 결측치를 채운다.\n",
    "# 1개월 할부 또한 '일시불'로 변경해준다.\n",
    "df['할부기간'] = df['할부기간'].fillna('일시불')\n",
    "df['할부기간'] = df['할부기간'].apply(lambda x : x.replace('1개월', '일시불'))"
   ]
  },
  {
   "cell_type": "markdown",
   "id": "990d227e",
   "metadata": {},
   "source": [
    "# 필수 분석"
   ]
  },
  {
   "cell_type": "markdown",
   "id": "aab6f557",
   "metadata": {},
   "source": [
    "## 1. 입점 기업별 RFM 분석(3그룹) 진행"
   ]
  },
  {
   "cell_type": "code",
   "execution_count": null,
   "id": "f989f797",
   "metadata": {
    "ExecuteTime": {
     "end_time": "2023-07-19T04:00:24.582984Z",
     "start_time": "2023-07-19T04:00:24.542553Z"
    }
   },
   "outputs": [],
   "source": [
    "# 수집된 데이터 기간 \n",
    "start = str(df.sort_values(by='주문일자')['주문일자'].iloc[0])[:10] \n",
    "end = str(df.sort_values(by='주문일자')['주문일자'].iloc[-1])[:10]"
   ]
  },
  {
   "cell_type": "code",
   "execution_count": null,
   "id": "d50ddd1f",
   "metadata": {
    "ExecuteTime": {
     "end_time": "2023-07-19T04:00:24.586567Z",
     "start_time": "2023-07-19T04:00:24.582984Z"
    }
   },
   "outputs": [],
   "source": [
    "start"
   ]
  },
  {
   "cell_type": "code",
   "execution_count": null,
   "id": "9d391486",
   "metadata": {
    "ExecuteTime": {
     "end_time": "2023-07-19T04:00:24.593019Z",
     "start_time": "2023-07-19T04:00:24.588458Z"
    }
   },
   "outputs": [],
   "source": [
    "# RFM 분석 함수\n",
    "def rfm(df):\n",
    "    rfm_name = []\n",
    "    rfm_r = []\n",
    "    rfm_f = []\n",
    "    rfm_m = []\n",
    "    \n",
    "    for a in df['업체명'].unique():\n",
    "        # 업체명 특정\n",
    "        df2 = df[df['업체명'] == a]\n",
    "        \n",
    "        try:\n",
    "            # 얼마나 최근에 구매\n",
    "            r = str(df2[df2['처리상태'] == '구매확정'].sort_values(by='주문일자')['주문일자'].iloc[-1])[:10]\n",
    "\n",
    "            # 얼마나 자주 구매, 해당 기간동안 구매확정인 비율\n",
    "            f = len(df2[df2['처리상태'] == '구매확정'])\n",
    "\n",
    "            # 얼마나 많이 지출, 구매 확정인 판매금액 합계\n",
    "            m = df2[(df2['처리상태'] == '구매확정')]['판매금액'].sum()\n",
    "            mm = '{:,}'.format(m)\n",
    "\n",
    "            print(f'{a} 업체의 가장 최근 주문일자(구매확정일자)는 {r} 입니다.')\n",
    "            print(f'{a} 업체는 {start}부터 {end}동안 총 {f}회 구매확정 했습니다.')\n",
    "            print(f'{a} 업체는 {start}부터 {end}동안 총 {mm}원 지출했습니다.')\n",
    "            print('')\n",
    "\n",
    "        except:\n",
    "            # 구매 확정이 없을 시 0으로 출력\n",
    "            print(f'{a} 업체의 가장 최근 주문일자는 없습니다.')\n",
    "            r = 0\n",
    "            f = 0\n",
    "            m = 0\n",
    "            print('')\n",
    "            \n",
    "        rfm_name.append(a)\n",
    "        rfm_r.append(r)\n",
    "        rfm_f.append(f)\n",
    "        rfm_m.append(m)\n",
    "    \n",
    "    dff = pd.DataFrame({'업체명' : rfm_name, 'Recency' : rfm_r,\n",
    "                        'Frequency' : rfm_f, 'Monetary' : rfm_m}).sort_values('Monetary', ascending=False)\n",
    "#     dff['Monetary'] = dff['Monetary'].apply(lambda x : '{:,}'.format(x))\n",
    "\n",
    "    return dff\n"
   ]
  },
  {
   "cell_type": "code",
   "execution_count": null,
   "id": "005dc8ad",
   "metadata": {
    "ExecuteTime": {
     "end_time": "2023-07-19T04:00:25.381429Z",
     "start_time": "2023-07-19T04:00:24.594123Z"
    },
    "scrolled": true
   },
   "outputs": [],
   "source": [
    "df_rfm = rfm(df)"
   ]
  },
  {
   "cell_type": "code",
   "execution_count": null,
   "id": "20d96247",
   "metadata": {
    "ExecuteTime": {
     "end_time": "2023-07-19T04:00:25.505622Z",
     "start_time": "2023-07-19T04:00:25.382546Z"
    }
   },
   "outputs": [],
   "source": [
    "sns.relplot(df_rfm['Frequency'])"
   ]
  },
  {
   "cell_type": "code",
   "execution_count": null,
   "id": "2440999c",
   "metadata": {
    "ExecuteTime": {
     "end_time": "2023-07-19T04:00:25.511111Z",
     "start_time": "2023-07-19T04:00:25.506639Z"
    },
    "scrolled": true
   },
   "outputs": [],
   "source": [
    "df_rfm['Frequency'].describe()"
   ]
  },
  {
   "cell_type": "code",
   "execution_count": null,
   "id": "3b799863",
   "metadata": {
    "ExecuteTime": {
     "end_time": "2023-07-19T04:00:25.516918Z",
     "start_time": "2023-07-19T04:00:25.512127Z"
    }
   },
   "outputs": [],
   "source": [
    "df_rfm"
   ]
  },
  {
   "cell_type": "code",
   "execution_count": null,
   "id": "11950a8c",
   "metadata": {
    "ExecuteTime": {
     "end_time": "2023-07-19T04:00:25.532661Z",
     "start_time": "2023-07-19T04:00:25.517941Z"
    },
    "scrolled": false
   },
   "outputs": [],
   "source": [
    "# 구매 빈도에 따라 구매 금액에 차이가 있을지 분석\n",
    "# 상위 몇 개의 데이터들을 제외한 대부분의 데이터가 제 3사분위수 밑에 위치한다\n",
    "# 제 1사분위수 ~ 제 3사분위수를 기준으로 3분할 하여 분석한다\n",
    "\n",
    "df_rfm['Frequency_mean'] = '-'\n",
    "\n",
    "for x in range(len(df_rfm)):\n",
    "    if df_rfm['Frequency'][x] <= 7.75:\n",
    "        df_rfm['Frequency_mean'][x] = '25% ↓'\n",
    "    elif (df_rfm['Frequency'][x] >= 7.75) & (df_rfm['Frequency'][x] <= 56.5) :\n",
    "        df_rfm['Frequency_mean'][x] = '25% ~ 75%'\n",
    "    else:\n",
    "        df_rfm['Frequency_mean'][x] = '75% ↑'"
   ]
  },
  {
   "cell_type": "code",
   "execution_count": null,
   "id": "5a27aa1e",
   "metadata": {
    "ExecuteTime": {
     "end_time": "2023-07-19T04:00:25.536339Z",
     "start_time": "2023-07-19T04:00:25.532661Z"
    }
   },
   "outputs": [],
   "source": [
    "# 지출액 값의 편차가 너무 크기 때문에 log 변환을 해 준다\n",
    "df_rfm['Monetary'] = np.log10(df_rfm['Monetary'])"
   ]
  },
  {
   "cell_type": "code",
   "execution_count": null,
   "id": "8a880a4d",
   "metadata": {
    "ExecuteTime": {
     "end_time": "2023-07-19T04:00:25.696385Z",
     "start_time": "2023-07-19T04:00:25.536339Z"
    }
   },
   "outputs": [],
   "source": [
    "# add_stat_annotation을 활용 ttest 결과 출력\n",
    "fig1 = sns.boxenplot(data=df_rfm, x='Frequency_mean', y='Monetary', palette='pastel')\n",
    "fig2 = sns.stripplot(data=df_rfm, x='Frequency_mean', y='Monetary', color='r', alpha=0.5)\n",
    "\n",
    "add_stat_annotation(ax=fig1, data=df_rfm, x='Frequency_mean', y='Monetary',\n",
    "                   box_pairs=[(('25% ↓'), ('25% ~ 75%')),\n",
    "                              (('25% ↓'), ('75% ↑')), \n",
    "                              (('25% ~ 75%'), ('75% ↑'))],\n",
    "                    test='t-test_ind', text_format='star', loc='inside', verbose=2)"
   ]
  },
  {
   "cell_type": "markdown",
   "id": "6fda1851",
   "metadata": {},
   "source": [
    "### 결론 "
   ]
  },
  {
   "cell_type": "markdown",
   "id": "74fab0e3",
   "metadata": {},
   "source": [
    "구매확정 기업의 빈도를 75%이상, 25%~75%, 25%이하 세 분류로 나눴을 때, \n",
    "<br>75% 이상에 속하는 그룹과 25% ~ 75%에 속하는 그룹의 지출액만 유의한 차이가 있다.\n",
    "<br>즉, 구매확정 기업의 빈도가 75%이하인 경우 지출액에 큰 차이가 없지만, \n",
    "<br>빈도수가 75% 이상이라면 그 이하의 집단과 차이가 있다고 판단할 수 있다"
   ]
  },
  {
   "cell_type": "markdown",
   "id": "a88ae859",
   "metadata": {},
   "source": [
    "## 2. 매출 시각화"
   ]
  },
  {
   "cell_type": "markdown",
   "id": "92f487ab",
   "metadata": {},
   "source": [
    "### 월별, 연도별 매출"
   ]
  },
  {
   "cell_type": "code",
   "execution_count": null,
   "id": "5eda70c3",
   "metadata": {
    "ExecuteTime": {
     "end_time": "2023-07-19T04:00:26.626030Z",
     "start_time": "2023-07-19T04:00:25.696385Z"
    }
   },
   "outputs": [],
   "source": [
    "# 월, 년도 컬럼 추가\n",
    "\n",
    "df2 = df.copy()\n",
    "df2['월'] = '-'\n",
    "df2['년도'] = '-'\n",
    "\n",
    "df2['월'] = df2['주문일자'].apply(lambda x : str(x)[5:7])\n",
    "df2['년도'] = df2['주문일자'].apply(lambda x : str(x)[:4])\n",
    "\n",
    "# 처리상태 컬럼 중 \n",
    "# '환불완료', '환불요청', '상담취소', '환불승인', '주문취소', '미결제' 데이터를 제외한 데이터를 이용해\n",
    "# 매출액을 구한다\n",
    "df2 = df2[(df2['처리상태'] != '환불완료') | (df2['처리상태'] != '상담취소') | (df2['처리상태'] != '주문취소') |\n",
    "          (df2['처리상태'] != '환불요청') | (df2['처리상태'] != '환불승인') | (df2['처리상태'] != '미결제')]\n",
    "df2 = df2[['판매금액', '월', '년도']]"
   ]
  },
  {
   "cell_type": "code",
   "execution_count": null,
   "id": "515926c6",
   "metadata": {
    "ExecuteTime": {
     "end_time": "2023-07-19T04:00:27.084499Z",
     "start_time": "2023-07-19T04:00:26.626030Z"
    },
    "scrolled": false
   },
   "outputs": [],
   "source": [
    "# 년 + 월별 매출액 시각화\n",
    "df_m = df2.groupby(['년도', '월']).sum()\n",
    "year_lst = ['2019', '2020', '2021', '2022']\n",
    "\n",
    "for i in year_lst:\n",
    "    df_mm = df_m.loc[i]\n",
    "    fig = px.pie(df_m.loc[i], values='판매금액', names=df_mm.index+'월', title=f'{i}년도 월 매출')\n",
    "    fig2 = go.Figure(go.Bar(x=df_mm.index+'월', y=df_mm['판매금액'], marker_color='indianred'))\n",
    "    fig.show()\n",
    "    fig2.show()\n",
    "    print(df_mm.describe())"
   ]
  },
  {
   "cell_type": "markdown",
   "id": "1ecb51af",
   "metadata": {},
   "source": [
    "2019년은 12월 자료만 존재하여 년도별 월 매출은 비교할 수 없다.\n",
    "<br>2020년에는 10월에 34.4%로 높은 매출 점유율을 보였고, 편차는 153,859,200원이다.\n",
    "<br>2021년에는 2월달의 매출이 가장 높게 조사됐고, 편차는 126,343,400원으로 20년보다 작은 수치를 보여준다.\n",
    "<br>2022년에는 5월달의 매출이 가장 높게 조사됐고, 편차는 244,380,200원으로 조사 기간 중 가장 높은 수치를 보여줬다."
   ]
  },
  {
   "cell_type": "code",
   "execution_count": null,
   "id": "de0ac8e1",
   "metadata": {
    "ExecuteTime": {
     "end_time": "2023-07-19T04:00:27.120742Z",
     "start_time": "2023-07-19T04:00:27.085504Z"
    },
    "scrolled": false
   },
   "outputs": [],
   "source": [
    "# 월별 매출액\n",
    "\n",
    "df_m2 = df2.groupby(['월']).sum()\n",
    "\n",
    "fig = px.pie(df_m2, values='판매금액', names=df_m2.index+'월', title='전체 월 매출')\n",
    "fig2 = go.Figure(go.Bar(x=df_m2.index+'월', y=df_m2['판매금액'], marker_color='indianred'))\n",
    "\n",
    "fig.show()\n",
    "fig2.show()\n",
    "print(df_m2.describe())"
   ]
  },
  {
   "cell_type": "markdown",
   "id": "d1b32417",
   "metadata": {},
   "source": [
    "월별 매출은 3월(1,383,912,000원)이 가장 높게 나타났으며 6월(677,741,000원)에 가장 낮은 수치로 조사됐다.\n",
    "<br> 편차는 257,143,900원이고, 평균은 961,096,700원이다."
   ]
  },
  {
   "cell_type": "code",
   "execution_count": null,
   "id": "b7e8f290",
   "metadata": {
    "ExecuteTime": {
     "end_time": "2023-07-19T04:00:27.151531Z",
     "start_time": "2023-07-19T04:00:27.121746Z"
    },
    "scrolled": false
   },
   "outputs": [],
   "source": [
    "# 연도별 매출액\n",
    "\n",
    "df_y = df2.groupby(['년도']).sum()\n",
    "\n",
    "fig = px.pie(df_y, values='판매금액', names=df_y.index+'월', title='전체 월 매출')\n",
    "fig2 = go.Figure(go.Bar(x=df_y.index+'월', y=df_y['판매금액'], marker_color='indianred'))\n",
    "\n",
    "fig.show()\n",
    "fig2.show()"
   ]
  },
  {
   "cell_type": "markdown",
   "id": "4de93396",
   "metadata": {},
   "source": [
    "2019년을 제외한 연도별 매출액은 우상향하는 모습을 보이고 있고, \n",
    "<br>수집된 데이터에서 2022년 매출액이 52.6%로 절반 이상을 차지한다."
   ]
  },
  {
   "cell_type": "markdown",
   "id": "85c0a358",
   "metadata": {},
   "source": [
    "### 월별 순수익 (처리 상황, 할부기간 고려)"
   ]
  },
  {
   "cell_type": "code",
   "execution_count": null,
   "id": "128b322f",
   "metadata": {
    "ExecuteTime": {
     "end_time": "2023-07-19T04:01:05.693922Z",
     "start_time": "2023-07-19T04:01:05.683888Z"
    }
   },
   "outputs": [],
   "source": [
    "df"
   ]
  },
  {
   "cell_type": "code",
   "execution_count": null,
   "id": "5ee0c107",
   "metadata": {
    "ExecuteTime": {
     "end_time": "2023-07-19T04:01:06.694883Z",
     "start_time": "2023-07-19T04:01:05.694945Z"
    }
   },
   "outputs": [],
   "source": [
    "# 할부금을 고려한 월별 순수익을 보기 위해\n",
    "# 할부금으로 수집된 데이터들은 할부 기간별로 금액을 나눈 뒤,\n",
    "# 나눈 기간 만큼 금액을 이월해 계산하려고 한다.\n",
    "\n",
    "df_prf = df.copy()\n",
    "df_prf['월'] = '-'\n",
    "df_prf['년도'] = '-'\n",
    "\n",
    "df_prf['월'] = df_prf['주문일자'].apply(lambda x : str(x)[5:7])\n",
    "df_prf['년도'] = df_prf['주문일자'].apply(lambda x : str(x)[:4])\n",
    "df_prf = df_prf[['월', '년도', '할부기간', '판매금액']]\n",
    "df_prf['할부기간'] = df_prf['할부기간'].apply(lambda x : x.replace('개월', ''))\n",
    "df_prf"
   ]
  },
  {
   "cell_type": "code",
   "execution_count": null,
   "id": "6824ed61",
   "metadata": {
    "ExecuteTime": {
     "end_time": "2023-07-19T04:01:06.698887Z",
     "start_time": "2023-07-19T04:01:06.695892Z"
    }
   },
   "outputs": [],
   "source": [
    "'''\n",
    "할부기간만 계산하고 순수익(구매 확정 등) 안더함\n",
    "\n",
    "'''"
   ]
  },
  {
   "cell_type": "code",
   "execution_count": null,
   "id": "fe5bd863",
   "metadata": {
    "ExecuteTime": {
     "end_time": "2023-07-19T04:01:06.711741Z",
     "start_time": "2023-07-19T04:01:06.700403Z"
    }
   },
   "outputs": [],
   "source": [
    "# 할부기간별로 컬럼 나누는 함수\n",
    "def divide_by_installments(df):\n",
    "    new_rows = []\n",
    "\n",
    "    for index, col in df.iterrows():\n",
    "        month = col['월']\n",
    "        year = col['년도']\n",
    "        price = col['판매금액']\n",
    "        installments = col['할부기간']\n",
    "\n",
    "        monthly_price = int(price / installments)\n",
    "        for i in range(1, installments+1):\n",
    "\n",
    "            new_month = month + (i-1)            # 할부개월 수 만큼 월 계산\n",
    "            new_year = year + (new_month // 12)  # 년도 + 1\n",
    "\n",
    "            if new_month > 12:                   # 12월 넘어가면 다시 1월부터\n",
    "                new_month = new_month % 12\n",
    "                if new_month == 0:              \n",
    "                    new_month = 12\n",
    "\n",
    "            if new_month % 12 == 0:             # 12월달까지 해당 년도로\n",
    "                new_year = new_year - 1\n",
    "\n",
    "            new_row = {'월': new_month,\n",
    "                       '년도' : new_year,\n",
    "                       '할부기간': 1,           # 나눠진 컬럼의 할부 데이터는 1로 통일, 일시불로 통합\n",
    "                       '판매금액': monthly_price,\n",
    "                      }\n",
    "            new_rows.append(new_row)\n",
    "\n",
    "    # 새로운 행을 DataFrame에 추가\n",
    "    df = df.append(new_rows, ignore_index=True)\n",
    "    df = df[df['할부기간'] == 1]               # 기존 할부 개월수가 포함된 데이터도 있기 때문에, 할부 기간이 1인 데이터만 저장\n",
    "    return df"
   ]
  },
  {
   "cell_type": "code",
   "execution_count": null,
   "id": "9f9708ad",
   "metadata": {
    "ExecuteTime": {
     "end_time": "2023-07-19T04:01:06.890349Z",
     "start_time": "2023-07-19T04:01:06.712746Z"
    }
   },
   "outputs": [],
   "source": [
    "# 일시불과 할부 정보가 있는 데이터를 따로 저장\n",
    "df_prf_ = df_prf[df_prf['할부기간'] != '일시불']\n",
    "df_prf_ = df_prf_.astype('int64') # 날짜로 나눠주기 위해 숫자로 변경\n",
    "df_prf_2 = df_prf[df_prf['할부기간'] == '일시불']\n",
    "df_prf_2 = df_prf_2[['월', '년도', '판매금액']].astype('int64') # 그룹화 하기 위해 타입 통일\n",
    "\n",
    "# 위에서 만든 함수를 이용해 할부 날짜별 컬럼 늘리기\n",
    "df_prf_ = divide_by_installments(df_prf_)"
   ]
  },
  {
   "cell_type": "code",
   "execution_count": null,
   "id": "88f33f50",
   "metadata": {
    "ExecuteTime": {
     "end_time": "2023-07-19T04:01:06.898595Z",
     "start_time": "2023-07-19T04:01:06.891357Z"
    }
   },
   "outputs": [],
   "source": [
    "# 기존에 있던 일시불 데이터와 합한 뒤, value_counts() 확인\n",
    "mon_prf = pd.concat([df_prf_, df_prf_2], ignore_index=True)\n",
    "mon_prf['할부기간'].value_counts()\n",
    "\n",
    "# 할부 기간들이 잘 나눠진 것을 확인할 수 있다"
   ]
  },
  {
   "cell_type": "code",
   "execution_count": null,
   "id": "4a898e14",
   "metadata": {
    "ExecuteTime": {
     "end_time": "2023-07-19T04:01:06.903595Z",
     "start_time": "2023-07-19T04:01:06.899599Z"
    }
   },
   "outputs": [],
   "source": [
    "# 이제 할부기간을 제외한 데이터를 그룹화 한 다음 시각화 한다\n",
    "mon_prf = mon_prf.drop('할부기간', axis=1)"
   ]
  },
  {
   "cell_type": "code",
   "execution_count": null,
   "id": "62f08bcd",
   "metadata": {
    "ExecuteTime": {
     "end_time": "2023-07-19T04:01:07.087548Z",
     "start_time": "2023-07-19T04:01:06.904600Z"
    },
    "scrolled": false
   },
   "outputs": [],
   "source": [
    "# 년 + 월별 매출액 시각화\n",
    "prf_ym = mon_prf.groupby(['년도', '월']).sum()\n",
    "prf_year_lst = [2019, 2020, 2021, 2022, 2023, 2024]\n",
    "\n",
    "for i in prf_year_lst:\n",
    "    prf_ym_ = prf_ym.loc[i] # 년도별 데이터\n",
    "    name1 = prf_ym.loc[i].index.astype('str') # index에 '월'을 붙이기 위해 type변경\n",
    "    fig = px.pie(prf_ym.loc[i], values='판매금액', names=name1+'월', title=f'{i}년도 월별 순수익')\n",
    "    fig2 = go.Figure(go.Bar(x=name1+'월', y=prf_ym_['판매금액'], marker_color='indianred'))\n",
    "    fig.show()\n",
    "    fig2.show()"
   ]
  },
  {
   "cell_type": "code",
   "execution_count": null,
   "id": "42e53a36",
   "metadata": {
    "ExecuteTime": {
     "end_time": "2023-07-19T04:01:07.093142Z",
     "start_time": "2023-07-19T04:01:07.088551Z"
    }
   },
   "outputs": [],
   "source": [
    "mon_prf"
   ]
  },
  {
   "cell_type": "code",
   "execution_count": null,
   "id": "6d935293",
   "metadata": {
    "ExecuteTime": {
     "end_time": "2023-07-19T04:01:07.102998Z",
     "start_time": "2023-07-19T04:01:07.094157Z"
    }
   },
   "outputs": [],
   "source": [
    "prf_m = mon_prf.groupby(['월']).sum()\n",
    "prf_m"
   ]
  },
  {
   "cell_type": "code",
   "execution_count": null,
   "id": "25b3ae45",
   "metadata": {
    "ExecuteTime": {
     "end_time": "2023-07-19T04:01:07.132165Z",
     "start_time": "2023-07-19T04:01:07.102998Z"
    },
    "scrolled": false
   },
   "outputs": [],
   "source": [
    "# 전체 기간 월별 매출액\n",
    "\n",
    "prf_m = mon_prf.groupby(['월']).sum().drop('년도', axis=1)\n",
    "\n",
    "name2 = prf_m.index.astype('str')\n",
    "fig = px.pie(prf_m, values='판매금액', names=name2+'월', title='월 순수익')\n",
    "fig2 = go.Figure(go.Bar(x=name2+'월', y=prf_m['판매금액'], marker_color='indianred'))\n",
    "\n",
    "fig.show()\n",
    "fig2.show()\n",
    "\n",
    "print(prf_m.describe())"
   ]
  },
  {
   "cell_type": "markdown",
   "id": "f0385c43",
   "metadata": {},
   "source": [
    "월별 순수익은 3월(1,373,294,000)이 가장 높았으며, 12월(740,020,000)이 가장 낮은 비율을 보인다.\n",
    "<br>편차는 232,142,900원이며 평균은 961,096,700원으로 책정됐다."
   ]
  },
  {
   "cell_type": "markdown",
   "id": "61076e79",
   "metadata": {},
   "source": [
    "## 3. 결제 방법에 따른 분석"
   ]
  },
  {
   "cell_type": "markdown",
   "id": "2bcb3ecd",
   "metadata": {},
   "source": [
    "### 결제 방법과 결제 금액의 연관성 분석"
   ]
  },
  {
   "cell_type": "code",
   "execution_count": null,
   "id": "c29bb2c1",
   "metadata": {
    "ExecuteTime": {
     "end_time": "2023-07-19T04:01:07.134855Z",
     "start_time": "2023-07-19T04:01:07.133168Z"
    }
   },
   "outputs": [],
   "source": [
    "# 데이터에 다양한 결제 방법이 있는데,\n",
    "# 결제 방법은 맨 앞의 한가지만 사용한 것으로 간주하고 연관성 분석을 진행했다.\n",
    "# 결제 방법은 신용카드, 포인트, 웰컴마일, 현금간편결제, 적립금, 현금, 정기결제, 후불, 가상계좌, 무통장입금\n",
    "# 총 10가지로 축소될 수 있겠다."
   ]
  },
  {
   "cell_type": "code",
   "execution_count": null,
   "id": "36853115",
   "metadata": {
    "ExecuteTime": {
     "end_time": "2023-07-19T04:01:07.211182Z",
     "start_time": "2023-07-19T04:01:07.135862Z"
    }
   },
   "outputs": [],
   "source": [
    "# '신용카드'로 결제 방법 변경\n",
    "df['결제방법'] = df['결제방법'].replace('신 + 포', '신용카드')\n",
    "df['결제방법'] = df['결제방법'].replace('신 + 웰컴', '신용카드')\n",
    "df['결제방법'] = df['결제방법'].replace('신 + 적', '신용카드')\n",
    "df['결제방법'] = df['결제방법'].replace('신 + 적 + 포', '신용카드')\n",
    "# '적립금'으로 결제 방법 변경\n",
    "df['결제방법'] = df['결제방법'].replace('적 + 포', '적립금')\n",
    "# '현금'으로 결제 방법 변경\n",
    "df['결제방법'] = df['결제방법'].replace('현 + 포', '현금')\n",
    "df['결제방법'] = df['결제방법'].replace('현 + 적', '현금')\n",
    "df['결제방법'] = df['결제방법'].replace('현 + 적 + 포', '현금')\n",
    "# '정기결제'로 결제 방법 변경\n",
    "df['결제방법'] = df['결제방법'].replace('정 + 포', '정기결제')\n",
    "df['결제방법'] = df['결제방법'].replace('정 + 적', '정기결제')\n",
    "df['결제방법'] = df['결제방법'].replace('정 + 적 + 포', '정기결제')\n",
    "# '후불'로 결제 방법 변경\n",
    "df['결제방법'] = df['결제방법'].replace('후 + 포', '후불')\n",
    "df['결제방법'] = df['결제방법'].replace('후 + 적', '후불')\n",
    "df['결제방법'] = df['결제방법'].replace('후 + 적 + 포', '후불')\n",
    "# '포인트'로 결제 방법 변경\n",
    "df['결제방법'] = df['결제방법'].replace(' + 포','포인트')"
   ]
  },
  {
   "cell_type": "code",
   "execution_count": null,
   "id": "4e641309",
   "metadata": {
    "ExecuteTime": {
     "end_time": "2023-07-19T04:01:07.510128Z",
     "start_time": "2023-07-19T04:01:07.213188Z"
    }
   },
   "outputs": [],
   "source": [
    "# 상품명 NULL 값 채우기\n",
    "\n",
    "# BBQ\n",
    "# 가격대가 비슷한 '[BBQ] 황금올리브 치킨반반+콜라1.25L' 참고하여 \n",
    "# '[BBQ] 황금올리브 치킨+콜라1.25L'로 결측치 보간\n",
    "df[df['제조사'] == 'BBQ'] = df[df['제조사'] == 'BBQ'].fillna('[BBQ] 황금올리브 치킨+콜라1.25L')\n",
    "\n",
    "# 한국제지\n",
    "# 한 업체에서 보통 같은 물품을 구매하는 경향이 있음\n",
    "# 스테툴스 업체가 구매한 상품명은 데이터가 아예 없는데, ['복사용지']로 채우고 진행\n",
    "df[df['제조사'] == '한국제지'] = df[df['제조사'] == '한국제지'].fillna('[복사용지]')\n",
    "df[df['업체명'] == '스테툴스'] = df[df['업체명'] == '스테툴스'].fillna('[복사용지]')\n",
    "\n",
    "# 행복한바오밥 \n",
    "# 종류가 너무 많아 앞에 값으로 결측치 처리\n",
    "df[df['제조사'] == '행복한바오밥'] = df[df['제조사'] == '행복한바오밥'].fillna(method='bfill')\n",
    "\n",
    "# 네오필립 \n",
    "# 업체 상품 결측치는 전자제품을 산 것으로 판단되나, 제조사가 한 종류밖에 없어 유추하기 어려움\n",
    "# 제거하고 진행\n",
    "df[(df['업체명'] == '네오필립') & (df['상품명'].isna())] = df[(df['업체명'] == '네오필립') & (df['상품명'].isna())].dropna()\n",
    "\n",
    "# 보드엠\n",
    "# 같은 업체, 제조사에서 구매한 제품이 많으므로 뒤에 값으로 처리\n",
    "df[df['업체명'] == '보드엠'] = df[df['업체명'] == '보드엠'].fillna(method='bfill')\n",
    "\n",
    "# 블루스톤익스체인지\n",
    "# 결측치가 있는 데이터와 같은 제조사가 발견되지 않으므로, 추측할 수 없음\n",
    "# 제거하고 진행\n",
    "df[(df['업체명'] == '블루스톤익스체인지')&(df['제조사'] == '그룹세부크리아')] = df[(df['업체명'] == '블루스톤익스체인지')&(df['제조사'] == '그룹세부크리아')].dropna()\n",
    "\n",
    "# 모든오피스\n",
    "# 같은 제조사에서 산 정보들이 있으므로, bfill로 결측치 보간\n",
    "df[(df['업체명'] == '모든오피스')&(df['제조사'] == '청우식품')] = df[(df['업체명'] == '모든오피스')&(df['제조사'] == '청우식품')].fillna(method='bfill')\n",
    "\n",
    "# 싱크로드코리아\n",
    "# 같은 제조사에서 구매한 정보들이 있으므로 bfill로 결측지 보간\n",
    "df[(df['업체명'] == '싱크로드코리아') & (df['제조사'] == 'LG전자')] = df[(df['업체명'] == '싱크로드코리아') & (df['제조사'] == 'LG전자')].fillna(method='bfill')\n",
    "\n",
    "# 왠지 모르겠으나.. 삭제되지 않는 데이터 삭제\n",
    "df.drop([13820, 22729], inplace=True)"
   ]
  },
  {
   "cell_type": "code",
   "execution_count": null,
   "id": "d521da4c",
   "metadata": {
    "ExecuteTime": {
     "end_time": "2023-07-19T04:01:07.824004Z",
     "start_time": "2023-07-19T04:01:07.510128Z"
    }
   },
   "outputs": [],
   "source": [
    "# 결제 방법이 '-'로 처리되어 있는 데이터 변환 진행\n",
    "\n",
    "# 결측치도 일단 '-'로 처리\n",
    "df['결제방법'].fillna('-', inplace=True)\n",
    "\n",
    "# 상품명에 '후불'이 포함되어 있는 데이터는 '후불'로 처리\n",
    "df[df['상품명'].str.contains('후불')] = df[df['상품명'].str.contains('후불')].replace('-', '후불')\n",
    "\n",
    "# '미결제'가 포함되어 있는 상품은 drop\n",
    "df[df['상품명'].str.contains('미결제')] = df[df['상품명'].str.contains('미결제')].dropna()\n",
    "df.drop(df[df['처리상태'].isna()].index, inplace=True)\n",
    "\n",
    "# 나머지 '-'값은 신용카드로 대체\n",
    "df[df['결제방법'].str.contains('-')] = df[df['결제방법'].str.contains('-')].replace('-', '신용카드')"
   ]
  },
  {
   "cell_type": "code",
   "execution_count": null,
   "id": "cd0485de",
   "metadata": {
    "ExecuteTime": {
     "end_time": "2023-07-19T04:01:07.832058Z",
     "start_time": "2023-07-19T04:01:07.825012Z"
    }
   },
   "outputs": [],
   "source": [
    "df_3 = df[['결제방법', '판매금액']]\n",
    "df_3"
   ]
  },
  {
   "cell_type": "code",
   "execution_count": null,
   "id": "117765b1",
   "metadata": {
    "ExecuteTime": {
     "end_time": "2023-07-19T04:01:07.841291Z",
     "start_time": "2023-07-19T04:01:07.833062Z"
    }
   },
   "outputs": [],
   "source": [
    "df_3_log = df_3.copy()\n",
    "df_3_log['판매금액'] = np.log10(df_3['판매금액'])\n",
    "df_3_log"
   ]
  },
  {
   "cell_type": "code",
   "execution_count": null,
   "id": "1d73d555",
   "metadata": {
    "ExecuteTime": {
     "end_time": "2023-07-19T04:01:08.603645Z",
     "start_time": "2023-07-19T04:01:07.842295Z"
    }
   },
   "outputs": [],
   "source": [
    "# add_stat_annotation을 활용 ttest 결과 출력\n",
    "plt.figure(figsize=(20,10))\n",
    "\n",
    "fig1 = sns.boxenplot(data=df_3_log, x='결제방법', y='판매금액', palette='pastel')\n",
    "fig2 = sns.stripplot(data=df_3_log, x='결제방법', y='판매금액', color='r', alpha=0.3)\n",
    "\n",
    "# add_stat_annotation(ax=fig1, data=df_3_log, x='결제방법', y='판매금액',\n",
    "#                    box_pairs=[(('신용카드'), ('포인트')),(('신용카드'), ('웰컴마일')),\n",
    "#                              (('신용카드'), ('현금간편결제')),(('신용카드'), ('적립금')),\n",
    "#                              (('신용카드'), ('현금')),(('신용카드'), ('후불')),\n",
    "#                              (('신용카드'), ('정기결제')),(('신용카드'), ('가상계좌')),\n",
    "#                              (('신용카드'), ('무통장입금'))],\n",
    "#                     test='t-test_ind', text_format='star', loc='inside', verbose=2)"
   ]
  },
  {
   "cell_type": "code",
   "execution_count": null,
   "id": "5154e4b8",
   "metadata": {
    "ExecuteTime": {
     "end_time": "2023-07-19T04:01:08.615337Z",
     "start_time": "2023-07-19T04:01:08.603645Z"
    }
   },
   "outputs": [],
   "source": [
    "df_3.describe()"
   ]
  },
  {
   "cell_type": "markdown",
   "id": "0154e3a2",
   "metadata": {},
   "source": [
    "신용카드를 사용하는 사람들은 비교적 적은 금액부터 많은 금액까지 소비하고 있고,\n",
    "<br>정기결제와 후불 결제 방법은 주로 평균 판매금액 이상인 부분에서 사용되고 있었다."
   ]
  },
  {
   "cell_type": "markdown",
   "id": "2dbd5f90",
   "metadata": {},
   "source": [
    "-----"
   ]
  },
  {
   "cell_type": "markdown",
   "id": "2382a68f",
   "metadata": {},
   "source": [
    "----"
   ]
  },
  {
   "cell_type": "markdown",
   "id": "dac0f450",
   "metadata": {},
   "source": [
    "# 풀이"
   ]
  },
  {
   "cell_type": "markdown",
   "id": "0baa4a33",
   "metadata": {},
   "source": [
    "## 전처리"
   ]
  },
  {
   "cell_type": "markdown",
   "id": "4252824d",
   "metadata": {},
   "source": [
    "### 상품명"
   ]
  },
  {
   "cell_type": "code",
   "execution_count": 2,
   "id": "7ce6c697",
   "metadata": {
    "ExecuteTime": {
     "end_time": "2023-07-19T04:40:16.978228Z",
     "start_time": "2023-07-19T04:40:02.763223Z"
    }
   },
   "outputs": [],
   "source": [
    "df_ans = pd.read_excel('data/미니프로젝트-쇼핑몰 실습데이터.xlsx')"
   ]
  },
  {
   "cell_type": "code",
   "execution_count": 3,
   "id": "53efa6bc",
   "metadata": {
    "ExecuteTime": {
     "end_time": "2023-07-19T04:40:17.043164Z",
     "start_time": "2023-07-19T04:40:16.978228Z"
    }
   },
   "outputs": [],
   "source": [
    "# 상품명에 괄호 있는 것 없는 것 있기 때문에 괄호 안 데이터 삭제해주기\n",
    "df_ans['상품명'] = df_ans['상품명'].apply(lambda x : str(x).split('] ')[-1])"
   ]
  },
  {
   "cell_type": "markdown",
   "id": "4d2f78d5",
   "metadata": {},
   "source": [
    "### 처리상태"
   ]
  },
  {
   "cell_type": "code",
   "execution_count": 4,
   "id": "bdc36f16",
   "metadata": {
    "ExecuteTime": {
     "end_time": "2023-07-19T04:40:17.054750Z",
     "start_time": "2023-07-19T04:40:17.044175Z"
    }
   },
   "outputs": [],
   "source": [
    "# 구매확정만 순수익이므로, 편의상 새로운 컬럼에 따로 저장\n",
    "df_ans['처리상태_bin'] = df_ans['처리상태'] == '구매확정'"
   ]
  },
  {
   "cell_type": "markdown",
   "id": "91b70dac",
   "metadata": {},
   "source": [
    "### 할부기간"
   ]
  },
  {
   "cell_type": "code",
   "execution_count": 5,
   "id": "2eb405d5",
   "metadata": {
    "ExecuteTime": {
     "end_time": "2023-07-19T04:40:17.070012Z",
     "start_time": "2023-07-19T04:40:17.054750Z"
    }
   },
   "outputs": [],
   "source": [
    "# 할부기간 nan값, 1개월 -> 일시불로 변환\n",
    "# nan값은 일시불이 아닐 수 있지만, 데이터를 알고 있는 상황이기에 위와 같이 처리\n",
    "df_ans['할부기간'] = df_ans['할부기간'].fillna('1개월')"
   ]
  },
  {
   "cell_type": "code",
   "execution_count": 6,
   "id": "30ec1752",
   "metadata": {
    "ExecuteTime": {
     "end_time": "2023-07-19T04:40:17.088868Z",
     "start_time": "2023-07-19T04:40:17.070012Z"
    }
   },
   "outputs": [],
   "source": [
    "df_ans['할부기간'] = df_ans['할부기간'].apply(lambda x : '1개월' if x == '일시불' else x)"
   ]
  },
  {
   "cell_type": "code",
   "execution_count": 7,
   "id": "423ae494",
   "metadata": {
    "ExecuteTime": {
     "end_time": "2023-07-19T04:40:17.172705Z",
     "start_time": "2023-07-19T04:40:17.088868Z"
    }
   },
   "outputs": [],
   "source": [
    "# 할부 기간 숫자로 처리\n",
    "df_ans['할부기간'] = df_ans['할부기간'].apply(lambda x : int(x.replace('개월', '')))"
   ]
  },
  {
   "cell_type": "markdown",
   "id": "9977d304",
   "metadata": {},
   "source": [
    "### 결제방법"
   ]
  },
  {
   "cell_type": "code",
   "execution_count": 8,
   "id": "138c203f",
   "metadata": {
    "ExecuteTime": {
     "end_time": "2023-07-19T04:40:17.217552Z",
     "start_time": "2023-07-19T04:40:17.172705Z"
    }
   },
   "outputs": [],
   "source": [
    "# 결측치 채우고 앞글자만 따오기\n",
    "df_ans['결제방법'] = df_ans['결제방법'].fillna('-')\n",
    "df_ans['결제방법'] = df_ans['결제방법'].apply(lambda x : '-' if x[0] == ' ' else x[0])"
   ]
  },
  {
   "cell_type": "code",
   "execution_count": 9,
   "id": "a6fdc36a",
   "metadata": {
    "ExecuteTime": {
     "end_time": "2023-07-19T04:40:17.241757Z",
     "start_time": "2023-07-19T04:40:17.218569Z"
    }
   },
   "outputs": [
    {
     "data": {
      "text/plain": [
       "array(['신', '가', '후', '무', '-', '포', '적', '웰', '정', '현'], dtype=object)"
      ]
     },
     "execution_count": 9,
     "metadata": {},
     "output_type": "execute_result"
    }
   ],
   "source": [
    "df_ans['결제방법'].unique()"
   ]
  },
  {
   "cell_type": "markdown",
   "id": "8ba6aaef",
   "metadata": {},
   "source": [
    "## RFM"
   ]
  },
  {
   "cell_type": "code",
   "execution_count": 10,
   "id": "36062f78",
   "metadata": {
    "ExecuteTime": {
     "end_time": "2023-07-19T04:40:17.274894Z",
     "start_time": "2023-07-19T04:40:17.241757Z"
    }
   },
   "outputs": [
    {
     "data": {
      "text/html": [
       "<div>\n",
       "<style scoped>\n",
       "    .dataframe tbody tr th:only-of-type {\n",
       "        vertical-align: middle;\n",
       "    }\n",
       "\n",
       "    .dataframe tbody tr th {\n",
       "        vertical-align: top;\n",
       "    }\n",
       "\n",
       "    .dataframe thead th {\n",
       "        text-align: right;\n",
       "    }\n",
       "</style>\n",
       "<table border=\"1\" class=\"dataframe\">\n",
       "  <thead>\n",
       "    <tr style=\"text-align: right;\">\n",
       "      <th></th>\n",
       "      <th>주문번호</th>\n",
       "      <th>업체명</th>\n",
       "      <th>상품명</th>\n",
       "      <th>제조사</th>\n",
       "      <th>주문수량</th>\n",
       "      <th>판매금액</th>\n",
       "      <th>결제방법</th>\n",
       "      <th>주문일자</th>\n",
       "      <th>처리상태</th>\n",
       "      <th>초도상품</th>\n",
       "      <th>제작문구 내역</th>\n",
       "      <th>할부기간</th>\n",
       "      <th>처리상태_bin</th>\n",
       "    </tr>\n",
       "  </thead>\n",
       "  <tbody>\n",
       "    <tr>\n",
       "      <th>218600</th>\n",
       "      <td>221108105148171</td>\n",
       "      <td>다우기술</td>\n",
       "      <td>2차-신세계 상품권 모바일 교환권-1만원권</td>\n",
       "      <td>신세계</td>\n",
       "      <td>17</td>\n",
       "      <td>161500</td>\n",
       "      <td>신</td>\n",
       "      <td>2022-11-08 10:49:28</td>\n",
       "      <td>배송완료</td>\n",
       "      <td>N</td>\n",
       "      <td>NaN</td>\n",
       "      <td>1</td>\n",
       "      <td>False</td>\n",
       "    </tr>\n",
       "    <tr>\n",
       "      <th>218599</th>\n",
       "      <td>221108104735216</td>\n",
       "      <td>다우기술</td>\n",
       "      <td>아이스 카페 아메리카노 T</td>\n",
       "      <td>스타벅스</td>\n",
       "      <td>1</td>\n",
       "      <td>4050</td>\n",
       "      <td>포</td>\n",
       "      <td>2022-11-08 10:45:14</td>\n",
       "      <td>배송완료</td>\n",
       "      <td>N</td>\n",
       "      <td>NaN</td>\n",
       "      <td>1</td>\n",
       "      <td>False</td>\n",
       "    </tr>\n",
       "    <tr>\n",
       "      <th>218598</th>\n",
       "      <td>221108104536307</td>\n",
       "      <td>에이스디포</td>\n",
       "      <td>아크릴 사인</td>\n",
       "      <td>HB</td>\n",
       "      <td>1</td>\n",
       "      <td>26900</td>\n",
       "      <td>신</td>\n",
       "      <td>2022-11-08 10:43:15</td>\n",
       "      <td>배송준비</td>\n",
       "      <td>N</td>\n",
       "      <td>NaN</td>\n",
       "      <td>1</td>\n",
       "      <td>False</td>\n",
       "    </tr>\n",
       "    <tr>\n",
       "      <th>218597</th>\n",
       "      <td>221108104041264</td>\n",
       "      <td>에이스디포</td>\n",
       "      <td>아크릴 사인</td>\n",
       "      <td>HB</td>\n",
       "      <td>1</td>\n",
       "      <td>26900</td>\n",
       "      <td>웰</td>\n",
       "      <td>2022-11-08 10:38:21</td>\n",
       "      <td>결제완료</td>\n",
       "      <td>Y</td>\n",
       "      <td>NaN</td>\n",
       "      <td>1</td>\n",
       "      <td>False</td>\n",
       "    </tr>\n",
       "    <tr>\n",
       "      <th>218596</th>\n",
       "      <td>221108104041264</td>\n",
       "      <td>에이스디포</td>\n",
       "      <td>입체 액자형 현판</td>\n",
       "      <td>에이스디포</td>\n",
       "      <td>1</td>\n",
       "      <td>35000</td>\n",
       "      <td>웰</td>\n",
       "      <td>2022-11-08 10:38:21</td>\n",
       "      <td>결제완료</td>\n",
       "      <td>Y</td>\n",
       "      <td>NaN</td>\n",
       "      <td>1</td>\n",
       "      <td>False</td>\n",
       "    </tr>\n",
       "    <tr>\n",
       "      <th>...</th>\n",
       "      <td>...</td>\n",
       "      <td>...</td>\n",
       "      <td>...</td>\n",
       "      <td>...</td>\n",
       "      <td>...</td>\n",
       "      <td>...</td>\n",
       "      <td>...</td>\n",
       "      <td>...</td>\n",
       "      <td>...</td>\n",
       "      <td>...</td>\n",
       "      <td>...</td>\n",
       "      <td>...</td>\n",
       "      <td>...</td>\n",
       "    </tr>\n",
       "    <tr>\n",
       "      <th>6</th>\n",
       "      <td>191216173241622</td>\n",
       "      <td>지니</td>\n",
       "      <td>eHBM셀파수학교실-연필(빨강)_1세트 50개입</td>\n",
       "      <td>HB</td>\n",
       "      <td>1</td>\n",
       "      <td>6000</td>\n",
       "      <td>신</td>\n",
       "      <td>2019-12-16 17:33:43</td>\n",
       "      <td>구매확정</td>\n",
       "      <td>N</td>\n",
       "      <td>NaN</td>\n",
       "      <td>1</td>\n",
       "      <td>True</td>\n",
       "    </tr>\n",
       "    <tr>\n",
       "      <th>7</th>\n",
       "      <td>191216173241622</td>\n",
       "      <td>지니</td>\n",
       "      <td>eHBM셀파수학교실-물티슈_1세트 100개입</td>\n",
       "      <td>HB</td>\n",
       "      <td>1</td>\n",
       "      <td>20000</td>\n",
       "      <td>신</td>\n",
       "      <td>2019-12-16 17:33:43</td>\n",
       "      <td>구매확정</td>\n",
       "      <td>N</td>\n",
       "      <td>NaN</td>\n",
       "      <td>1</td>\n",
       "      <td>True</td>\n",
       "    </tr>\n",
       "    <tr>\n",
       "      <th>2</th>\n",
       "      <td>191216100347429</td>\n",
       "      <td>지니</td>\n",
       "      <td>eHBM셀파수학교실 삼색볼펜-1세트 50개입</td>\n",
       "      <td>HB</td>\n",
       "      <td>3</td>\n",
       "      <td>67500</td>\n",
       "      <td>신</td>\n",
       "      <td>2019-12-16 10:04:50</td>\n",
       "      <td>구매확정</td>\n",
       "      <td>N</td>\n",
       "      <td>NaN</td>\n",
       "      <td>1</td>\n",
       "      <td>True</td>\n",
       "    </tr>\n",
       "    <tr>\n",
       "      <th>1</th>\n",
       "      <td>191216100347429</td>\n",
       "      <td>지니</td>\n",
       "      <td>eHBM셀파수학교실 비닐봉투-1세트 100장입</td>\n",
       "      <td>HB</td>\n",
       "      <td>1</td>\n",
       "      <td>5000</td>\n",
       "      <td>신</td>\n",
       "      <td>2019-12-16 10:04:50</td>\n",
       "      <td>구매확정</td>\n",
       "      <td>N</td>\n",
       "      <td>NaN</td>\n",
       "      <td>1</td>\n",
       "      <td>True</td>\n",
       "    </tr>\n",
       "    <tr>\n",
       "      <th>0</th>\n",
       "      <td>191213170236874</td>\n",
       "      <td>지니</td>\n",
       "      <td>eHBM셀파수학교실 비닐봉투-1세트 100장입</td>\n",
       "      <td>HB</td>\n",
       "      <td>1</td>\n",
       "      <td>5000</td>\n",
       "      <td>신</td>\n",
       "      <td>2019-12-13 17:03:37</td>\n",
       "      <td>구매확정</td>\n",
       "      <td>N</td>\n",
       "      <td>NaN</td>\n",
       "      <td>1</td>\n",
       "      <td>True</td>\n",
       "    </tr>\n",
       "  </tbody>\n",
       "</table>\n",
       "<p>218601 rows × 13 columns</p>\n",
       "</div>"
      ],
      "text/plain": [
       "                   주문번호    업체명                         상품명    제조사  주문수량  \\\n",
       "218600  221108105148171   다우기술     2차-신세계 상품권 모바일 교환권-1만원권    신세계    17   \n",
       "218599  221108104735216   다우기술              아이스 카페 아메리카노 T   스타벅스     1   \n",
       "218598  221108104536307  에이스디포                      아크릴 사인     HB     1   \n",
       "218597  221108104041264  에이스디포                      아크릴 사인     HB     1   \n",
       "218596  221108104041264  에이스디포                   입체 액자형 현판  에이스디포     1   \n",
       "...                 ...    ...                         ...    ...   ...   \n",
       "6       191216173241622     지니  eHBM셀파수학교실-연필(빨강)_1세트 50개입     HB     1   \n",
       "7       191216173241622     지니    eHBM셀파수학교실-물티슈_1세트 100개입     HB     1   \n",
       "2       191216100347429     지니    eHBM셀파수학교실 삼색볼펜-1세트 50개입     HB     3   \n",
       "1       191216100347429     지니   eHBM셀파수학교실 비닐봉투-1세트 100장입     HB     1   \n",
       "0       191213170236874     지니   eHBM셀파수학교실 비닐봉투-1세트 100장입     HB     1   \n",
       "\n",
       "          판매금액 결제방법                주문일자  처리상태 초도상품 제작문구 내역  할부기간  처리상태_bin  \n",
       "218600  161500    신 2022-11-08 10:49:28  배송완료    N     NaN     1     False  \n",
       "218599    4050    포 2022-11-08 10:45:14  배송완료    N     NaN     1     False  \n",
       "218598   26900    신 2022-11-08 10:43:15  배송준비    N     NaN     1     False  \n",
       "218597   26900    웰 2022-11-08 10:38:21  결제완료    Y     NaN     1     False  \n",
       "218596   35000    웰 2022-11-08 10:38:21  결제완료    Y     NaN     1     False  \n",
       "...        ...  ...                 ...   ...  ...     ...   ...       ...  \n",
       "6         6000    신 2019-12-16 17:33:43  구매확정    N     NaN     1      True  \n",
       "7        20000    신 2019-12-16 17:33:43  구매확정    N     NaN     1      True  \n",
       "2        67500    신 2019-12-16 10:04:50  구매확정    N     NaN     1      True  \n",
       "1         5000    신 2019-12-16 10:04:50  구매확정    N     NaN     1      True  \n",
       "0         5000    신 2019-12-13 17:03:37  구매확정    N     NaN     1      True  \n",
       "\n",
       "[218601 rows x 13 columns]"
      ]
     },
     "execution_count": 10,
     "metadata": {},
     "output_type": "execute_result"
    }
   ],
   "source": [
    "# Recency\n",
    "df_ans.sort_values('주문일자', ascending=False)"
   ]
  },
  {
   "cell_type": "code",
   "execution_count": 11,
   "id": "0871a081",
   "metadata": {
    "ExecuteTime": {
     "end_time": "2023-07-19T04:40:17.284363Z",
     "start_time": "2023-07-19T04:40:17.274894Z"
    }
   },
   "outputs": [
    {
     "data": {
      "text/plain": [
       "다우기술        85553\n",
       "지니          61835\n",
       "쥬크박스        18661\n",
       "에이스디포        8388\n",
       "오피스퀵         7173\n",
       "            ...  \n",
       "리체              4\n",
       "프린피아            4\n",
       "링커블테크놀러지        3\n",
       "한샘글로벌           3\n",
       "에어인             1\n",
       "Name: 업체명, Length: 89, dtype: int64"
      ]
     },
     "execution_count": 11,
     "metadata": {},
     "output_type": "execute_result"
    }
   ],
   "source": [
    "# Frequency\n",
    "df_ans['업체명'].value_counts()"
   ]
  },
  {
   "cell_type": "code",
   "execution_count": 12,
   "id": "fbf5f78b",
   "metadata": {
    "ExecuteTime": {
     "end_time": "2023-07-19T04:40:17.303194Z",
     "start_time": "2023-07-19T04:40:17.285367Z"
    }
   },
   "outputs": [
    {
     "data": {
      "text/html": [
       "<div>\n",
       "<style scoped>\n",
       "    .dataframe tbody tr th:only-of-type {\n",
       "        vertical-align: middle;\n",
       "    }\n",
       "\n",
       "    .dataframe tbody tr th {\n",
       "        vertical-align: top;\n",
       "    }\n",
       "\n",
       "    .dataframe thead th {\n",
       "        text-align: right;\n",
       "    }\n",
       "</style>\n",
       "<table border=\"1\" class=\"dataframe\">\n",
       "  <thead>\n",
       "    <tr style=\"text-align: right;\">\n",
       "      <th></th>\n",
       "      <th>주문번호</th>\n",
       "      <th>주문수량</th>\n",
       "      <th>판매금액</th>\n",
       "      <th>할부기간</th>\n",
       "      <th>처리상태_bin</th>\n",
       "    </tr>\n",
       "    <tr>\n",
       "      <th>업체명</th>\n",
       "      <th></th>\n",
       "      <th></th>\n",
       "      <th></th>\n",
       "      <th></th>\n",
       "      <th></th>\n",
       "    </tr>\n",
       "  </thead>\n",
       "  <tbody>\n",
       "    <tr>\n",
       "      <th>다우기술</th>\n",
       "      <td>113306969066849808</td>\n",
       "      <td>231561</td>\n",
       "      <td>3687810416</td>\n",
       "      <td>85553</td>\n",
       "      <td>65981</td>\n",
       "    </tr>\n",
       "    <tr>\n",
       "      <th>천재태블릿</th>\n",
       "      <td>631096814603114872</td>\n",
       "      <td>5967</td>\n",
       "      <td>2362932000</td>\n",
       "      <td>8993</td>\n",
       "      <td>1772</td>\n",
       "    </tr>\n",
       "    <tr>\n",
       "      <th>지니 태블릿</th>\n",
       "      <td>311859783704791805</td>\n",
       "      <td>3714</td>\n",
       "      <td>1455928000</td>\n",
       "      <td>11202</td>\n",
       "      <td>1155</td>\n",
       "    </tr>\n",
       "    <tr>\n",
       "      <th>지니</th>\n",
       "      <td>-5433315132845871932</td>\n",
       "      <td>173369</td>\n",
       "      <td>1241881825</td>\n",
       "      <td>61835</td>\n",
       "      <td>44562</td>\n",
       "    </tr>\n",
       "    <tr>\n",
       "      <th>지니 태블릿(후불집행)</th>\n",
       "      <td>285890286193804950</td>\n",
       "      <td>2732</td>\n",
       "      <td>1081872000</td>\n",
       "      <td>1297</td>\n",
       "      <td>1209</td>\n",
       "    </tr>\n",
       "    <tr>\n",
       "      <th>...</th>\n",
       "      <td>...</td>\n",
       "      <td>...</td>\n",
       "      <td>...</td>\n",
       "      <td>...</td>\n",
       "      <td>...</td>\n",
       "    </tr>\n",
       "    <tr>\n",
       "      <th>한샘글로벌</th>\n",
       "      <td>663305405175798</td>\n",
       "      <td>7</td>\n",
       "      <td>93400</td>\n",
       "      <td>3</td>\n",
       "      <td>0</td>\n",
       "    </tr>\n",
       "    <tr>\n",
       "      <th>이선생자석교구</th>\n",
       "      <td>1607610728585356</td>\n",
       "      <td>8</td>\n",
       "      <td>86700</td>\n",
       "      <td>8</td>\n",
       "      <td>6</td>\n",
       "    </tr>\n",
       "    <tr>\n",
       "      <th>리체</th>\n",
       "      <td>884144556390321</td>\n",
       "      <td>4</td>\n",
       "      <td>78900</td>\n",
       "      <td>4</td>\n",
       "      <td>2</td>\n",
       "    </tr>\n",
       "    <tr>\n",
       "      <th>에어인</th>\n",
       "      <td>220519010016509</td>\n",
       "      <td>1</td>\n",
       "      <td>20900</td>\n",
       "      <td>1</td>\n",
       "      <td>0</td>\n",
       "    </tr>\n",
       "    <tr>\n",
       "      <th>프린피아</th>\n",
       "      <td>840428010870400</td>\n",
       "      <td>6</td>\n",
       "      <td>15840</td>\n",
       "      <td>4</td>\n",
       "      <td>4</td>\n",
       "    </tr>\n",
       "  </tbody>\n",
       "</table>\n",
       "<p>89 rows × 5 columns</p>\n",
       "</div>"
      ],
      "text/plain": [
       "                             주문번호    주문수량        판매금액   할부기간  처리상태_bin\n",
       "업체명                                                                   \n",
       "다우기술           113306969066849808  231561  3687810416  85553     65981\n",
       "천재태블릿          631096814603114872    5967  2362932000   8993      1772\n",
       "지니 태블릿         311859783704791805    3714  1455928000  11202      1155\n",
       "지니           -5433315132845871932  173369  1241881825  61835     44562\n",
       "지니 태블릿(후불집행)   285890286193804950    2732  1081872000   1297      1209\n",
       "...                           ...     ...         ...    ...       ...\n",
       "한샘글로벌             663305405175798       7       93400      3         0\n",
       "이선생자석교구          1607610728585356       8       86700      8         6\n",
       "리체                884144556390321       4       78900      4         2\n",
       "에어인               220519010016509       1       20900      1         0\n",
       "프린피아              840428010870400       6       15840      4         4\n",
       "\n",
       "[89 rows x 5 columns]"
      ]
     },
     "execution_count": 12,
     "metadata": {},
     "output_type": "execute_result"
    }
   ],
   "source": [
    "# Monetary\n",
    "df_ans.groupby('업체명').sum().sort_values('판매금액', ascending=False)"
   ]
  },
  {
   "cell_type": "code",
   "execution_count": 13,
   "id": "577fd4d1",
   "metadata": {
    "ExecuteTime": {
     "end_time": "2023-07-19T04:40:17.320479Z",
     "start_time": "2023-07-19T04:40:17.303194Z"
    }
   },
   "outputs": [
    {
     "data": {
      "text/html": [
       "<div>\n",
       "<style scoped>\n",
       "    .dataframe tbody tr th:only-of-type {\n",
       "        vertical-align: middle;\n",
       "    }\n",
       "\n",
       "    .dataframe tbody tr th {\n",
       "        vertical-align: top;\n",
       "    }\n",
       "\n",
       "    .dataframe thead th {\n",
       "        text-align: right;\n",
       "    }\n",
       "</style>\n",
       "<table border=\"1\" class=\"dataframe\">\n",
       "  <thead>\n",
       "    <tr style=\"text-align: right;\">\n",
       "      <th></th>\n",
       "      <th>주문번호</th>\n",
       "      <th>주문수량</th>\n",
       "      <th>판매금액</th>\n",
       "      <th>할부기간</th>\n",
       "      <th>처리상태_bin</th>\n",
       "    </tr>\n",
       "    <tr>\n",
       "      <th>업체명</th>\n",
       "      <th></th>\n",
       "      <th></th>\n",
       "      <th></th>\n",
       "      <th></th>\n",
       "      <th></th>\n",
       "    </tr>\n",
       "  </thead>\n",
       "  <tbody>\n",
       "    <tr>\n",
       "      <th>다우기술</th>\n",
       "      <td>113306969066849808</td>\n",
       "      <td>231561</td>\n",
       "      <td>3687810416</td>\n",
       "      <td>85553</td>\n",
       "      <td>65981</td>\n",
       "    </tr>\n",
       "    <tr>\n",
       "      <th>천재태블릿</th>\n",
       "      <td>631096814603114872</td>\n",
       "      <td>5967</td>\n",
       "      <td>2362932000</td>\n",
       "      <td>8993</td>\n",
       "      <td>1772</td>\n",
       "    </tr>\n",
       "    <tr>\n",
       "      <th>지니 태블릿</th>\n",
       "      <td>311859783704791805</td>\n",
       "      <td>3714</td>\n",
       "      <td>1455928000</td>\n",
       "      <td>11202</td>\n",
       "      <td>1155</td>\n",
       "    </tr>\n",
       "    <tr>\n",
       "      <th>지니</th>\n",
       "      <td>-5433315132845871932</td>\n",
       "      <td>173369</td>\n",
       "      <td>1241881825</td>\n",
       "      <td>61835</td>\n",
       "      <td>44562</td>\n",
       "    </tr>\n",
       "    <tr>\n",
       "      <th>지니 태블릿(후불집행)</th>\n",
       "      <td>285890286193804950</td>\n",
       "      <td>2732</td>\n",
       "      <td>1081872000</td>\n",
       "      <td>1297</td>\n",
       "      <td>1209</td>\n",
       "    </tr>\n",
       "    <tr>\n",
       "      <th>...</th>\n",
       "      <td>...</td>\n",
       "      <td>...</td>\n",
       "      <td>...</td>\n",
       "      <td>...</td>\n",
       "      <td>...</td>\n",
       "    </tr>\n",
       "    <tr>\n",
       "      <th>한샘글로벌</th>\n",
       "      <td>663305405175798</td>\n",
       "      <td>7</td>\n",
       "      <td>93400</td>\n",
       "      <td>3</td>\n",
       "      <td>0</td>\n",
       "    </tr>\n",
       "    <tr>\n",
       "      <th>이선생자석교구</th>\n",
       "      <td>1607610728585356</td>\n",
       "      <td>8</td>\n",
       "      <td>86700</td>\n",
       "      <td>8</td>\n",
       "      <td>6</td>\n",
       "    </tr>\n",
       "    <tr>\n",
       "      <th>리체</th>\n",
       "      <td>884144556390321</td>\n",
       "      <td>4</td>\n",
       "      <td>78900</td>\n",
       "      <td>4</td>\n",
       "      <td>2</td>\n",
       "    </tr>\n",
       "    <tr>\n",
       "      <th>에어인</th>\n",
       "      <td>220519010016509</td>\n",
       "      <td>1</td>\n",
       "      <td>20900</td>\n",
       "      <td>1</td>\n",
       "      <td>0</td>\n",
       "    </tr>\n",
       "    <tr>\n",
       "      <th>프린피아</th>\n",
       "      <td>840428010870400</td>\n",
       "      <td>6</td>\n",
       "      <td>15840</td>\n",
       "      <td>4</td>\n",
       "      <td>4</td>\n",
       "    </tr>\n",
       "  </tbody>\n",
       "</table>\n",
       "<p>89 rows × 5 columns</p>\n",
       "</div>"
      ],
      "text/plain": [
       "                             주문번호    주문수량        판매금액   할부기간  처리상태_bin\n",
       "업체명                                                                   \n",
       "다우기술           113306969066849808  231561  3687810416  85553     65981\n",
       "천재태블릿          631096814603114872    5967  2362932000   8993      1772\n",
       "지니 태블릿         311859783704791805    3714  1455928000  11202      1155\n",
       "지니           -5433315132845871932  173369  1241881825  61835     44562\n",
       "지니 태블릿(후불집행)   285890286193804950    2732  1081872000   1297      1209\n",
       "...                           ...     ...         ...    ...       ...\n",
       "한샘글로벌             663305405175798       7       93400      3         0\n",
       "이선생자석교구          1607610728585356       8       86700      8         6\n",
       "리체                884144556390321       4       78900      4         2\n",
       "에어인               220519010016509       1       20900      1         0\n",
       "프린피아              840428010870400       6       15840      4         4\n",
       "\n",
       "[89 rows x 5 columns]"
      ]
     },
     "execution_count": 13,
     "metadata": {},
     "output_type": "execute_result"
    }
   ],
   "source": [
    "df_ans.groupby('업체명').sum().sort_values('판매금액', ascending=False)"
   ]
  },
  {
   "cell_type": "markdown",
   "id": "9bf17229",
   "metadata": {},
   "source": [
    "## 매출 시각화"
   ]
  },
  {
   "cell_type": "code",
   "execution_count": 24,
   "id": "81fb7a00",
   "metadata": {
    "ExecuteTime": {
     "end_time": "2023-07-19T04:55:45.706026Z",
     "start_time": "2023-07-19T04:55:44.712699Z"
    }
   },
   "outputs": [],
   "source": [
    "# 년, 월 추출\n",
    "# datetime 형식이라면 추출하기 쉽다\n",
    "\n",
    "year = df_ans['주문일자'].apply(lambda x : x.year)\n",
    "month = df_ans['주문일자'].apply(lambda x : x.month)"
   ]
  },
  {
   "cell_type": "code",
   "execution_count": 15,
   "id": "25c05be8",
   "metadata": {
    "ExecuteTime": {
     "end_time": "2023-07-19T04:41:46.936727Z",
     "start_time": "2023-07-19T04:40:17.488565Z"
    },
    "scrolled": true
   },
   "outputs": [
    {
     "ename": "KeyboardInterrupt",
     "evalue": "",
     "output_type": "error",
     "traceback": [
      "\u001b[1;31m---------------------------------------------------------------------------\u001b[0m",
      "\u001b[1;31mKeyboardInterrupt\u001b[0m                         Traceback (most recent call last)",
      "Cell \u001b[1;32mIn[15], line 1\u001b[0m\n\u001b[1;32m----> 1\u001b[0m sns\u001b[38;5;241m.\u001b[39mbarplot(x\u001b[38;5;241m=\u001b[39myear, y\u001b[38;5;241m=\u001b[39mdf_ans[\u001b[38;5;124m'\u001b[39m\u001b[38;5;124m주문일자\u001b[39m\u001b[38;5;124m'\u001b[39m])\n",
      "File \u001b[1;32m~\\.conda\\envs\\lhs\\Lib\\site-packages\\seaborn\\categorical.py:2755\u001b[0m, in \u001b[0;36mbarplot\u001b[1;34m(data, x, y, hue, order, hue_order, estimator, errorbar, n_boot, units, seed, orient, color, palette, saturation, width, errcolor, errwidth, capsize, dodge, ci, ax, **kwargs)\u001b[0m\n\u001b[0;32m   2752\u001b[0m \u001b[38;5;28;01mif\u001b[39;00m estimator \u001b[38;5;129;01mis\u001b[39;00m \u001b[38;5;28mlen\u001b[39m:\n\u001b[0;32m   2753\u001b[0m     estimator \u001b[38;5;241m=\u001b[39m \u001b[38;5;124m\"\u001b[39m\u001b[38;5;124msize\u001b[39m\u001b[38;5;124m\"\u001b[39m\n\u001b[1;32m-> 2755\u001b[0m plotter \u001b[38;5;241m=\u001b[39m _BarPlotter(x, y, hue, data, order, hue_order,\n\u001b[0;32m   2756\u001b[0m                       estimator, errorbar, n_boot, units, seed,\n\u001b[0;32m   2757\u001b[0m                       orient, color, palette, saturation,\n\u001b[0;32m   2758\u001b[0m                       width, errcolor, errwidth, capsize, dodge)\n\u001b[0;32m   2760\u001b[0m \u001b[38;5;28;01mif\u001b[39;00m ax \u001b[38;5;129;01mis\u001b[39;00m \u001b[38;5;28;01mNone\u001b[39;00m:\n\u001b[0;32m   2761\u001b[0m     ax \u001b[38;5;241m=\u001b[39m plt\u001b[38;5;241m.\u001b[39mgca()\n",
      "File \u001b[1;32m~\\.conda\\envs\\lhs\\Lib\\site-packages\\seaborn\\categorical.py:1533\u001b[0m, in \u001b[0;36m_BarPlotter.__init__\u001b[1;34m(self, x, y, hue, data, order, hue_order, estimator, errorbar, n_boot, units, seed, orient, color, palette, saturation, width, errcolor, errwidth, capsize, dodge)\u001b[0m\n\u001b[0;32m   1530\u001b[0m \u001b[38;5;28mself\u001b[39m\u001b[38;5;241m.\u001b[39mestablish_variables(x, y, hue, data, orient,\n\u001b[0;32m   1531\u001b[0m                          order, hue_order, units)\n\u001b[0;32m   1532\u001b[0m \u001b[38;5;28mself\u001b[39m\u001b[38;5;241m.\u001b[39mestablish_colors(color, palette, saturation)\n\u001b[1;32m-> 1533\u001b[0m \u001b[38;5;28mself\u001b[39m\u001b[38;5;241m.\u001b[39mestimate_statistic(estimator, errorbar, n_boot, seed)\n\u001b[0;32m   1535\u001b[0m \u001b[38;5;28mself\u001b[39m\u001b[38;5;241m.\u001b[39mdodge \u001b[38;5;241m=\u001b[39m dodge\n\u001b[0;32m   1536\u001b[0m \u001b[38;5;28mself\u001b[39m\u001b[38;5;241m.\u001b[39mwidth \u001b[38;5;241m=\u001b[39m width\n",
      "File \u001b[1;32m~\\.conda\\envs\\lhs\\Lib\\site-packages\\seaborn\\categorical.py:1461\u001b[0m, in \u001b[0;36m_CategoricalStatPlotter.estimate_statistic\u001b[1;34m(self, estimator, errorbar, n_boot, seed)\u001b[0m\n\u001b[0;32m   1458\u001b[0m \u001b[38;5;28;01mif\u001b[39;00m \u001b[38;5;28mself\u001b[39m\u001b[38;5;241m.\u001b[39mplot_units \u001b[38;5;129;01mis\u001b[39;00m \u001b[38;5;129;01mnot\u001b[39;00m \u001b[38;5;28;01mNone\u001b[39;00m:\n\u001b[0;32m   1459\u001b[0m     df[\u001b[38;5;124m\"\u001b[39m\u001b[38;5;124munits\u001b[39m\u001b[38;5;124m\"\u001b[39m] \u001b[38;5;241m=\u001b[39m \u001b[38;5;28mself\u001b[39m\u001b[38;5;241m.\u001b[39mplot_units[i]\n\u001b[1;32m-> 1461\u001b[0m res \u001b[38;5;241m=\u001b[39m agg(df, var)\n\u001b[0;32m   1463\u001b[0m statistic\u001b[38;5;241m.\u001b[39mappend(res[var])\n\u001b[0;32m   1464\u001b[0m \u001b[38;5;28;01mif\u001b[39;00m errorbar \u001b[38;5;129;01mis\u001b[39;00m \u001b[38;5;129;01mnot\u001b[39;00m \u001b[38;5;28;01mNone\u001b[39;00m:\n",
      "File \u001b[1;32m~\\.conda\\envs\\lhs\\Lib\\site-packages\\seaborn\\_statistics.py:513\u001b[0m, in \u001b[0;36mEstimateAggregator.__call__\u001b[1;34m(self, data, var)\u001b[0m\n\u001b[0;32m    511\u001b[0m \u001b[38;5;28;01melif\u001b[39;00m \u001b[38;5;28mself\u001b[39m\u001b[38;5;241m.\u001b[39merror_method \u001b[38;5;241m==\u001b[39m \u001b[38;5;124m\"\u001b[39m\u001b[38;5;124mci\u001b[39m\u001b[38;5;124m\"\u001b[39m:\n\u001b[0;32m    512\u001b[0m     units \u001b[38;5;241m=\u001b[39m data\u001b[38;5;241m.\u001b[39mget(\u001b[38;5;124m\"\u001b[39m\u001b[38;5;124munits\u001b[39m\u001b[38;5;124m\"\u001b[39m, \u001b[38;5;28;01mNone\u001b[39;00m)\n\u001b[1;32m--> 513\u001b[0m     boots \u001b[38;5;241m=\u001b[39m bootstrap(vals, units\u001b[38;5;241m=\u001b[39munits, func\u001b[38;5;241m=\u001b[39m\u001b[38;5;28mself\u001b[39m\u001b[38;5;241m.\u001b[39mestimator, \u001b[38;5;241m*\u001b[39m\u001b[38;5;241m*\u001b[39m\u001b[38;5;28mself\u001b[39m\u001b[38;5;241m.\u001b[39mboot_kws)\n\u001b[0;32m    514\u001b[0m     err_min, err_max \u001b[38;5;241m=\u001b[39m _percentile_interval(boots, \u001b[38;5;28mself\u001b[39m\u001b[38;5;241m.\u001b[39merror_level)\n\u001b[0;32m    516\u001b[0m \u001b[38;5;28;01mreturn\u001b[39;00m pd\u001b[38;5;241m.\u001b[39mSeries({var: estimate, \u001b[38;5;124mf\u001b[39m\u001b[38;5;124m\"\u001b[39m\u001b[38;5;132;01m{\u001b[39;00mvar\u001b[38;5;132;01m}\u001b[39;00m\u001b[38;5;124mmin\u001b[39m\u001b[38;5;124m\"\u001b[39m: err_min, \u001b[38;5;124mf\u001b[39m\u001b[38;5;124m\"\u001b[39m\u001b[38;5;132;01m{\u001b[39;00mvar\u001b[38;5;132;01m}\u001b[39;00m\u001b[38;5;124mmax\u001b[39m\u001b[38;5;124m\"\u001b[39m: err_max})\n",
      "File \u001b[1;32m~\\.conda\\envs\\lhs\\Lib\\site-packages\\seaborn\\algorithms.py:97\u001b[0m, in \u001b[0;36mbootstrap\u001b[1;34m(*args, **kwargs)\u001b[0m\n\u001b[0;32m     95\u001b[0m \u001b[38;5;28;01mfor\u001b[39;00m i \u001b[38;5;129;01min\u001b[39;00m \u001b[38;5;28mrange\u001b[39m(\u001b[38;5;28mint\u001b[39m(n_boot)):\n\u001b[0;32m     96\u001b[0m     resampler \u001b[38;5;241m=\u001b[39m integers(\u001b[38;5;241m0\u001b[39m, n, n, dtype\u001b[38;5;241m=\u001b[39mnp\u001b[38;5;241m.\u001b[39mintp)  \u001b[38;5;66;03m# intp is indexing dtype\u001b[39;00m\n\u001b[1;32m---> 97\u001b[0m     sample \u001b[38;5;241m=\u001b[39m [a\u001b[38;5;241m.\u001b[39mtake(resampler, axis\u001b[38;5;241m=\u001b[39m\u001b[38;5;241m0\u001b[39m) \u001b[38;5;28;01mfor\u001b[39;00m a \u001b[38;5;129;01min\u001b[39;00m args]\n\u001b[0;32m     98\u001b[0m     boot_dist\u001b[38;5;241m.\u001b[39mappend(f(\u001b[38;5;241m*\u001b[39msample, \u001b[38;5;241m*\u001b[39m\u001b[38;5;241m*\u001b[39mfunc_kwargs))\n\u001b[0;32m     99\u001b[0m \u001b[38;5;28;01mreturn\u001b[39;00m np\u001b[38;5;241m.\u001b[39marray(boot_dist)\n",
      "File \u001b[1;32m~\\.conda\\envs\\lhs\\Lib\\site-packages\\seaborn\\algorithms.py:97\u001b[0m, in \u001b[0;36m<listcomp>\u001b[1;34m(.0)\u001b[0m\n\u001b[0;32m     95\u001b[0m \u001b[38;5;28;01mfor\u001b[39;00m i \u001b[38;5;129;01min\u001b[39;00m \u001b[38;5;28mrange\u001b[39m(\u001b[38;5;28mint\u001b[39m(n_boot)):\n\u001b[0;32m     96\u001b[0m     resampler \u001b[38;5;241m=\u001b[39m integers(\u001b[38;5;241m0\u001b[39m, n, n, dtype\u001b[38;5;241m=\u001b[39mnp\u001b[38;5;241m.\u001b[39mintp)  \u001b[38;5;66;03m# intp is indexing dtype\u001b[39;00m\n\u001b[1;32m---> 97\u001b[0m     sample \u001b[38;5;241m=\u001b[39m [a\u001b[38;5;241m.\u001b[39mtake(resampler, axis\u001b[38;5;241m=\u001b[39m\u001b[38;5;241m0\u001b[39m) \u001b[38;5;28;01mfor\u001b[39;00m a \u001b[38;5;129;01min\u001b[39;00m args]\n\u001b[0;32m     98\u001b[0m     boot_dist\u001b[38;5;241m.\u001b[39mappend(f(\u001b[38;5;241m*\u001b[39msample, \u001b[38;5;241m*\u001b[39m\u001b[38;5;241m*\u001b[39mfunc_kwargs))\n\u001b[0;32m     99\u001b[0m \u001b[38;5;28;01mreturn\u001b[39;00m np\u001b[38;5;241m.\u001b[39marray(boot_dist)\n",
      "\u001b[1;31mKeyboardInterrupt\u001b[0m: "
     ]
    }
   ],
   "source": [
    "sns.barplot(x=year, y=df_ans['주문일자'])"
   ]
  },
  {
   "cell_type": "markdown",
   "id": "ef43ecfc",
   "metadata": {},
   "source": [
    "## 월별 순수익"
   ]
  },
  {
   "cell_type": "code",
   "execution_count": 18,
   "id": "cd37934f",
   "metadata": {
    "ExecuteTime": {
     "end_time": "2023-07-19T04:42:45.851892Z",
     "start_time": "2023-07-19T04:42:45.840684Z"
    }
   },
   "outputs": [
    {
     "data": {
      "text/html": [
       "<div>\n",
       "<style scoped>\n",
       "    .dataframe tbody tr th:only-of-type {\n",
       "        vertical-align: middle;\n",
       "    }\n",
       "\n",
       "    .dataframe tbody tr th {\n",
       "        vertical-align: top;\n",
       "    }\n",
       "\n",
       "    .dataframe thead th {\n",
       "        text-align: right;\n",
       "    }\n",
       "</style>\n",
       "<table border=\"1\" class=\"dataframe\">\n",
       "  <thead>\n",
       "    <tr style=\"text-align: right;\">\n",
       "      <th></th>\n",
       "      <th>주문번호</th>\n",
       "      <th>업체명</th>\n",
       "      <th>상품명</th>\n",
       "      <th>제조사</th>\n",
       "      <th>주문수량</th>\n",
       "      <th>판매금액</th>\n",
       "      <th>결제방법</th>\n",
       "      <th>주문일자</th>\n",
       "      <th>처리상태</th>\n",
       "      <th>초도상품</th>\n",
       "      <th>제작문구 내역</th>\n",
       "      <th>할부기간</th>\n",
       "      <th>처리상태_bin</th>\n",
       "    </tr>\n",
       "  </thead>\n",
       "  <tbody>\n",
       "    <tr>\n",
       "      <th>0</th>\n",
       "      <td>191213170236874</td>\n",
       "      <td>지니</td>\n",
       "      <td>eHBM셀파수학교실 비닐봉투-1세트 100장입</td>\n",
       "      <td>HB</td>\n",
       "      <td>1</td>\n",
       "      <td>5000</td>\n",
       "      <td>신</td>\n",
       "      <td>2019-12-13 17:03:37</td>\n",
       "      <td>구매확정</td>\n",
       "      <td>N</td>\n",
       "      <td>NaN</td>\n",
       "      <td>1</td>\n",
       "      <td>True</td>\n",
       "    </tr>\n",
       "    <tr>\n",
       "      <th>1</th>\n",
       "      <td>191216100347429</td>\n",
       "      <td>지니</td>\n",
       "      <td>eHBM셀파수학교실 비닐봉투-1세트 100장입</td>\n",
       "      <td>HB</td>\n",
       "      <td>1</td>\n",
       "      <td>5000</td>\n",
       "      <td>신</td>\n",
       "      <td>2019-12-16 10:04:50</td>\n",
       "      <td>구매확정</td>\n",
       "      <td>N</td>\n",
       "      <td>NaN</td>\n",
       "      <td>1</td>\n",
       "      <td>True</td>\n",
       "    </tr>\n",
       "    <tr>\n",
       "      <th>2</th>\n",
       "      <td>191216100347429</td>\n",
       "      <td>지니</td>\n",
       "      <td>eHBM셀파수학교실 삼색볼펜-1세트 50개입</td>\n",
       "      <td>HB</td>\n",
       "      <td>3</td>\n",
       "      <td>67500</td>\n",
       "      <td>신</td>\n",
       "      <td>2019-12-16 10:04:50</td>\n",
       "      <td>구매확정</td>\n",
       "      <td>N</td>\n",
       "      <td>NaN</td>\n",
       "      <td>1</td>\n",
       "      <td>True</td>\n",
       "    </tr>\n",
       "    <tr>\n",
       "      <th>3</th>\n",
       "      <td>191216173241622</td>\n",
       "      <td>지니</td>\n",
       "      <td>eHBM셀파수학교실 회원용 리플렛-1세트 50권입</td>\n",
       "      <td>HB</td>\n",
       "      <td>2</td>\n",
       "      <td>30000</td>\n",
       "      <td>신</td>\n",
       "      <td>2019-12-16 17:33:43</td>\n",
       "      <td>구매확정</td>\n",
       "      <td>N</td>\n",
       "      <td>NaN</td>\n",
       "      <td>1</td>\n",
       "      <td>True</td>\n",
       "    </tr>\n",
       "    <tr>\n",
       "      <th>4</th>\n",
       "      <td>191216173241622</td>\n",
       "      <td>지니</td>\n",
       "      <td>eHBM셀파수학교실-학습계통도(중등 5종)</td>\n",
       "      <td>HB</td>\n",
       "      <td>1</td>\n",
       "      <td>750</td>\n",
       "      <td>신</td>\n",
       "      <td>2019-12-16 17:33:43</td>\n",
       "      <td>구매확정</td>\n",
       "      <td>N</td>\n",
       "      <td>NaN</td>\n",
       "      <td>1</td>\n",
       "      <td>True</td>\n",
       "    </tr>\n",
       "    <tr>\n",
       "      <th>...</th>\n",
       "      <td>...</td>\n",
       "      <td>...</td>\n",
       "      <td>...</td>\n",
       "      <td>...</td>\n",
       "      <td>...</td>\n",
       "      <td>...</td>\n",
       "      <td>...</td>\n",
       "      <td>...</td>\n",
       "      <td>...</td>\n",
       "      <td>...</td>\n",
       "      <td>...</td>\n",
       "      <td>...</td>\n",
       "      <td>...</td>\n",
       "    </tr>\n",
       "    <tr>\n",
       "      <th>218596</th>\n",
       "      <td>221108104041264</td>\n",
       "      <td>에이스디포</td>\n",
       "      <td>입체 액자형 현판</td>\n",
       "      <td>에이스디포</td>\n",
       "      <td>1</td>\n",
       "      <td>35000</td>\n",
       "      <td>웰</td>\n",
       "      <td>2022-11-08 10:38:21</td>\n",
       "      <td>결제완료</td>\n",
       "      <td>Y</td>\n",
       "      <td>NaN</td>\n",
       "      <td>1</td>\n",
       "      <td>False</td>\n",
       "    </tr>\n",
       "    <tr>\n",
       "      <th>218597</th>\n",
       "      <td>221108104041264</td>\n",
       "      <td>에이스디포</td>\n",
       "      <td>아크릴 사인</td>\n",
       "      <td>HB</td>\n",
       "      <td>1</td>\n",
       "      <td>26900</td>\n",
       "      <td>웰</td>\n",
       "      <td>2022-11-08 10:38:21</td>\n",
       "      <td>결제완료</td>\n",
       "      <td>Y</td>\n",
       "      <td>NaN</td>\n",
       "      <td>1</td>\n",
       "      <td>False</td>\n",
       "    </tr>\n",
       "    <tr>\n",
       "      <th>218598</th>\n",
       "      <td>221108104536307</td>\n",
       "      <td>에이스디포</td>\n",
       "      <td>아크릴 사인</td>\n",
       "      <td>HB</td>\n",
       "      <td>1</td>\n",
       "      <td>26900</td>\n",
       "      <td>신</td>\n",
       "      <td>2022-11-08 10:43:15</td>\n",
       "      <td>배송준비</td>\n",
       "      <td>N</td>\n",
       "      <td>NaN</td>\n",
       "      <td>1</td>\n",
       "      <td>False</td>\n",
       "    </tr>\n",
       "    <tr>\n",
       "      <th>218599</th>\n",
       "      <td>221108104735216</td>\n",
       "      <td>다우기술</td>\n",
       "      <td>아이스 카페 아메리카노 T</td>\n",
       "      <td>스타벅스</td>\n",
       "      <td>1</td>\n",
       "      <td>4050</td>\n",
       "      <td>포</td>\n",
       "      <td>2022-11-08 10:45:14</td>\n",
       "      <td>배송완료</td>\n",
       "      <td>N</td>\n",
       "      <td>NaN</td>\n",
       "      <td>1</td>\n",
       "      <td>False</td>\n",
       "    </tr>\n",
       "    <tr>\n",
       "      <th>218600</th>\n",
       "      <td>221108105148171</td>\n",
       "      <td>다우기술</td>\n",
       "      <td>2차-신세계 상품권 모바일 교환권-1만원권</td>\n",
       "      <td>신세계</td>\n",
       "      <td>17</td>\n",
       "      <td>161500</td>\n",
       "      <td>신</td>\n",
       "      <td>2022-11-08 10:49:28</td>\n",
       "      <td>배송완료</td>\n",
       "      <td>N</td>\n",
       "      <td>NaN</td>\n",
       "      <td>1</td>\n",
       "      <td>False</td>\n",
       "    </tr>\n",
       "  </tbody>\n",
       "</table>\n",
       "<p>218601 rows × 13 columns</p>\n",
       "</div>"
      ],
      "text/plain": [
       "                   주문번호    업체명                          상품명    제조사  주문수량  \\\n",
       "0       191213170236874     지니    eHBM셀파수학교실 비닐봉투-1세트 100장입     HB     1   \n",
       "1       191216100347429     지니    eHBM셀파수학교실 비닐봉투-1세트 100장입     HB     1   \n",
       "2       191216100347429     지니     eHBM셀파수학교실 삼색볼펜-1세트 50개입     HB     3   \n",
       "3       191216173241622     지니  eHBM셀파수학교실 회원용 리플렛-1세트 50권입     HB     2   \n",
       "4       191216173241622     지니      eHBM셀파수학교실-학습계통도(중등 5종)     HB     1   \n",
       "...                 ...    ...                          ...    ...   ...   \n",
       "218596  221108104041264  에이스디포                    입체 액자형 현판  에이스디포     1   \n",
       "218597  221108104041264  에이스디포                       아크릴 사인     HB     1   \n",
       "218598  221108104536307  에이스디포                       아크릴 사인     HB     1   \n",
       "218599  221108104735216   다우기술               아이스 카페 아메리카노 T   스타벅스     1   \n",
       "218600  221108105148171   다우기술      2차-신세계 상품권 모바일 교환권-1만원권    신세계    17   \n",
       "\n",
       "          판매금액 결제방법                주문일자  처리상태 초도상품 제작문구 내역  할부기간  처리상태_bin  \n",
       "0         5000    신 2019-12-13 17:03:37  구매확정    N     NaN     1      True  \n",
       "1         5000    신 2019-12-16 10:04:50  구매확정    N     NaN     1      True  \n",
       "2        67500    신 2019-12-16 10:04:50  구매확정    N     NaN     1      True  \n",
       "3        30000    신 2019-12-16 17:33:43  구매확정    N     NaN     1      True  \n",
       "4          750    신 2019-12-16 17:33:43  구매확정    N     NaN     1      True  \n",
       "...        ...  ...                 ...   ...  ...     ...   ...       ...  \n",
       "218596   35000    웰 2022-11-08 10:38:21  결제완료    Y     NaN     1     False  \n",
       "218597   26900    웰 2022-11-08 10:38:21  결제완료    Y     NaN     1     False  \n",
       "218598   26900    신 2022-11-08 10:43:15  배송준비    N     NaN     1     False  \n",
       "218599    4050    포 2022-11-08 10:45:14  배송완료    N     NaN     1     False  \n",
       "218600  161500    신 2022-11-08 10:49:28  배송완료    N     NaN     1     False  \n",
       "\n",
       "[218601 rows x 13 columns]"
      ]
     },
     "execution_count": 18,
     "metadata": {},
     "output_type": "execute_result"
    }
   ],
   "source": [
    "df_ans"
   ]
  },
  {
   "cell_type": "code",
   "execution_count": 25,
   "id": "49688c39",
   "metadata": {
    "ExecuteTime": {
     "end_time": "2023-07-19T04:56:04.764838Z",
     "start_time": "2023-07-19T04:56:04.760721Z"
    }
   },
   "outputs": [],
   "source": [
    "df_ans['년'] = year\n",
    "df_ans['월'] = month"
   ]
  },
  {
   "cell_type": "code",
   "execution_count": 27,
   "id": "fbd23f42",
   "metadata": {
    "ExecuteTime": {
     "end_time": "2023-07-19T04:56:12.432824Z",
     "start_time": "2023-07-19T04:56:12.402897Z"
    }
   },
   "outputs": [
    {
     "data": {
      "text/html": [
       "<div>\n",
       "<style scoped>\n",
       "    .dataframe tbody tr th:only-of-type {\n",
       "        vertical-align: middle;\n",
       "    }\n",
       "\n",
       "    .dataframe tbody tr th {\n",
       "        vertical-align: top;\n",
       "    }\n",
       "\n",
       "    .dataframe thead th {\n",
       "        text-align: right;\n",
       "    }\n",
       "</style>\n",
       "<table border=\"1\" class=\"dataframe\">\n",
       "  <thead>\n",
       "    <tr style=\"text-align: right;\">\n",
       "      <th></th>\n",
       "      <th>주문번호</th>\n",
       "      <th>업체명</th>\n",
       "      <th>상품명</th>\n",
       "      <th>제조사</th>\n",
       "      <th>주문수량</th>\n",
       "      <th>판매금액</th>\n",
       "      <th>결제방법</th>\n",
       "      <th>주문일자</th>\n",
       "      <th>처리상태</th>\n",
       "      <th>초도상품</th>\n",
       "      <th>제작문구 내역</th>\n",
       "      <th>할부기간</th>\n",
       "      <th>처리상태_bin</th>\n",
       "      <th>년</th>\n",
       "      <th>월</th>\n",
       "    </tr>\n",
       "  </thead>\n",
       "  <tbody>\n",
       "    <tr>\n",
       "      <th>0</th>\n",
       "      <td>191213170236874</td>\n",
       "      <td>지니</td>\n",
       "      <td>eHBM셀파수학교실 비닐봉투-1세트 100장입</td>\n",
       "      <td>HB</td>\n",
       "      <td>1</td>\n",
       "      <td>5000</td>\n",
       "      <td>신</td>\n",
       "      <td>2019-12-13 17:03:37</td>\n",
       "      <td>구매확정</td>\n",
       "      <td>N</td>\n",
       "      <td>NaN</td>\n",
       "      <td>1</td>\n",
       "      <td>True</td>\n",
       "      <td>2019</td>\n",
       "      <td>12</td>\n",
       "    </tr>\n",
       "    <tr>\n",
       "      <th>1</th>\n",
       "      <td>191216100347429</td>\n",
       "      <td>지니</td>\n",
       "      <td>eHBM셀파수학교실 비닐봉투-1세트 100장입</td>\n",
       "      <td>HB</td>\n",
       "      <td>1</td>\n",
       "      <td>5000</td>\n",
       "      <td>신</td>\n",
       "      <td>2019-12-16 10:04:50</td>\n",
       "      <td>구매확정</td>\n",
       "      <td>N</td>\n",
       "      <td>NaN</td>\n",
       "      <td>1</td>\n",
       "      <td>True</td>\n",
       "      <td>2019</td>\n",
       "      <td>12</td>\n",
       "    </tr>\n",
       "    <tr>\n",
       "      <th>2</th>\n",
       "      <td>191216100347429</td>\n",
       "      <td>지니</td>\n",
       "      <td>eHBM셀파수학교실 삼색볼펜-1세트 50개입</td>\n",
       "      <td>HB</td>\n",
       "      <td>3</td>\n",
       "      <td>67500</td>\n",
       "      <td>신</td>\n",
       "      <td>2019-12-16 10:04:50</td>\n",
       "      <td>구매확정</td>\n",
       "      <td>N</td>\n",
       "      <td>NaN</td>\n",
       "      <td>1</td>\n",
       "      <td>True</td>\n",
       "      <td>2019</td>\n",
       "      <td>12</td>\n",
       "    </tr>\n",
       "    <tr>\n",
       "      <th>3</th>\n",
       "      <td>191216173241622</td>\n",
       "      <td>지니</td>\n",
       "      <td>eHBM셀파수학교실 회원용 리플렛-1세트 50권입</td>\n",
       "      <td>HB</td>\n",
       "      <td>2</td>\n",
       "      <td>30000</td>\n",
       "      <td>신</td>\n",
       "      <td>2019-12-16 17:33:43</td>\n",
       "      <td>구매확정</td>\n",
       "      <td>N</td>\n",
       "      <td>NaN</td>\n",
       "      <td>1</td>\n",
       "      <td>True</td>\n",
       "      <td>2019</td>\n",
       "      <td>12</td>\n",
       "    </tr>\n",
       "    <tr>\n",
       "      <th>4</th>\n",
       "      <td>191216173241622</td>\n",
       "      <td>지니</td>\n",
       "      <td>eHBM셀파수학교실-학습계통도(중등 5종)</td>\n",
       "      <td>HB</td>\n",
       "      <td>1</td>\n",
       "      <td>750</td>\n",
       "      <td>신</td>\n",
       "      <td>2019-12-16 17:33:43</td>\n",
       "      <td>구매확정</td>\n",
       "      <td>N</td>\n",
       "      <td>NaN</td>\n",
       "      <td>1</td>\n",
       "      <td>True</td>\n",
       "      <td>2019</td>\n",
       "      <td>12</td>\n",
       "    </tr>\n",
       "    <tr>\n",
       "      <th>...</th>\n",
       "      <td>...</td>\n",
       "      <td>...</td>\n",
       "      <td>...</td>\n",
       "      <td>...</td>\n",
       "      <td>...</td>\n",
       "      <td>...</td>\n",
       "      <td>...</td>\n",
       "      <td>...</td>\n",
       "      <td>...</td>\n",
       "      <td>...</td>\n",
       "      <td>...</td>\n",
       "      <td>...</td>\n",
       "      <td>...</td>\n",
       "      <td>...</td>\n",
       "      <td>...</td>\n",
       "    </tr>\n",
       "    <tr>\n",
       "      <th>217852</th>\n",
       "      <td>221106231538662</td>\n",
       "      <td>다우기술</td>\n",
       "      <td>기프트카드 1만원권</td>\n",
       "      <td>올리브영</td>\n",
       "      <td>2</td>\n",
       "      <td>19200</td>\n",
       "      <td>신</td>\n",
       "      <td>2022-11-06 23:13:17</td>\n",
       "      <td>구매확정</td>\n",
       "      <td>N</td>\n",
       "      <td>NaN</td>\n",
       "      <td>1</td>\n",
       "      <td>True</td>\n",
       "      <td>2022</td>\n",
       "      <td>11</td>\n",
       "    </tr>\n",
       "    <tr>\n",
       "      <th>217914</th>\n",
       "      <td>221107074704768</td>\n",
       "      <td>다우기술</td>\n",
       "      <td>빽다방-빽′s카페라떼(HOT)</td>\n",
       "      <td>빽다방</td>\n",
       "      <td>1</td>\n",
       "      <td>2550</td>\n",
       "      <td>신</td>\n",
       "      <td>2022-11-07 07:44:43</td>\n",
       "      <td>구매확정</td>\n",
       "      <td>N</td>\n",
       "      <td>NaN</td>\n",
       "      <td>1</td>\n",
       "      <td>True</td>\n",
       "      <td>2022</td>\n",
       "      <td>11</td>\n",
       "    </tr>\n",
       "    <tr>\n",
       "      <th>217927</th>\n",
       "      <td>221107081217959</td>\n",
       "      <td>다우기술</td>\n",
       "      <td>모바일 상품권 2천원권</td>\n",
       "      <td>GS25</td>\n",
       "      <td>1</td>\n",
       "      <td>1800</td>\n",
       "      <td>신</td>\n",
       "      <td>2022-11-07 08:09:57</td>\n",
       "      <td>구매확정</td>\n",
       "      <td>N</td>\n",
       "      <td>NaN</td>\n",
       "      <td>1</td>\n",
       "      <td>True</td>\n",
       "      <td>2022</td>\n",
       "      <td>11</td>\n",
       "    </tr>\n",
       "    <tr>\n",
       "      <th>217938</th>\n",
       "      <td>221107083418760</td>\n",
       "      <td>다우기술</td>\n",
       "      <td>연유 카페라떼 HOT</td>\n",
       "      <td>이디야</td>\n",
       "      <td>1</td>\n",
       "      <td>3400</td>\n",
       "      <td>포</td>\n",
       "      <td>2022-11-07 08:31:57</td>\n",
       "      <td>구매확정</td>\n",
       "      <td>N</td>\n",
       "      <td>NaN</td>\n",
       "      <td>1</td>\n",
       "      <td>True</td>\n",
       "      <td>2022</td>\n",
       "      <td>11</td>\n",
       "    </tr>\n",
       "    <tr>\n",
       "      <th>217940</th>\n",
       "      <td>221107090224476</td>\n",
       "      <td>다우기술</td>\n",
       "      <td>빽다방-앗메리카노(HOT)</td>\n",
       "      <td>빽다방</td>\n",
       "      <td>1</td>\n",
       "      <td>1300</td>\n",
       "      <td>신</td>\n",
       "      <td>2022-11-07 09:00:03</td>\n",
       "      <td>구매확정</td>\n",
       "      <td>N</td>\n",
       "      <td>NaN</td>\n",
       "      <td>1</td>\n",
       "      <td>True</td>\n",
       "      <td>2022</td>\n",
       "      <td>11</td>\n",
       "    </tr>\n",
       "  </tbody>\n",
       "</table>\n",
       "<p>159291 rows × 15 columns</p>\n",
       "</div>"
      ],
      "text/plain": [
       "                   주문번호   업체명                          상품명   제조사  주문수량   판매금액  \\\n",
       "0       191213170236874    지니    eHBM셀파수학교실 비닐봉투-1세트 100장입    HB     1   5000   \n",
       "1       191216100347429    지니    eHBM셀파수학교실 비닐봉투-1세트 100장입    HB     1   5000   \n",
       "2       191216100347429    지니     eHBM셀파수학교실 삼색볼펜-1세트 50개입    HB     3  67500   \n",
       "3       191216173241622    지니  eHBM셀파수학교실 회원용 리플렛-1세트 50권입    HB     2  30000   \n",
       "4       191216173241622    지니      eHBM셀파수학교실-학습계통도(중등 5종)    HB     1    750   \n",
       "...                 ...   ...                          ...   ...   ...    ...   \n",
       "217852  221106231538662  다우기술                   기프트카드 1만원권  올리브영     2  19200   \n",
       "217914  221107074704768  다우기술             빽다방-빽′s카페라떼(HOT)   빽다방     1   2550   \n",
       "217927  221107081217959  다우기술                 모바일 상품권 2천원권  GS25     1   1800   \n",
       "217938  221107083418760  다우기술                  연유 카페라떼 HOT   이디야     1   3400   \n",
       "217940  221107090224476  다우기술               빽다방-앗메리카노(HOT)   빽다방     1   1300   \n",
       "\n",
       "       결제방법                주문일자  처리상태 초도상품 제작문구 내역  할부기간  처리상태_bin     년   월  \n",
       "0         신 2019-12-13 17:03:37  구매확정    N     NaN     1      True  2019  12  \n",
       "1         신 2019-12-16 10:04:50  구매확정    N     NaN     1      True  2019  12  \n",
       "2         신 2019-12-16 10:04:50  구매확정    N     NaN     1      True  2019  12  \n",
       "3         신 2019-12-16 17:33:43  구매확정    N     NaN     1      True  2019  12  \n",
       "4         신 2019-12-16 17:33:43  구매확정    N     NaN     1      True  2019  12  \n",
       "...     ...                 ...   ...  ...     ...   ...       ...   ...  ..  \n",
       "217852    신 2022-11-06 23:13:17  구매확정    N     NaN     1      True  2022  11  \n",
       "217914    신 2022-11-07 07:44:43  구매확정    N     NaN     1      True  2022  11  \n",
       "217927    신 2022-11-07 08:09:57  구매확정    N     NaN     1      True  2022  11  \n",
       "217938    포 2022-11-07 08:31:57  구매확정    N     NaN     1      True  2022  11  \n",
       "217940    신 2022-11-07 09:00:03  구매확정    N     NaN     1      True  2022  11  \n",
       "\n",
       "[159291 rows x 15 columns]"
      ]
     },
     "execution_count": 27,
     "metadata": {},
     "output_type": "execute_result"
    }
   ],
   "source": [
    "df_ans2 = df_ans[df_ans['처리상태_bin']]\n",
    "df_ans2"
   ]
  },
  {
   "cell_type": "code",
   "execution_count": 28,
   "id": "9686f911",
   "metadata": {
    "ExecuteTime": {
     "end_time": "2023-07-19T04:56:14.531154Z",
     "start_time": "2023-07-19T04:56:14.507848Z"
    },
    "scrolled": true
   },
   "outputs": [
    {
     "data": {
      "text/html": [
       "<div>\n",
       "<style scoped>\n",
       "    .dataframe tbody tr th:only-of-type {\n",
       "        vertical-align: middle;\n",
       "    }\n",
       "\n",
       "    .dataframe tbody tr th {\n",
       "        vertical-align: top;\n",
       "    }\n",
       "\n",
       "    .dataframe thead th {\n",
       "        text-align: right;\n",
       "    }\n",
       "</style>\n",
       "<table border=\"1\" class=\"dataframe\">\n",
       "  <thead>\n",
       "    <tr style=\"text-align: right;\">\n",
       "      <th></th>\n",
       "      <th>주문번호</th>\n",
       "      <th>업체명</th>\n",
       "      <th>상품명</th>\n",
       "      <th>제조사</th>\n",
       "      <th>주문수량</th>\n",
       "      <th>판매금액</th>\n",
       "      <th>결제방법</th>\n",
       "      <th>주문일자</th>\n",
       "      <th>처리상태</th>\n",
       "      <th>초도상품</th>\n",
       "      <th>제작문구 내역</th>\n",
       "      <th>할부기간</th>\n",
       "      <th>처리상태_bin</th>\n",
       "      <th>년</th>\n",
       "      <th>월</th>\n",
       "    </tr>\n",
       "  </thead>\n",
       "  <tbody>\n",
       "    <tr>\n",
       "      <th>0</th>\n",
       "      <td>191213170236874</td>\n",
       "      <td>지니</td>\n",
       "      <td>eHBM셀파수학교실 비닐봉투-1세트 100장입</td>\n",
       "      <td>HB</td>\n",
       "      <td>1</td>\n",
       "      <td>5000</td>\n",
       "      <td>신</td>\n",
       "      <td>2019-12-13 17:03:37</td>\n",
       "      <td>구매확정</td>\n",
       "      <td>N</td>\n",
       "      <td>NaN</td>\n",
       "      <td>1</td>\n",
       "      <td>True</td>\n",
       "      <td>2019</td>\n",
       "      <td>12</td>\n",
       "    </tr>\n",
       "    <tr>\n",
       "      <th>1</th>\n",
       "      <td>191216100347429</td>\n",
       "      <td>지니</td>\n",
       "      <td>eHBM셀파수학교실 비닐봉투-1세트 100장입</td>\n",
       "      <td>HB</td>\n",
       "      <td>1</td>\n",
       "      <td>5000</td>\n",
       "      <td>신</td>\n",
       "      <td>2019-12-16 10:04:50</td>\n",
       "      <td>구매확정</td>\n",
       "      <td>N</td>\n",
       "      <td>NaN</td>\n",
       "      <td>1</td>\n",
       "      <td>True</td>\n",
       "      <td>2019</td>\n",
       "      <td>12</td>\n",
       "    </tr>\n",
       "    <tr>\n",
       "      <th>2</th>\n",
       "      <td>191216100347429</td>\n",
       "      <td>지니</td>\n",
       "      <td>eHBM셀파수학교실 삼색볼펜-1세트 50개입</td>\n",
       "      <td>HB</td>\n",
       "      <td>3</td>\n",
       "      <td>67500</td>\n",
       "      <td>신</td>\n",
       "      <td>2019-12-16 10:04:50</td>\n",
       "      <td>구매확정</td>\n",
       "      <td>N</td>\n",
       "      <td>NaN</td>\n",
       "      <td>1</td>\n",
       "      <td>True</td>\n",
       "      <td>2019</td>\n",
       "      <td>12</td>\n",
       "    </tr>\n",
       "    <tr>\n",
       "      <th>3</th>\n",
       "      <td>191216173241622</td>\n",
       "      <td>지니</td>\n",
       "      <td>eHBM셀파수학교실 회원용 리플렛-1세트 50권입</td>\n",
       "      <td>HB</td>\n",
       "      <td>2</td>\n",
       "      <td>30000</td>\n",
       "      <td>신</td>\n",
       "      <td>2019-12-16 17:33:43</td>\n",
       "      <td>구매확정</td>\n",
       "      <td>N</td>\n",
       "      <td>NaN</td>\n",
       "      <td>1</td>\n",
       "      <td>True</td>\n",
       "      <td>2019</td>\n",
       "      <td>12</td>\n",
       "    </tr>\n",
       "    <tr>\n",
       "      <th>4</th>\n",
       "      <td>191216173241622</td>\n",
       "      <td>지니</td>\n",
       "      <td>eHBM셀파수학교실-학습계통도(중등 5종)</td>\n",
       "      <td>HB</td>\n",
       "      <td>1</td>\n",
       "      <td>750</td>\n",
       "      <td>신</td>\n",
       "      <td>2019-12-16 17:33:43</td>\n",
       "      <td>구매확정</td>\n",
       "      <td>N</td>\n",
       "      <td>NaN</td>\n",
       "      <td>1</td>\n",
       "      <td>True</td>\n",
       "      <td>2019</td>\n",
       "      <td>12</td>\n",
       "    </tr>\n",
       "    <tr>\n",
       "      <th>...</th>\n",
       "      <td>...</td>\n",
       "      <td>...</td>\n",
       "      <td>...</td>\n",
       "      <td>...</td>\n",
       "      <td>...</td>\n",
       "      <td>...</td>\n",
       "      <td>...</td>\n",
       "      <td>...</td>\n",
       "      <td>...</td>\n",
       "      <td>...</td>\n",
       "      <td>...</td>\n",
       "      <td>...</td>\n",
       "      <td>...</td>\n",
       "      <td>...</td>\n",
       "      <td>...</td>\n",
       "    </tr>\n",
       "    <tr>\n",
       "      <th>217852</th>\n",
       "      <td>221106231538662</td>\n",
       "      <td>다우기술</td>\n",
       "      <td>기프트카드 1만원권</td>\n",
       "      <td>올리브영</td>\n",
       "      <td>2</td>\n",
       "      <td>19200</td>\n",
       "      <td>신</td>\n",
       "      <td>2022-11-06 23:13:17</td>\n",
       "      <td>구매확정</td>\n",
       "      <td>N</td>\n",
       "      <td>NaN</td>\n",
       "      <td>1</td>\n",
       "      <td>True</td>\n",
       "      <td>2022</td>\n",
       "      <td>11</td>\n",
       "    </tr>\n",
       "    <tr>\n",
       "      <th>217914</th>\n",
       "      <td>221107074704768</td>\n",
       "      <td>다우기술</td>\n",
       "      <td>빽다방-빽′s카페라떼(HOT)</td>\n",
       "      <td>빽다방</td>\n",
       "      <td>1</td>\n",
       "      <td>2550</td>\n",
       "      <td>신</td>\n",
       "      <td>2022-11-07 07:44:43</td>\n",
       "      <td>구매확정</td>\n",
       "      <td>N</td>\n",
       "      <td>NaN</td>\n",
       "      <td>1</td>\n",
       "      <td>True</td>\n",
       "      <td>2022</td>\n",
       "      <td>11</td>\n",
       "    </tr>\n",
       "    <tr>\n",
       "      <th>217927</th>\n",
       "      <td>221107081217959</td>\n",
       "      <td>다우기술</td>\n",
       "      <td>모바일 상품권 2천원권</td>\n",
       "      <td>GS25</td>\n",
       "      <td>1</td>\n",
       "      <td>1800</td>\n",
       "      <td>신</td>\n",
       "      <td>2022-11-07 08:09:57</td>\n",
       "      <td>구매확정</td>\n",
       "      <td>N</td>\n",
       "      <td>NaN</td>\n",
       "      <td>1</td>\n",
       "      <td>True</td>\n",
       "      <td>2022</td>\n",
       "      <td>11</td>\n",
       "    </tr>\n",
       "    <tr>\n",
       "      <th>217938</th>\n",
       "      <td>221107083418760</td>\n",
       "      <td>다우기술</td>\n",
       "      <td>연유 카페라떼 HOT</td>\n",
       "      <td>이디야</td>\n",
       "      <td>1</td>\n",
       "      <td>3400</td>\n",
       "      <td>포</td>\n",
       "      <td>2022-11-07 08:31:57</td>\n",
       "      <td>구매확정</td>\n",
       "      <td>N</td>\n",
       "      <td>NaN</td>\n",
       "      <td>1</td>\n",
       "      <td>True</td>\n",
       "      <td>2022</td>\n",
       "      <td>11</td>\n",
       "    </tr>\n",
       "    <tr>\n",
       "      <th>217940</th>\n",
       "      <td>221107090224476</td>\n",
       "      <td>다우기술</td>\n",
       "      <td>빽다방-앗메리카노(HOT)</td>\n",
       "      <td>빽다방</td>\n",
       "      <td>1</td>\n",
       "      <td>1300</td>\n",
       "      <td>신</td>\n",
       "      <td>2022-11-07 09:00:03</td>\n",
       "      <td>구매확정</td>\n",
       "      <td>N</td>\n",
       "      <td>NaN</td>\n",
       "      <td>1</td>\n",
       "      <td>True</td>\n",
       "      <td>2022</td>\n",
       "      <td>11</td>\n",
       "    </tr>\n",
       "  </tbody>\n",
       "</table>\n",
       "<p>158101 rows × 15 columns</p>\n",
       "</div>"
      ],
      "text/plain": [
       "                   주문번호   업체명                          상품명   제조사  주문수량   판매금액  \\\n",
       "0       191213170236874    지니    eHBM셀파수학교실 비닐봉투-1세트 100장입    HB     1   5000   \n",
       "1       191216100347429    지니    eHBM셀파수학교실 비닐봉투-1세트 100장입    HB     1   5000   \n",
       "2       191216100347429    지니     eHBM셀파수학교실 삼색볼펜-1세트 50개입    HB     3  67500   \n",
       "3       191216173241622    지니  eHBM셀파수학교실 회원용 리플렛-1세트 50권입    HB     2  30000   \n",
       "4       191216173241622    지니      eHBM셀파수학교실-학습계통도(중등 5종)    HB     1    750   \n",
       "...                 ...   ...                          ...   ...   ...    ...   \n",
       "217852  221106231538662  다우기술                   기프트카드 1만원권  올리브영     2  19200   \n",
       "217914  221107074704768  다우기술             빽다방-빽′s카페라떼(HOT)   빽다방     1   2550   \n",
       "217927  221107081217959  다우기술                 모바일 상품권 2천원권  GS25     1   1800   \n",
       "217938  221107083418760  다우기술                  연유 카페라떼 HOT   이디야     1   3400   \n",
       "217940  221107090224476  다우기술               빽다방-앗메리카노(HOT)   빽다방     1   1300   \n",
       "\n",
       "       결제방법                주문일자  처리상태 초도상품 제작문구 내역  할부기간  처리상태_bin     년   월  \n",
       "0         신 2019-12-13 17:03:37  구매확정    N     NaN     1      True  2019  12  \n",
       "1         신 2019-12-16 10:04:50  구매확정    N     NaN     1      True  2019  12  \n",
       "2         신 2019-12-16 10:04:50  구매확정    N     NaN     1      True  2019  12  \n",
       "3         신 2019-12-16 17:33:43  구매확정    N     NaN     1      True  2019  12  \n",
       "4         신 2019-12-16 17:33:43  구매확정    N     NaN     1      True  2019  12  \n",
       "...     ...                 ...   ...  ...     ...   ...       ...   ...  ..  \n",
       "217852    신 2022-11-06 23:13:17  구매확정    N     NaN     1      True  2022  11  \n",
       "217914    신 2022-11-07 07:44:43  구매확정    N     NaN     1      True  2022  11  \n",
       "217927    신 2022-11-07 08:09:57  구매확정    N     NaN     1      True  2022  11  \n",
       "217938    포 2022-11-07 08:31:57  구매확정    N     NaN     1      True  2022  11  \n",
       "217940    신 2022-11-07 09:00:03  구매확정    N     NaN     1      True  2022  11  \n",
       "\n",
       "[158101 rows x 15 columns]"
      ]
     },
     "execution_count": 28,
     "metadata": {},
     "output_type": "execute_result"
    }
   ],
   "source": [
    "df_ans3 = df_ans2[df_ans2['할부기간'] == 1]\n",
    "df_ans3"
   ]
  },
  {
   "cell_type": "code",
   "execution_count": 30,
   "id": "e99b695d",
   "metadata": {
    "ExecuteTime": {
     "end_time": "2023-07-19T04:56:22.484468Z",
     "start_time": "2023-07-19T04:56:22.475167Z"
    }
   },
   "outputs": [
    {
     "data": {
      "text/plain": [
       "월\n",
       "1     508339300\n",
       "2     674075825\n",
       "3     869008885\n",
       "4     514857808\n",
       "5     946621970\n",
       "6     438490235\n",
       "7     404218990\n",
       "8     619231760\n",
       "9     600857140\n",
       "10    547605703\n",
       "11    346565874\n",
       "12    382628348\n",
       "Name: 판매금액, dtype: int64"
      ]
     },
     "execution_count": 30,
     "metadata": {},
     "output_type": "execute_result"
    }
   ],
   "source": [
    "# 월별 판매금액 합계\n",
    "df_ans4 = df_ans3.groupby('월').sum()['판매금액']\n",
    "df_ans4"
   ]
  },
  {
   "cell_type": "code",
   "execution_count": 35,
   "id": "d1e42866",
   "metadata": {
    "ExecuteTime": {
     "end_time": "2023-07-19T05:00:38.614073Z",
     "start_time": "2023-07-19T05:00:38.602018Z"
    }
   },
   "outputs": [
    {
     "data": {
      "text/html": [
       "<div>\n",
       "<style scoped>\n",
       "    .dataframe tbody tr th:only-of-type {\n",
       "        vertical-align: middle;\n",
       "    }\n",
       "\n",
       "    .dataframe tbody tr th {\n",
       "        vertical-align: top;\n",
       "    }\n",
       "\n",
       "    .dataframe thead th {\n",
       "        text-align: right;\n",
       "    }\n",
       "</style>\n",
       "<table border=\"1\" class=\"dataframe\">\n",
       "  <thead>\n",
       "    <tr style=\"text-align: right;\">\n",
       "      <th></th>\n",
       "      <th>주문번호</th>\n",
       "      <th>업체명</th>\n",
       "      <th>상품명</th>\n",
       "      <th>제조사</th>\n",
       "      <th>주문수량</th>\n",
       "      <th>판매금액</th>\n",
       "      <th>결제방법</th>\n",
       "      <th>주문일자</th>\n",
       "      <th>처리상태</th>\n",
       "      <th>초도상품</th>\n",
       "      <th>제작문구 내역</th>\n",
       "      <th>할부기간</th>\n",
       "      <th>처리상태_bin</th>\n",
       "      <th>년</th>\n",
       "      <th>월</th>\n",
       "    </tr>\n",
       "  </thead>\n",
       "  <tbody>\n",
       "    <tr>\n",
       "      <th>25732</th>\n",
       "      <td>201020183220408</td>\n",
       "      <td>지니 태블릿</td>\n",
       "      <td>학습 전용 태블릿(더큰도전 후불결제)</td>\n",
       "      <td>삼성전자</td>\n",
       "      <td>2</td>\n",
       "      <td>768000</td>\n",
       "      <td>후</td>\n",
       "      <td>2020-10-20 18:31:58</td>\n",
       "      <td>구매확정</td>\n",
       "      <td>N</td>\n",
       "      <td>NaN</td>\n",
       "      <td>12</td>\n",
       "      <td>True</td>\n",
       "      <td>2020</td>\n",
       "      <td>10</td>\n",
       "    </tr>\n",
       "    <tr>\n",
       "      <th>25738</th>\n",
       "      <td>201020195545933</td>\n",
       "      <td>지니 태블릿</td>\n",
       "      <td>학습 전용 태블릿(더큰도전 후불결제)</td>\n",
       "      <td>삼성전자</td>\n",
       "      <td>5</td>\n",
       "      <td>1920000</td>\n",
       "      <td>후</td>\n",
       "      <td>2020-10-20 19:55:24</td>\n",
       "      <td>구매확정</td>\n",
       "      <td>N</td>\n",
       "      <td>NaN</td>\n",
       "      <td>12</td>\n",
       "      <td>True</td>\n",
       "      <td>2020</td>\n",
       "      <td>10</td>\n",
       "    </tr>\n",
       "    <tr>\n",
       "      <th>25739</th>\n",
       "      <td>201020204237280</td>\n",
       "      <td>지니 태블릿</td>\n",
       "      <td>학습 전용 태블릿(더큰도전 후불결제)</td>\n",
       "      <td>삼성전자</td>\n",
       "      <td>2</td>\n",
       "      <td>768000</td>\n",
       "      <td>후</td>\n",
       "      <td>2020-10-20 20:42:16</td>\n",
       "      <td>구매확정</td>\n",
       "      <td>N</td>\n",
       "      <td>NaN</td>\n",
       "      <td>12</td>\n",
       "      <td>True</td>\n",
       "      <td>2020</td>\n",
       "      <td>10</td>\n",
       "    </tr>\n",
       "    <tr>\n",
       "      <th>25774</th>\n",
       "      <td>201021044814392</td>\n",
       "      <td>지니 태블릿</td>\n",
       "      <td>학습 전용 태블릿(더큰도전 후불결제)</td>\n",
       "      <td>삼성전자</td>\n",
       "      <td>5</td>\n",
       "      <td>1920000</td>\n",
       "      <td>후</td>\n",
       "      <td>2020-10-21 04:47:52</td>\n",
       "      <td>구매확정</td>\n",
       "      <td>N</td>\n",
       "      <td>NaN</td>\n",
       "      <td>24</td>\n",
       "      <td>True</td>\n",
       "      <td>2020</td>\n",
       "      <td>10</td>\n",
       "    </tr>\n",
       "    <tr>\n",
       "      <th>25775</th>\n",
       "      <td>201021075232223</td>\n",
       "      <td>지니 태블릿</td>\n",
       "      <td>학습 전용 태블릿(더큰도전 후불결제)</td>\n",
       "      <td>삼성전자</td>\n",
       "      <td>5</td>\n",
       "      <td>1920000</td>\n",
       "      <td>후</td>\n",
       "      <td>2020-10-21 07:52:11</td>\n",
       "      <td>구매확정</td>\n",
       "      <td>N</td>\n",
       "      <td>NaN</td>\n",
       "      <td>24</td>\n",
       "      <td>True</td>\n",
       "      <td>2020</td>\n",
       "      <td>10</td>\n",
       "    </tr>\n",
       "    <tr>\n",
       "      <th>...</th>\n",
       "      <td>...</td>\n",
       "      <td>...</td>\n",
       "      <td>...</td>\n",
       "      <td>...</td>\n",
       "      <td>...</td>\n",
       "      <td>...</td>\n",
       "      <td>...</td>\n",
       "      <td>...</td>\n",
       "      <td>...</td>\n",
       "      <td>...</td>\n",
       "      <td>...</td>\n",
       "      <td>...</td>\n",
       "      <td>...</td>\n",
       "      <td>...</td>\n",
       "      <td>...</td>\n",
       "    </tr>\n",
       "    <tr>\n",
       "      <th>211390</th>\n",
       "      <td>221024125619745</td>\n",
       "      <td>천재태블릿</td>\n",
       "      <td>학습 전용 태블릿-정기결제</td>\n",
       "      <td>삼성전자</td>\n",
       "      <td>5</td>\n",
       "      <td>1980000</td>\n",
       "      <td>정</td>\n",
       "      <td>2022-10-24 12:54:00</td>\n",
       "      <td>구매확정</td>\n",
       "      <td>N</td>\n",
       "      <td>NaN</td>\n",
       "      <td>18</td>\n",
       "      <td>True</td>\n",
       "      <td>2022</td>\n",
       "      <td>10</td>\n",
       "    </tr>\n",
       "    <tr>\n",
       "      <th>212433</th>\n",
       "      <td>221025214536202</td>\n",
       "      <td>천재태블릿</td>\n",
       "      <td>학습 전용 태블릿-정기결제</td>\n",
       "      <td>삼성전자</td>\n",
       "      <td>8</td>\n",
       "      <td>3168000</td>\n",
       "      <td>정</td>\n",
       "      <td>2022-10-25 21:43:17</td>\n",
       "      <td>구매확정</td>\n",
       "      <td>N</td>\n",
       "      <td>NaN</td>\n",
       "      <td>18</td>\n",
       "      <td>True</td>\n",
       "      <td>2022</td>\n",
       "      <td>10</td>\n",
       "    </tr>\n",
       "    <tr>\n",
       "      <th>212630</th>\n",
       "      <td>221026132724396</td>\n",
       "      <td>천재태블릿</td>\n",
       "      <td>학습 전용 태블릿-정기결제</td>\n",
       "      <td>삼성전자</td>\n",
       "      <td>1</td>\n",
       "      <td>396000</td>\n",
       "      <td>정</td>\n",
       "      <td>2022-10-26 13:25:05</td>\n",
       "      <td>구매확정</td>\n",
       "      <td>N</td>\n",
       "      <td>NaN</td>\n",
       "      <td>12</td>\n",
       "      <td>True</td>\n",
       "      <td>2022</td>\n",
       "      <td>10</td>\n",
       "    </tr>\n",
       "    <tr>\n",
       "      <th>213502</th>\n",
       "      <td>221027171416474</td>\n",
       "      <td>천재태블릿</td>\n",
       "      <td>학습 전용 태블릿-정기결제</td>\n",
       "      <td>삼성전자</td>\n",
       "      <td>1</td>\n",
       "      <td>396000</td>\n",
       "      <td>정</td>\n",
       "      <td>2022-10-27 17:11:57</td>\n",
       "      <td>구매확정</td>\n",
       "      <td>N</td>\n",
       "      <td>NaN</td>\n",
       "      <td>12</td>\n",
       "      <td>True</td>\n",
       "      <td>2022</td>\n",
       "      <td>10</td>\n",
       "    </tr>\n",
       "    <tr>\n",
       "      <th>213509</th>\n",
       "      <td>221027173556854</td>\n",
       "      <td>천재태블릿</td>\n",
       "      <td>학습 전용 태블릿-정기결제</td>\n",
       "      <td>삼성전자</td>\n",
       "      <td>1</td>\n",
       "      <td>396000</td>\n",
       "      <td>정</td>\n",
       "      <td>2022-10-27 17:33:37</td>\n",
       "      <td>구매확정</td>\n",
       "      <td>N</td>\n",
       "      <td>NaN</td>\n",
       "      <td>12</td>\n",
       "      <td>True</td>\n",
       "      <td>2022</td>\n",
       "      <td>10</td>\n",
       "    </tr>\n",
       "  </tbody>\n",
       "</table>\n",
       "<p>1190 rows × 15 columns</p>\n",
       "</div>"
      ],
      "text/plain": [
       "                   주문번호     업체명                   상품명   제조사  주문수량     판매금액  \\\n",
       "25732   201020183220408  지니 태블릿  학습 전용 태블릿(더큰도전 후불결제)  삼성전자     2   768000   \n",
       "25738   201020195545933  지니 태블릿  학습 전용 태블릿(더큰도전 후불결제)  삼성전자     5  1920000   \n",
       "25739   201020204237280  지니 태블릿  학습 전용 태블릿(더큰도전 후불결제)  삼성전자     2   768000   \n",
       "25774   201021044814392  지니 태블릿  학습 전용 태블릿(더큰도전 후불결제)  삼성전자     5  1920000   \n",
       "25775   201021075232223  지니 태블릿  학습 전용 태블릿(더큰도전 후불결제)  삼성전자     5  1920000   \n",
       "...                 ...     ...                   ...   ...   ...      ...   \n",
       "211390  221024125619745   천재태블릿        학습 전용 태블릿-정기결제  삼성전자     5  1980000   \n",
       "212433  221025214536202   천재태블릿        학습 전용 태블릿-정기결제  삼성전자     8  3168000   \n",
       "212630  221026132724396   천재태블릿        학습 전용 태블릿-정기결제  삼성전자     1   396000   \n",
       "213502  221027171416474   천재태블릿        학습 전용 태블릿-정기결제  삼성전자     1   396000   \n",
       "213509  221027173556854   천재태블릿        학습 전용 태블릿-정기결제  삼성전자     1   396000   \n",
       "\n",
       "       결제방법                주문일자  처리상태 초도상품 제작문구 내역  할부기간  처리상태_bin     년   월  \n",
       "25732     후 2020-10-20 18:31:58  구매확정    N     NaN    12      True  2020  10  \n",
       "25738     후 2020-10-20 19:55:24  구매확정    N     NaN    12      True  2020  10  \n",
       "25739     후 2020-10-20 20:42:16  구매확정    N     NaN    12      True  2020  10  \n",
       "25774     후 2020-10-21 04:47:52  구매확정    N     NaN    24      True  2020  10  \n",
       "25775     후 2020-10-21 07:52:11  구매확정    N     NaN    24      True  2020  10  \n",
       "...     ...                 ...   ...  ...     ...   ...       ...   ...  ..  \n",
       "211390    정 2022-10-24 12:54:00  구매확정    N     NaN    18      True  2022  10  \n",
       "212433    정 2022-10-25 21:43:17  구매확정    N     NaN    18      True  2022  10  \n",
       "212630    정 2022-10-26 13:25:05  구매확정    N     NaN    12      True  2022  10  \n",
       "213502    정 2022-10-27 17:11:57  구매확정    N     NaN    12      True  2022  10  \n",
       "213509    정 2022-10-27 17:33:37  구매확정    N     NaN    12      True  2022  10  \n",
       "\n",
       "[1190 rows x 15 columns]"
      ]
     },
     "execution_count": 35,
     "metadata": {},
     "output_type": "execute_result"
    }
   ],
   "source": [
    "df_ans5 = df_ans2[df_ans2['할부기간'] != 1] \n",
    "df_ans5"
   ]
  },
  {
   "cell_type": "code",
   "execution_count": 38,
   "id": "12263707",
   "metadata": {
    "ExecuteTime": {
     "end_time": "2023-07-19T05:04:25.693314Z",
     "start_time": "2023-07-19T05:04:24.914325Z"
    }
   },
   "outputs": [],
   "source": [
    "# 할부기간만큼 월별 추가\n",
    "for i in df_ans5.index:\n",
    "    temp = df_ans5.loc[i, ['할부기간', '판매금액', '월']]\n",
    "    month = temp['월']\n",
    "    \n",
    "    for j in range(1, temp['할부기간']+1):\n",
    "        k = month + j\n",
    "        if k > 12:\n",
    "            k = month + j - 12\n",
    "            if k > 12:\n",
    "                k -= 12\n",
    "        \n",
    "        df_ans4.loc[k] += temp['판매금액'] / temp['할부기간']\n"
   ]
  },
  {
   "cell_type": "code",
   "execution_count": 39,
   "id": "482a6c05",
   "metadata": {
    "ExecuteTime": {
     "end_time": "2023-07-19T05:04:38.647109Z",
     "start_time": "2023-07-19T05:04:38.642601Z"
    },
    "scrolled": true
   },
   "outputs": [
    {
     "data": {
      "text/plain": [
       "월\n",
       "1      616908300\n",
       "2      782402825\n",
       "3      977181885\n",
       "4      626110808\n",
       "5     1056928970\n",
       "6      552251235\n",
       "7      514327990\n",
       "8      729582760\n",
       "9      711362140\n",
       "10     655030703\n",
       "11     454936874\n",
       "12     487545348\n",
       "Name: 판매금액, dtype: int64"
      ]
     },
     "execution_count": 39,
     "metadata": {},
     "output_type": "execute_result"
    }
   ],
   "source": [
    "df_ans4"
   ]
  },
  {
   "cell_type": "code",
   "execution_count": 46,
   "id": "41031867",
   "metadata": {
    "ExecuteTime": {
     "end_time": "2023-07-19T05:16:39.770704Z",
     "start_time": "2023-07-19T05:16:39.754771Z"
    }
   },
   "outputs": [
    {
     "data": {
      "text/html": [
       "<div>\n",
       "<style scoped>\n",
       "    .dataframe tbody tr th:only-of-type {\n",
       "        vertical-align: middle;\n",
       "    }\n",
       "\n",
       "    .dataframe tbody tr th {\n",
       "        vertical-align: top;\n",
       "    }\n",
       "\n",
       "    .dataframe thead th {\n",
       "        text-align: right;\n",
       "    }\n",
       "</style>\n",
       "<table border=\"1\" class=\"dataframe\">\n",
       "  <thead>\n",
       "    <tr style=\"text-align: right;\">\n",
       "      <th></th>\n",
       "      <th>주문번호</th>\n",
       "      <th>업체명</th>\n",
       "      <th>상품명</th>\n",
       "      <th>제조사</th>\n",
       "      <th>주문수량</th>\n",
       "      <th>판매금액</th>\n",
       "      <th>결제방법</th>\n",
       "      <th>주문일자</th>\n",
       "      <th>처리상태</th>\n",
       "      <th>초도상품</th>\n",
       "      <th>제작문구 내역</th>\n",
       "      <th>할부기간</th>\n",
       "      <th>처리상태_bin</th>\n",
       "      <th>년</th>\n",
       "      <th>월</th>\n",
       "    </tr>\n",
       "  </thead>\n",
       "  <tbody>\n",
       "    <tr>\n",
       "      <th>25732</th>\n",
       "      <td>201020183220408</td>\n",
       "      <td>지니 태블릿</td>\n",
       "      <td>학습 전용 태블릿(더큰도전 후불결제)</td>\n",
       "      <td>삼성전자</td>\n",
       "      <td>2</td>\n",
       "      <td>768000</td>\n",
       "      <td>후</td>\n",
       "      <td>2020-10-20 18:31:58</td>\n",
       "      <td>구매확정</td>\n",
       "      <td>N</td>\n",
       "      <td>NaN</td>\n",
       "      <td>12</td>\n",
       "      <td>True</td>\n",
       "      <td>2020</td>\n",
       "      <td>10</td>\n",
       "    </tr>\n",
       "    <tr>\n",
       "      <th>25738</th>\n",
       "      <td>201020195545933</td>\n",
       "      <td>지니 태블릿</td>\n",
       "      <td>학습 전용 태블릿(더큰도전 후불결제)</td>\n",
       "      <td>삼성전자</td>\n",
       "      <td>5</td>\n",
       "      <td>1920000</td>\n",
       "      <td>후</td>\n",
       "      <td>2020-10-20 19:55:24</td>\n",
       "      <td>구매확정</td>\n",
       "      <td>N</td>\n",
       "      <td>NaN</td>\n",
       "      <td>12</td>\n",
       "      <td>True</td>\n",
       "      <td>2020</td>\n",
       "      <td>10</td>\n",
       "    </tr>\n",
       "    <tr>\n",
       "      <th>25739</th>\n",
       "      <td>201020204237280</td>\n",
       "      <td>지니 태블릿</td>\n",
       "      <td>학습 전용 태블릿(더큰도전 후불결제)</td>\n",
       "      <td>삼성전자</td>\n",
       "      <td>2</td>\n",
       "      <td>768000</td>\n",
       "      <td>후</td>\n",
       "      <td>2020-10-20 20:42:16</td>\n",
       "      <td>구매확정</td>\n",
       "      <td>N</td>\n",
       "      <td>NaN</td>\n",
       "      <td>12</td>\n",
       "      <td>True</td>\n",
       "      <td>2020</td>\n",
       "      <td>10</td>\n",
       "    </tr>\n",
       "    <tr>\n",
       "      <th>25774</th>\n",
       "      <td>201021044814392</td>\n",
       "      <td>지니 태블릿</td>\n",
       "      <td>학습 전용 태블릿(더큰도전 후불결제)</td>\n",
       "      <td>삼성전자</td>\n",
       "      <td>5</td>\n",
       "      <td>1920000</td>\n",
       "      <td>후</td>\n",
       "      <td>2020-10-21 04:47:52</td>\n",
       "      <td>구매확정</td>\n",
       "      <td>N</td>\n",
       "      <td>NaN</td>\n",
       "      <td>24</td>\n",
       "      <td>True</td>\n",
       "      <td>2020</td>\n",
       "      <td>10</td>\n",
       "    </tr>\n",
       "    <tr>\n",
       "      <th>25775</th>\n",
       "      <td>201021075232223</td>\n",
       "      <td>지니 태블릿</td>\n",
       "      <td>학습 전용 태블릿(더큰도전 후불결제)</td>\n",
       "      <td>삼성전자</td>\n",
       "      <td>5</td>\n",
       "      <td>1920000</td>\n",
       "      <td>후</td>\n",
       "      <td>2020-10-21 07:52:11</td>\n",
       "      <td>구매확정</td>\n",
       "      <td>N</td>\n",
       "      <td>NaN</td>\n",
       "      <td>24</td>\n",
       "      <td>True</td>\n",
       "      <td>2020</td>\n",
       "      <td>10</td>\n",
       "    </tr>\n",
       "    <tr>\n",
       "      <th>...</th>\n",
       "      <td>...</td>\n",
       "      <td>...</td>\n",
       "      <td>...</td>\n",
       "      <td>...</td>\n",
       "      <td>...</td>\n",
       "      <td>...</td>\n",
       "      <td>...</td>\n",
       "      <td>...</td>\n",
       "      <td>...</td>\n",
       "      <td>...</td>\n",
       "      <td>...</td>\n",
       "      <td>...</td>\n",
       "      <td>...</td>\n",
       "      <td>...</td>\n",
       "      <td>...</td>\n",
       "    </tr>\n",
       "    <tr>\n",
       "      <th>211390</th>\n",
       "      <td>221024125619745</td>\n",
       "      <td>천재태블릿</td>\n",
       "      <td>학습 전용 태블릿-정기결제</td>\n",
       "      <td>삼성전자</td>\n",
       "      <td>5</td>\n",
       "      <td>1980000</td>\n",
       "      <td>정</td>\n",
       "      <td>2022-10-24 12:54:00</td>\n",
       "      <td>구매확정</td>\n",
       "      <td>N</td>\n",
       "      <td>NaN</td>\n",
       "      <td>18</td>\n",
       "      <td>True</td>\n",
       "      <td>2022</td>\n",
       "      <td>10</td>\n",
       "    </tr>\n",
       "    <tr>\n",
       "      <th>212433</th>\n",
       "      <td>221025214536202</td>\n",
       "      <td>천재태블릿</td>\n",
       "      <td>학습 전용 태블릿-정기결제</td>\n",
       "      <td>삼성전자</td>\n",
       "      <td>8</td>\n",
       "      <td>3168000</td>\n",
       "      <td>정</td>\n",
       "      <td>2022-10-25 21:43:17</td>\n",
       "      <td>구매확정</td>\n",
       "      <td>N</td>\n",
       "      <td>NaN</td>\n",
       "      <td>18</td>\n",
       "      <td>True</td>\n",
       "      <td>2022</td>\n",
       "      <td>10</td>\n",
       "    </tr>\n",
       "    <tr>\n",
       "      <th>212630</th>\n",
       "      <td>221026132724396</td>\n",
       "      <td>천재태블릿</td>\n",
       "      <td>학습 전용 태블릿-정기결제</td>\n",
       "      <td>삼성전자</td>\n",
       "      <td>1</td>\n",
       "      <td>396000</td>\n",
       "      <td>정</td>\n",
       "      <td>2022-10-26 13:25:05</td>\n",
       "      <td>구매확정</td>\n",
       "      <td>N</td>\n",
       "      <td>NaN</td>\n",
       "      <td>12</td>\n",
       "      <td>True</td>\n",
       "      <td>2022</td>\n",
       "      <td>10</td>\n",
       "    </tr>\n",
       "    <tr>\n",
       "      <th>213502</th>\n",
       "      <td>221027171416474</td>\n",
       "      <td>천재태블릿</td>\n",
       "      <td>학습 전용 태블릿-정기결제</td>\n",
       "      <td>삼성전자</td>\n",
       "      <td>1</td>\n",
       "      <td>396000</td>\n",
       "      <td>정</td>\n",
       "      <td>2022-10-27 17:11:57</td>\n",
       "      <td>구매확정</td>\n",
       "      <td>N</td>\n",
       "      <td>NaN</td>\n",
       "      <td>12</td>\n",
       "      <td>True</td>\n",
       "      <td>2022</td>\n",
       "      <td>10</td>\n",
       "    </tr>\n",
       "    <tr>\n",
       "      <th>213509</th>\n",
       "      <td>221027173556854</td>\n",
       "      <td>천재태블릿</td>\n",
       "      <td>학습 전용 태블릿-정기결제</td>\n",
       "      <td>삼성전자</td>\n",
       "      <td>1</td>\n",
       "      <td>396000</td>\n",
       "      <td>정</td>\n",
       "      <td>2022-10-27 17:33:37</td>\n",
       "      <td>구매확정</td>\n",
       "      <td>N</td>\n",
       "      <td>NaN</td>\n",
       "      <td>12</td>\n",
       "      <td>True</td>\n",
       "      <td>2022</td>\n",
       "      <td>10</td>\n",
       "    </tr>\n",
       "  </tbody>\n",
       "</table>\n",
       "<p>1190 rows × 15 columns</p>\n",
       "</div>"
      ],
      "text/plain": [
       "                   주문번호     업체명                   상품명   제조사  주문수량     판매금액  \\\n",
       "25732   201020183220408  지니 태블릿  학습 전용 태블릿(더큰도전 후불결제)  삼성전자     2   768000   \n",
       "25738   201020195545933  지니 태블릿  학습 전용 태블릿(더큰도전 후불결제)  삼성전자     5  1920000   \n",
       "25739   201020204237280  지니 태블릿  학습 전용 태블릿(더큰도전 후불결제)  삼성전자     2   768000   \n",
       "25774   201021044814392  지니 태블릿  학습 전용 태블릿(더큰도전 후불결제)  삼성전자     5  1920000   \n",
       "25775   201021075232223  지니 태블릿  학습 전용 태블릿(더큰도전 후불결제)  삼성전자     5  1920000   \n",
       "...                 ...     ...                   ...   ...   ...      ...   \n",
       "211390  221024125619745   천재태블릿        학습 전용 태블릿-정기결제  삼성전자     5  1980000   \n",
       "212433  221025214536202   천재태블릿        학습 전용 태블릿-정기결제  삼성전자     8  3168000   \n",
       "212630  221026132724396   천재태블릿        학습 전용 태블릿-정기결제  삼성전자     1   396000   \n",
       "213502  221027171416474   천재태블릿        학습 전용 태블릿-정기결제  삼성전자     1   396000   \n",
       "213509  221027173556854   천재태블릿        학습 전용 태블릿-정기결제  삼성전자     1   396000   \n",
       "\n",
       "       결제방법                주문일자  처리상태 초도상품 제작문구 내역  할부기간  처리상태_bin     년   월  \n",
       "25732     후 2020-10-20 18:31:58  구매확정    N     NaN    12      True  2020  10  \n",
       "25738     후 2020-10-20 19:55:24  구매확정    N     NaN    12      True  2020  10  \n",
       "25739     후 2020-10-20 20:42:16  구매확정    N     NaN    12      True  2020  10  \n",
       "25774     후 2020-10-21 04:47:52  구매확정    N     NaN    24      True  2020  10  \n",
       "25775     후 2020-10-21 07:52:11  구매확정    N     NaN    24      True  2020  10  \n",
       "...     ...                 ...   ...  ...     ...   ...       ...   ...  ..  \n",
       "211390    정 2022-10-24 12:54:00  구매확정    N     NaN    18      True  2022  10  \n",
       "212433    정 2022-10-25 21:43:17  구매확정    N     NaN    18      True  2022  10  \n",
       "212630    정 2022-10-26 13:25:05  구매확정    N     NaN    12      True  2022  10  \n",
       "213502    정 2022-10-27 17:11:57  구매확정    N     NaN    12      True  2022  10  \n",
       "213509    정 2022-10-27 17:33:37  구매확정    N     NaN    12      True  2022  10  \n",
       "\n",
       "[1190 rows x 15 columns]"
      ]
     },
     "execution_count": 46,
     "metadata": {},
     "output_type": "execute_result"
    }
   ],
   "source": [
    "df_ans5"
   ]
  },
  {
   "cell_type": "markdown",
   "id": "379d0792",
   "metadata": {},
   "source": [
    "## 결제 방법, 결제 금액의 연관성"
   ]
  },
  {
   "cell_type": "markdown",
   "id": "d9fc4c6f",
   "metadata": {},
   "source": [
    "t-test 결과\n",
    "- p-value가 다르다는 것을 증명할 확실한 방법이 없다\n",
    "\n",
    "<br>정도로 인지하면 된다"
   ]
  },
  {
   "cell_type": "code",
   "execution_count": 50,
   "id": "8e6ad011",
   "metadata": {
    "ExecuteTime": {
     "end_time": "2023-07-19T05:34:47.589630Z",
     "start_time": "2023-07-19T05:34:46.873921Z"
    }
   },
   "outputs": [
    {
     "name": "stdout",
     "output_type": "stream",
     "text": [
      "p-value annotation legend:\n",
      "ns: 5.00e-02 < p <= 1.00e+00\n",
      "*: 1.00e-02 < p <= 5.00e-02\n",
      "**: 1.00e-03 < p <= 1.00e-02\n",
      "***: 1.00e-04 < p <= 1.00e-03\n",
      "****: p <= 1.00e-04\n",
      "\n",
      "신 v.s. 가: t-test independent samples with Bonferroni correction, P_val=9.191e-01 stat=-1.015e-01\n"
     ]
    },
    {
     "data": {
      "text/plain": [
       "(<Axes: xlabel='결제방법', ylabel='판매금액'>,\n",
       " [<statannot.StatResult.StatResult at 0x23d0cf62f50>])"
      ]
     },
     "execution_count": 50,
     "metadata": {},
     "output_type": "execute_result"
    },
    {
     "data": {
      "image/png": "[encoded data removed]",
      "text/plain": [
       "<Figure size 640x480 with 1 Axes>"
      ]
     },
     "metadata": {},
     "output_type": "display_data"
    }
   ],
   "source": [
    "fig = sns.stripplot(data=df_ans, x='결제방법', y='판매금액')\n",
    "add_stat_annotation(ax=fig, data=df_ans, x='결제방법', y='판매금액',\n",
    "                    box_pairs=[(('신'), ('가'))],\n",
    "                    test='t-test_ind')"
   ]
  },
  {
   "cell_type": "code",
   "execution_count": null,
   "id": "b6caf57e",
   "metadata": {},
   "outputs": [],
   "source": []
  }
 ],
 "metadata": {
  "kernelspec": {
   "display_name": "Python 3 (ipykernel)",
   "language": "python",
   "name": "python3"
  },
  "language_info": {
   "codemirror_mode": {
    "name": "ipython",
    "version": 3
   },
   "file_extension": ".py",
   "mimetype": "text/x-python",
   "name": "python",
   "nbconvert_exporter": "python",
   "pygments_lexer": "ipython3",
   "version": "3.11.3"
  },
  "toc": {
   "base_numbering": 1,
   "nav_menu": {},
   "number_sections": false,
   "sideBar": true,
   "skip_h1_title": false,
   "title_cell": "Table of Contents",
   "title_sidebar": "Contents",
   "toc_cell": false,
   "toc_position": {
    "height": "calc(100% - 180px)",
    "left": "10px",
    "top": "150px",
    "width": "247.594px"
   },
   "toc_section_display": true,
   "toc_window_display": true
  }
 },
 "nbformat": 4,
 "nbformat_minor": 5
}
