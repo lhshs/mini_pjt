{
 "cells": [
  {
   "cell_type": "markdown",
   "metadata": {},
   "source": [
    "https://github.com/monologg/KoELECTRA"
   ]
  },
  {
   "cell_type": "code",
   "execution_count": 1,
   "metadata": {},
   "outputs": [],
   "source": [
    "# import library\n",
    "import pandas as pd\n",
    "from tqdm import tqdm\n",
    "import torch\n",
    "from transformers import AutoTokenizer, AutoModelForSequenceClassification, TextClassificationPipeline"
   ]
  },
  {
   "cell_type": "code",
   "execution_count": 2,
   "metadata": {},
   "outputs": [],
   "source": [
    "ice = pd.read_csv('data/icecream_emot.csv')\n",
    "tsh = pd.read_csv('data/sherpa_emot3.csv')"
   ]
  },
  {
   "cell_type": "code",
   "execution_count": 3,
   "metadata": {},
   "outputs": [
    {
     "data": {
      "text/html": [
       "<div>\n",
       "<style scoped>\n",
       "    .dataframe tbody tr th:only-of-type {\n",
       "        vertical-align: middle;\n",
       "    }\n",
       "\n",
       "    .dataframe tbody tr th {\n",
       "        vertical-align: top;\n",
       "    }\n",
       "\n",
       "    .dataframe thead th {\n",
       "        text-align: right;\n",
       "    }\n",
       "</style>\n",
       "<table border=\"1\" class=\"dataframe\">\n",
       "  <thead>\n",
       "    <tr style=\"text-align: right;\">\n",
       "      <th></th>\n",
       "      <th>text</th>\n",
       "      <th>score</th>\n",
       "    </tr>\n",
       "  </thead>\n",
       "  <tbody>\n",
       "    <tr>\n",
       "      <th>0</th>\n",
       "      <td>법정연수 유용하네요 의무적으로 해마다 듣는 연수인데 다른 강사에게 듣고 싶어 신청했...</td>\n",
       "      <td>1</td>\n",
       "    </tr>\n",
       "    <tr>\n",
       "      <th>1</th>\n",
       "      <td>독립운동에 관한 지식 쌓기 독립운동에 대해서 알고, 학생 대상으로 수업하기 좋았습니...</td>\n",
       "      <td>1</td>\n",
       "    </tr>\n",
       "    <tr>\n",
       "      <th>2</th>\n",
       "      <td>삶을 바꾸는 사회수업 주제통합 질문과 상상으로 진행하기 사회 교과서 개정되고 학습량...</td>\n",
       "      <td>1</td>\n",
       "    </tr>\n",
       "    <tr>\n",
       "      <th>3</th>\n",
       "      <td>영어 회화가 막막한 선생님들께 유익한 연수! 영어가 너무 오랜만이시거나 일상생활에서...</td>\n",
       "      <td>1</td>\n",
       "    </tr>\n",
       "    <tr>\n",
       "      <th>4</th>\n",
       "      <td>독서교육을 해보고 싶어지게 만드는 연수!!! 아이를 키우며 그림책과 동화책에 관심을...</td>\n",
       "      <td>1</td>\n",
       "    </tr>\n",
       "    <tr>\n",
       "      <th>...</th>\n",
       "      <td>...</td>\n",
       "      <td>...</td>\n",
       "    </tr>\n",
       "    <tr>\n",
       "      <th>2595</th>\n",
       "      <td>알찬연수 고맙습니다.^^ 학교 진로교육의 목표 (2015개정)학생 자신의 진로를 창...</td>\n",
       "      <td>1</td>\n",
       "    </tr>\n",
       "    <tr>\n",
       "      <th>2596</th>\n",
       "      <td>스토리텔링을 활용한 초등수학 수업 연수 굿굿! 선생님들의 수학 개념 설명을 듣고, ...</td>\n",
       "      <td>1</td>\n",
       "    </tr>\n",
       "    <tr>\n",
       "      <th>2597</th>\n",
       "      <td>고맙습니다. 진로라는게 흥미는 있지만 너무 포괄적이네요.</td>\n",
       "      <td>1</td>\n",
       "    </tr>\n",
       "    <tr>\n",
       "      <th>2598</th>\n",
       "      <td>감사합니다^^ 진로교육에 관해 많은 것을 알게 되었습니다.\\r\\n감사합니다.</td>\n",
       "      <td>1</td>\n",
       "    </tr>\n",
       "    <tr>\n",
       "      <th>2599</th>\n",
       "      <td>너무 유익한 연수였습니다. 자녀가 현재 고등학교에 재학중이고 또한 오래전부터 진로교...</td>\n",
       "      <td>1</td>\n",
       "    </tr>\n",
       "  </tbody>\n",
       "</table>\n",
       "<p>2600 rows × 2 columns</p>\n",
       "</div>"
      ],
      "text/plain": [
       "                                                   text  score\n",
       "0     법정연수 유용하네요 의무적으로 해마다 듣는 연수인데 다른 강사에게 듣고 싶어 신청했...      1\n",
       "1     독립운동에 관한 지식 쌓기 독립운동에 대해서 알고, 학생 대상으로 수업하기 좋았습니...      1\n",
       "2     삶을 바꾸는 사회수업 주제통합 질문과 상상으로 진행하기 사회 교과서 개정되고 학습량...      1\n",
       "3     영어 회화가 막막한 선생님들께 유익한 연수! 영어가 너무 오랜만이시거나 일상생활에서...      1\n",
       "4     독서교육을 해보고 싶어지게 만드는 연수!!! 아이를 키우며 그림책과 동화책에 관심을...      1\n",
       "...                                                 ...    ...\n",
       "2595  알찬연수 고맙습니다.^^ 학교 진로교육의 목표 (2015개정)학생 자신의 진로를 창...      1\n",
       "2596  스토리텔링을 활용한 초등수학 수업 연수 굿굿! 선생님들의 수학 개념 설명을 듣고, ...      1\n",
       "2597                    고맙습니다. 진로라는게 흥미는 있지만 너무 포괄적이네요.      1\n",
       "2598         감사합니다^^ 진로교육에 관해 많은 것을 알게 되었습니다.\\r\\n감사합니다.      1\n",
       "2599  너무 유익한 연수였습니다. 자녀가 현재 고등학교에 재학중이고 또한 오래전부터 진로교...      1\n",
       "\n",
       "[2600 rows x 2 columns]"
      ]
     },
     "execution_count": 3,
     "metadata": {},
     "output_type": "execute_result"
    }
   ],
   "source": [
    "tsh = tsh[['title_comments', 'star']]\n",
    "tsh.rename(columns={'title_comments' : 'text', 'star' : 'score'}, inplace=True)\n",
    "tsh['score'] = tsh['score'].apply(lambda x : int(x.replace('점','')))\n",
    "tsh['score'] = tsh['score'].apply(lambda x : 0 if x == 3 else (1 if x > 3 else -1))\n",
    "tsh"
   ]
  },
  {
   "cell_type": "code",
   "execution_count": 4,
   "metadata": {},
   "outputs": [
    {
     "data": {
      "text/html": [
       "<div>\n",
       "<style scoped>\n",
       "    .dataframe tbody tr th:only-of-type {\n",
       "        vertical-align: middle;\n",
       "    }\n",
       "\n",
       "    .dataframe tbody tr th {\n",
       "        vertical-align: top;\n",
       "    }\n",
       "\n",
       "    .dataframe thead th {\n",
       "        text-align: right;\n",
       "    }\n",
       "</style>\n",
       "<table border=\"1\" class=\"dataframe\">\n",
       "  <thead>\n",
       "    <tr style=\"text-align: right;\">\n",
       "      <th></th>\n",
       "      <th>text</th>\n",
       "      <th>score</th>\n",
       "    </tr>\n",
       "  </thead>\n",
       "  <tbody>\n",
       "    <tr>\n",
       "      <th>0</th>\n",
       "      <td>알차네요 무엇보다도 빨리들을 수 있어 좋습니다</td>\n",
       "      <td>1</td>\n",
       "    </tr>\n",
       "    <tr>\n",
       "      <th>1</th>\n",
       "      <td>명불허전 명강사라 그런지 말씀을 참 잘하시네요~</td>\n",
       "      <td>1</td>\n",
       "    </tr>\n",
       "    <tr>\n",
       "      <th>2</th>\n",
       "      <td>강추 30년 가까이 일하면서도 놓치고 있었던 것들을 알려주었습니다. 그리고 무조건 ...</td>\n",
       "      <td>1</td>\n",
       "    </tr>\n",
       "    <tr>\n",
       "      <th>3</th>\n",
       "      <td>패들렛과 띵커벨 활용 잘 할 수 있어요 패들렛과 띵커벨 활용하고 있었으나 다양한 교...</td>\n",
       "      <td>1</td>\n",
       "    </tr>\n",
       "    <tr>\n",
       "      <th>4</th>\n",
       "      <td>필수 연수 부담 없이 편안하게 안전 연수 올 해 꼭 받아야 하는데, 부담 없이 편안...</td>\n",
       "      <td>1</td>\n",
       "    </tr>\n",
       "    <tr>\n",
       "      <th>...</th>\n",
       "      <td>...</td>\n",
       "      <td>...</td>\n",
       "    </tr>\n",
       "    <tr>\n",
       "      <th>5236</th>\n",
       "      <td>알베르토가 함께하는 핵심역량 연계 다문화 교육 여타 연수와 다르게 새로 알게된 내용...</td>\n",
       "      <td>1</td>\n",
       "    </tr>\n",
       "    <tr>\n",
       "      <th>5237</th>\n",
       "      <td>전문가가 알려주는 창의 영재교육의 비법 연수 후기 영재 교육에 대한 틀을 잡아주시는...</td>\n",
       "      <td>1</td>\n",
       "    </tr>\n",
       "    <tr>\n",
       "      <th>5238</th>\n",
       "      <td>도도한 교사생활 연수를 통해 자신감을 더 갖게 되었다.</td>\n",
       "      <td>1</td>\n",
       "    </tr>\n",
       "    <tr>\n",
       "      <th>5239</th>\n",
       "      <td>교실에서 활용할 수 있는 앱들 중심으로 재미있게 들었어요. 교실에서 활용할 수 있는...</td>\n",
       "      <td>1</td>\n",
       "    </tr>\n",
       "    <tr>\n",
       "      <th>5240</th>\n",
       "      <td>나도 따라하게 하는 캘리그라피 연수 글씨와 그림을 힘들어하는 나도 따라하게 하는 캘...</td>\n",
       "      <td>1</td>\n",
       "    </tr>\n",
       "  </tbody>\n",
       "</table>\n",
       "<p>5241 rows × 2 columns</p>\n",
       "</div>"
      ],
      "text/plain": [
       "                                                   text  score\n",
       "0                             알차네요 무엇보다도 빨리들을 수 있어 좋습니다      1\n",
       "1                            명불허전 명강사라 그런지 말씀을 참 잘하시네요~      1\n",
       "2     강추 30년 가까이 일하면서도 놓치고 있었던 것들을 알려주었습니다. 그리고 무조건 ...      1\n",
       "3     패들렛과 띵커벨 활용 잘 할 수 있어요 패들렛과 띵커벨 활용하고 있었으나 다양한 교...      1\n",
       "4     필수 연수 부담 없이 편안하게 안전 연수 올 해 꼭 받아야 하는데, 부담 없이 편안...      1\n",
       "...                                                 ...    ...\n",
       "5236  알베르토가 함께하는 핵심역량 연계 다문화 교육 여타 연수와 다르게 새로 알게된 내용...      1\n",
       "5237  전문가가 알려주는 창의 영재교육의 비법 연수 후기 영재 교육에 대한 틀을 잡아주시는...      1\n",
       "5238                     도도한 교사생활 연수를 통해 자신감을 더 갖게 되었다.      1\n",
       "5239  교실에서 활용할 수 있는 앱들 중심으로 재미있게 들었어요. 교실에서 활용할 수 있는...      1\n",
       "5240  나도 따라하게 하는 캘리그라피 연수 글씨와 그림을 힘들어하는 나도 따라하게 하는 캘...      1\n",
       "\n",
       "[5241 rows x 2 columns]"
      ]
     },
     "execution_count": 4,
     "metadata": {},
     "output_type": "execute_result"
    }
   ],
   "source": [
    "ice = ice[['title_comments', 'rated']]\n",
    "ice.rename(columns={'title_comments' : 'text', 'rated' : 'score'}, inplace=True)\n",
    "ice['score'] = ice['score'].apply(lambda x : int(x[-1]))\n",
    "ice['score'] = ice['score'].apply(lambda x : 0 if x == 3 else (1 if x > 3 else -1))\n",
    "ice"
   ]
  },
  {
   "cell_type": "markdown",
   "metadata": {},
   "source": [
    "ice modeling"
   ]
  },
  {
   "cell_type": "code",
   "execution_count": 5,
   "metadata": {},
   "outputs": [
    {
     "name": "stderr",
     "output_type": "stream",
     "text": [
      "Xformers is not installed correctly. If you want to use memory_efficient_attention to accelerate training use the following command to install Xformers\n",
      "pip install xformers.\n"
     ]
    },
    {
     "name": "stdout",
     "output_type": "stream",
     "text": [
      "=====\u001b[95mjaehyeong/koelectra-base-v3-generalized-sentiment-analysis\u001b[0m=====\n"
     ]
    },
    {
     "name": "stderr",
     "output_type": "stream",
     "text": [
      "0it [00:00, ?it/s]C:\\Users\\hsl\\AppData\\Local\\Temp\\ipykernel_9128\\2598454346.py:37: SettingWithCopyWarning: \n",
      "A value is trying to be set on a copy of a slice from a DataFrame\n",
      "\n",
      "See the caveats in the documentation: https://pandas.pydata.org/pandas-docs/stable/user_guide/indexing.html#returning-a-view-versus-a-copy\n",
      "  ice[pre_model][idx] = '1'\n",
      "4it [00:00, 31.35it/s]C:\\Users\\hsl\\AppData\\Local\\Temp\\ipykernel_9128\\2598454346.py:39: SettingWithCopyWarning: \n",
      "A value is trying to be set on a copy of a slice from a DataFrame\n",
      "\n",
      "See the caveats in the documentation: https://pandas.pydata.org/pandas-docs/stable/user_guide/indexing.html#returning-a-view-versus-a-copy\n",
      "  ice[pre_model][idx] = '-1'\n",
      "735it [00:26, 19.43it/s]C:\\Users\\hsl\\AppData\\Local\\Temp\\ipykernel_9128\\2598454346.py:41: SettingWithCopyWarning: \n",
      "A value is trying to be set on a copy of a slice from a DataFrame\n",
      "\n",
      "See the caveats in the documentation: https://pandas.pydata.org/pandas-docs/stable/user_guide/indexing.html#returning-a-view-versus-a-copy\n",
      "  ice[pre_model][idx] = '0'\n",
      "5241it [03:17, 26.49it/s]\n",
      "Some weights of BertForSequenceClassification were not initialized from the model checkpoint at klue/bert-base and are newly initialized: ['classifier.weight', 'classifier.bias']\n",
      "You should probably TRAIN this model on a down-stream task to be able to use it for predictions and inference.\n"
     ]
    },
    {
     "name": "stdout",
     "output_type": "stream",
     "text": [
      "=====\u001b[95mklue/bert-base\u001b[0m=====\n"
     ]
    },
    {
     "name": "stderr",
     "output_type": "stream",
     "text": [
      "0it [00:00, ?it/s]C:\\Users\\hsl\\AppData\\Local\\Temp\\ipykernel_9128\\2598454346.py:37: SettingWithCopyWarning: \n",
      "A value is trying to be set on a copy of a slice from a DataFrame\n",
      "\n",
      "See the caveats in the documentation: https://pandas.pydata.org/pandas-docs/stable/user_guide/indexing.html#returning-a-view-versus-a-copy\n",
      "  ice[pre_model][idx] = '1'\n",
      "4it [00:00, 34.01it/s]C:\\Users\\hsl\\AppData\\Local\\Temp\\ipykernel_9128\\2598454346.py:39: SettingWithCopyWarning: \n",
      "A value is trying to be set on a copy of a slice from a DataFrame\n",
      "\n",
      "See the caveats in the documentation: https://pandas.pydata.org/pandas-docs/stable/user_guide/indexing.html#returning-a-view-versus-a-copy\n",
      "  ice[pre_model][idx] = '-1'\n",
      "16it [00:00, 33.88it/s]C:\\Users\\hsl\\AppData\\Local\\Temp\\ipykernel_9128\\2598454346.py:41: SettingWithCopyWarning: \n",
      "A value is trying to be set on a copy of a slice from a DataFrame\n",
      "\n",
      "See the caveats in the documentation: https://pandas.pydata.org/pandas-docs/stable/user_guide/indexing.html#returning-a-view-versus-a-copy\n",
      "  ice[pre_model][idx] = '0'\n",
      "5241it [03:13, 27.15it/s]\n"
     ]
    },
    {
     "name": "stdout",
     "output_type": "stream",
     "text": [
      "=====\u001b[95mmatthewburke/korean_sentiment\u001b[0m=====\n"
     ]
    },
    {
     "name": "stderr",
     "output_type": "stream",
     "text": [
      "0it [00:00, ?it/s]C:\\Users\\hsl\\AppData\\Local\\Temp\\ipykernel_9128\\2598454346.py:37: SettingWithCopyWarning: \n",
      "A value is trying to be set on a copy of a slice from a DataFrame\n",
      "\n",
      "See the caveats in the documentation: https://pandas.pydata.org/pandas-docs/stable/user_guide/indexing.html#returning-a-view-versus-a-copy\n",
      "  ice[pre_model][idx] = '1'\n",
      "4it [00:00, 36.16it/s]C:\\Users\\hsl\\AppData\\Local\\Temp\\ipykernel_9128\\2598454346.py:39: SettingWithCopyWarning: \n",
      "A value is trying to be set on a copy of a slice from a DataFrame\n",
      "\n",
      "See the caveats in the documentation: https://pandas.pydata.org/pandas-docs/stable/user_guide/indexing.html#returning-a-view-versus-a-copy\n",
      "  ice[pre_model][idx] = '-1'\n",
      "3978it [02:02, 31.34it/s]C:\\Users\\hsl\\AppData\\Local\\Temp\\ipykernel_9128\\2598454346.py:41: SettingWithCopyWarning: \n",
      "A value is trying to be set on a copy of a slice from a DataFrame\n",
      "\n",
      "See the caveats in the documentation: https://pandas.pydata.org/pandas-docs/stable/user_guide/indexing.html#returning-a-view-versus-a-copy\n",
      "  ice[pre_model][idx] = '0'\n",
      "5241it [02:41, 32.37it/s]\n",
      "Some weights of ElectraForSequenceClassification were not initialized from the model checkpoint at monologg/koelectra-base-v2-discriminator and are newly initialized: ['classifier.out_proj.bias', 'classifier.dense.weight', 'classifier.dense.bias', 'classifier.out_proj.weight']\n",
      "You should probably TRAIN this model on a down-stream task to be able to use it for predictions and inference.\n"
     ]
    },
    {
     "name": "stdout",
     "output_type": "stream",
     "text": [
      "=====\u001b[95mmonologg/koelectra-base-v2-discriminator\u001b[0m=====\n"
     ]
    },
    {
     "name": "stderr",
     "output_type": "stream",
     "text": [
      "0it [00:00, ?it/s]C:\\Users\\hsl\\AppData\\Local\\Temp\\ipykernel_9128\\2598454346.py:37: SettingWithCopyWarning: \n",
      "A value is trying to be set on a copy of a slice from a DataFrame\n",
      "\n",
      "See the caveats in the documentation: https://pandas.pydata.org/pandas-docs/stable/user_guide/indexing.html#returning-a-view-versus-a-copy\n",
      "  ice[pre_model][idx] = '1'\n",
      "5241it [03:19, 26.31it/s]\n",
      "Special tokens have been added in the vocabulary, make sure the associated word embeddings are fine-tuned or trained.\n",
      "Some weights of GPT2ForSequenceClassification were not initialized from the model checkpoint at skt/kogpt2-base-v2 and are newly initialized: ['score.weight']\n",
      "You should probably TRAIN this model on a down-stream task to be able to use it for predictions and inference.\n"
     ]
    },
    {
     "name": "stdout",
     "output_type": "stream",
     "text": [
      "=====\u001b[95mskt/kogpt2-base-v2\u001b[0m=====\n"
     ]
    },
    {
     "name": "stderr",
     "output_type": "stream",
     "text": [
      "0it [00:00, ?it/s]C:\\Users\\hsl\\AppData\\Local\\Temp\\ipykernel_9128\\2598454346.py:39: SettingWithCopyWarning: \n",
      "A value is trying to be set on a copy of a slice from a DataFrame\n",
      "\n",
      "See the caveats in the documentation: https://pandas.pydata.org/pandas-docs/stable/user_guide/indexing.html#returning-a-view-versus-a-copy\n",
      "  ice[pre_model][idx] = '-1'\n",
      "8it [00:00, 29.64it/s]C:\\Users\\hsl\\AppData\\Local\\Temp\\ipykernel_9128\\2598454346.py:41: SettingWithCopyWarning: \n",
      "A value is trying to be set on a copy of a slice from a DataFrame\n",
      "\n",
      "See the caveats in the documentation: https://pandas.pydata.org/pandas-docs/stable/user_guide/indexing.html#returning-a-view-versus-a-copy\n",
      "  ice[pre_model][idx] = '0'\n",
      "5241it [03:16, 26.68it/s]\n",
      "Some weights of BertForSequenceClassification were not initialized from the model checkpoint at beomi/kcbert-large and are newly initialized: ['classifier.weight', 'classifier.bias']\n",
      "You should probably TRAIN this model on a down-stream task to be able to use it for predictions and inference.\n"
     ]
    },
    {
     "name": "stdout",
     "output_type": "stream",
     "text": [
      "=====\u001b[95mbeomi/kcbert-large\u001b[0m=====\n"
     ]
    },
    {
     "name": "stderr",
     "output_type": "stream",
     "text": [
      "0it [00:00, ?it/s]C:\\Users\\hsl\\AppData\\Local\\Temp\\ipykernel_9128\\2598454346.py:39: SettingWithCopyWarning: \n",
      "A value is trying to be set on a copy of a slice from a DataFrame\n",
      "\n",
      "See the caveats in the documentation: https://pandas.pydata.org/pandas-docs/stable/user_guide/indexing.html#returning-a-view-versus-a-copy\n",
      "  ice[pre_model][idx] = '-1'\n",
      "50it [00:05, 11.84it/s]C:\\Users\\hsl\\AppData\\Local\\Temp\\ipykernel_9128\\2598454346.py:37: SettingWithCopyWarning: \n",
      "A value is trying to be set on a copy of a slice from a DataFrame\n",
      "\n",
      "See the caveats in the documentation: https://pandas.pydata.org/pandas-docs/stable/user_guide/indexing.html#returning-a-view-versus-a-copy\n",
      "  ice[pre_model][idx] = '1'\n",
      "68it [00:06, 10.08it/s]C:\\Users\\hsl\\AppData\\Local\\Temp\\ipykernel_9128\\2598454346.py:41: SettingWithCopyWarning: \n",
      "A value is trying to be set on a copy of a slice from a DataFrame\n",
      "\n",
      "See the caveats in the documentation: https://pandas.pydata.org/pandas-docs/stable/user_guide/indexing.html#returning-a-view-versus-a-copy\n",
      "  ice[pre_model][idx] = '0'\n",
      "5241it [08:52,  9.85it/s]"
     ]
    },
    {
     "name": "stdout",
     "output_type": "stream",
     "text": [
      "🥕\n",
      "\n"
     ]
    },
    {
     "name": "stderr",
     "output_type": "stream",
     "text": [
      "\n"
     ]
    }
   ],
   "source": [
    "\n",
    "model_lst = ['jaehyeong/koelectra-base-v3-generalized-sentiment-analysis', \n",
    "            'klue/bert-base', \n",
    "            'matthewburke/korean_sentiment',\n",
    "            # 'monologg/koelectra-base-discriminator',\n",
    "            # \"monologg/koelectra-small-discriminator\",\n",
    "            \"monologg/koelectra-base-v2-discriminator\",\n",
    "            # \"monologg/koelectra-small-v2-discriminator\",\n",
    "            # \"monologg/koelectra-base-v3-discriminator\",\n",
    "            # \"monologg/koelectra-small-v3-discriminator\",\n",
    "            # \"facebook/bart-large-mnli\",\n",
    "            # \"monologg/koelectra-base-v3-goemotions\",\n",
    "            'skt/kogpt2-base-v2',\n",
    "            # 'skt/kobert-base-v1',\n",
    "            'beomi/kcbert-large',\n",
    "            # \"google/electra-small-discriminator\"\n",
    "            ]\n",
    "\n",
    "\n",
    "for i in model_lst: # 0,1,2,3\n",
    "    # load model\n",
    "    pre_model = i\n",
    "    tokenizer = AutoTokenizer.from_pretrained(pre_model)\n",
    "    model = AutoModelForSequenceClassification.from_pretrained(pre_model)\n",
    "    sentiment_classifier = TextClassificationPipeline(tokenizer=tokenizer, model=model)\n",
    "\n",
    "    print('====='+ '\\033[95m' + pre_model + '\\033[0m' + '=====')\n",
    "\n",
    "    # target reviews\n",
    "    review_list = list(ice.text)\n",
    "\n",
    "    ice[pre_model] = '-'\n",
    "    # predict\n",
    "    for idx, review in tqdm(enumerate(review_list)):\n",
    "        pred = sentiment_classifier(review)\n",
    "        # print(f'{review}\\n>> {pred[0]}')\n",
    "        if (pred[0]['label']=='1')&(pred[0]['score'] > 0.51) | (pred[0]['label']=='LABEL_1')&(pred[0]['score'] > 0.51):\n",
    "            ice[pre_model][idx] = '1'\n",
    "        elif (pred[0]['label']=='0')&(pred[0]['score']>0.51) | (pred[0]['label']=='LABEL_0')&(pred[0]['score'] > 0.51):  \n",
    "            ice[pre_model][idx] = '-1'\n",
    "        else:\n",
    "            ice[pre_model][idx] = '0'\n",
    "\n",
    "        # print(f'{review}\\n>> {pred[0]}')\n",
    "\n",
    "print('🥕')\n",
    "print('')\n"
   ]
  },
  {
   "cell_type": "code",
   "execution_count": 11,
   "metadata": {},
   "outputs": [
    {
     "name": "stdout",
     "output_type": "stream",
     "text": [
      "1     3291\n",
      "-1    1510\n",
      "0      440\n",
      "Name: klue/bert-base, dtype: int64\n",
      "\n",
      "1     5144\n",
      "-1      96\n",
      "0        1\n",
      "Name: matthewburke/korean_sentiment, dtype: int64\n",
      "\n",
      "1    5241\n",
      "Name: monologg/koelectra-base-v2-discriminator, dtype: int64\n",
      "\n",
      "-1    4884\n",
      "0      357\n",
      "Name: skt/kogpt2-base-v2, dtype: int64\n",
      "\n",
      "-1    4736\n",
      "1      343\n",
      "0      162\n",
      "Name: beomi/kcbert-large, dtype: int64\n",
      "\n"
     ]
    }
   ],
   "source": [
    "for i in ice.iloc[:,3:]:\n",
    "    print(ice[i].value_counts())\n",
    "    print()"
   ]
  },
  {
   "cell_type": "code",
   "execution_count": 14,
   "metadata": {},
   "outputs": [],
   "source": [
    "# ice.to_csv('ice_model.csv')"
   ]
  },
  {
   "cell_type": "markdown",
   "metadata": {},
   "source": [
    "tsh modeling"
   ]
  },
  {
   "cell_type": "code",
   "execution_count": 17,
   "metadata": {},
   "outputs": [
    {
     "name": "stdout",
     "output_type": "stream",
     "text": [
      "=====\u001b[95mjaehyeong/koelectra-base-v3-generalized-sentiment-analysis\u001b[0m=====\n"
     ]
    },
    {
     "name": "stderr",
     "output_type": "stream",
     "text": [
      "0it [00:00, ?it/s]C:\\Users\\hsl\\AppData\\Local\\Temp\\ipykernel_9128\\1723349136.py:37: SettingWithCopyWarning: \n",
      "A value is trying to be set on a copy of a slice from a DataFrame\n",
      "\n",
      "See the caveats in the documentation: https://pandas.pydata.org/pandas-docs/stable/user_guide/indexing.html#returning-a-view-versus-a-copy\n",
      "  tsh[pre_model][idx] = '1'\n",
      "7it [00:00, 18.07it/s]C:\\Users\\hsl\\AppData\\Local\\Temp\\ipykernel_9128\\1723349136.py:39: SettingWithCopyWarning: \n",
      "A value is trying to be set on a copy of a slice from a DataFrame\n",
      "\n",
      "See the caveats in the documentation: https://pandas.pydata.org/pandas-docs/stable/user_guide/indexing.html#returning-a-view-versus-a-copy\n",
      "  tsh[pre_model][idx] = '-1'\n",
      "2600it [01:58, 22.01it/s]\n",
      "Some weights of BertForSequenceClassification were not initialized from the model checkpoint at klue/bert-base and are newly initialized: ['classifier.weight', 'classifier.bias']\n",
      "You should probably TRAIN this model on a down-stream task to be able to use it for predictions and inference.\n"
     ]
    },
    {
     "name": "stdout",
     "output_type": "stream",
     "text": [
      "=====\u001b[95mklue/bert-base\u001b[0m=====\n"
     ]
    },
    {
     "name": "stderr",
     "output_type": "stream",
     "text": [
      "0it [00:00, ?it/s]C:\\Users\\hsl\\AppData\\Local\\Temp\\ipykernel_9128\\1723349136.py:37: SettingWithCopyWarning: \n",
      "A value is trying to be set on a copy of a slice from a DataFrame\n",
      "\n",
      "See the caveats in the documentation: https://pandas.pydata.org/pandas-docs/stable/user_guide/indexing.html#returning-a-view-versus-a-copy\n",
      "  tsh[pre_model][idx] = '1'\n",
      "4it [00:00, 27.30it/s]C:\\Users\\hsl\\AppData\\Local\\Temp\\ipykernel_9128\\1723349136.py:39: SettingWithCopyWarning: \n",
      "A value is trying to be set on a copy of a slice from a DataFrame\n",
      "\n",
      "See the caveats in the documentation: https://pandas.pydata.org/pandas-docs/stable/user_guide/indexing.html#returning-a-view-versus-a-copy\n",
      "  tsh[pre_model][idx] = '-1'\n",
      "7it [00:00, 19.28it/s]C:\\Users\\hsl\\AppData\\Local\\Temp\\ipykernel_9128\\1723349136.py:41: SettingWithCopyWarning: \n",
      "A value is trying to be set on a copy of a slice from a DataFrame\n",
      "\n",
      "See the caveats in the documentation: https://pandas.pydata.org/pandas-docs/stable/user_guide/indexing.html#returning-a-view-versus-a-copy\n",
      "  tsh[pre_model][idx] = '0'\n",
      "2600it [01:55, 22.42it/s]\n"
     ]
    },
    {
     "name": "stdout",
     "output_type": "stream",
     "text": [
      "=====\u001b[95mmatthewburke/korean_sentiment\u001b[0m=====\n"
     ]
    },
    {
     "name": "stderr",
     "output_type": "stream",
     "text": [
      "0it [00:00, ?it/s]C:\\Users\\hsl\\AppData\\Local\\Temp\\ipykernel_9128\\1723349136.py:37: SettingWithCopyWarning: \n",
      "A value is trying to be set on a copy of a slice from a DataFrame\n",
      "\n",
      "See the caveats in the documentation: https://pandas.pydata.org/pandas-docs/stable/user_guide/indexing.html#returning-a-view-versus-a-copy\n",
      "  tsh[pre_model][idx] = '1'\n",
      "7it [00:00, 22.23it/s]C:\\Users\\hsl\\AppData\\Local\\Temp\\ipykernel_9128\\1723349136.py:39: SettingWithCopyWarning: \n",
      "A value is trying to be set on a copy of a slice from a DataFrame\n",
      "\n",
      "See the caveats in the documentation: https://pandas.pydata.org/pandas-docs/stable/user_guide/indexing.html#returning-a-view-versus-a-copy\n",
      "  tsh[pre_model][idx] = '-1'\n",
      "2114it [01:14, 31.35it/s]C:\\Users\\hsl\\AppData\\Local\\Temp\\ipykernel_9128\\1723349136.py:41: SettingWithCopyWarning: \n",
      "A value is trying to be set on a copy of a slice from a DataFrame\n",
      "\n",
      "See the caveats in the documentation: https://pandas.pydata.org/pandas-docs/stable/user_guide/indexing.html#returning-a-view-versus-a-copy\n",
      "  tsh[pre_model][idx] = '0'\n",
      "2600it [01:35, 27.21it/s]\n",
      "Some weights of ElectraForSequenceClassification were not initialized from the model checkpoint at monologg/koelectra-base-v2-discriminator and are newly initialized: ['classifier.out_proj.bias', 'classifier.dense.weight', 'classifier.dense.bias', 'classifier.out_proj.weight']\n",
      "You should probably TRAIN this model on a down-stream task to be able to use it for predictions and inference.\n"
     ]
    },
    {
     "name": "stdout",
     "output_type": "stream",
     "text": [
      "=====\u001b[95mmonologg/koelectra-base-v2-discriminator\u001b[0m=====\n"
     ]
    },
    {
     "name": "stderr",
     "output_type": "stream",
     "text": [
      "0it [00:00, ?it/s]C:\\Users\\hsl\\AppData\\Local\\Temp\\ipykernel_9128\\1723349136.py:39: SettingWithCopyWarning: \n",
      "A value is trying to be set on a copy of a slice from a DataFrame\n",
      "\n",
      "See the caveats in the documentation: https://pandas.pydata.org/pandas-docs/stable/user_guide/indexing.html#returning-a-view-versus-a-copy\n",
      "  tsh[pre_model][idx] = '-1'\n",
      "115it [00:04, 25.32it/s]C:\\Users\\hsl\\AppData\\Local\\Temp\\ipykernel_9128\\1723349136.py:41: SettingWithCopyWarning: \n",
      "A value is trying to be set on a copy of a slice from a DataFrame\n",
      "\n",
      "See the caveats in the documentation: https://pandas.pydata.org/pandas-docs/stable/user_guide/indexing.html#returning-a-view-versus-a-copy\n",
      "  tsh[pre_model][idx] = '0'\n",
      "2600it [01:58, 21.90it/s]\n",
      "Special tokens have been added in the vocabulary, make sure the associated word embeddings are fine-tuned or trained.\n",
      "Some weights of GPT2ForSequenceClassification were not initialized from the model checkpoint at skt/kogpt2-base-v2 and are newly initialized: ['score.weight']\n",
      "You should probably TRAIN this model on a down-stream task to be able to use it for predictions and inference.\n"
     ]
    },
    {
     "name": "stdout",
     "output_type": "stream",
     "text": [
      "=====\u001b[95mskt/kogpt2-base-v2\u001b[0m=====\n"
     ]
    },
    {
     "name": "stderr",
     "output_type": "stream",
     "text": [
      "0it [00:00, ?it/s]C:\\Users\\hsl\\AppData\\Local\\Temp\\ipykernel_9128\\1723349136.py:39: SettingWithCopyWarning: \n",
      "A value is trying to be set on a copy of a slice from a DataFrame\n",
      "\n",
      "See the caveats in the documentation: https://pandas.pydata.org/pandas-docs/stable/user_guide/indexing.html#returning-a-view-versus-a-copy\n",
      "  tsh[pre_model][idx] = '-1'\n",
      "7it [00:00, 18.68it/s]C:\\Users\\hsl\\AppData\\Local\\Temp\\ipykernel_9128\\1723349136.py:41: SettingWithCopyWarning: \n",
      "A value is trying to be set on a copy of a slice from a DataFrame\n",
      "\n",
      "See the caveats in the documentation: https://pandas.pydata.org/pandas-docs/stable/user_guide/indexing.html#returning-a-view-versus-a-copy\n",
      "  tsh[pre_model][idx] = '0'\n",
      "2600it [02:01, 21.42it/s]\n",
      "Some weights of BertForSequenceClassification were not initialized from the model checkpoint at beomi/kcbert-large and are newly initialized: ['classifier.weight', 'classifier.bias']\n",
      "You should probably TRAIN this model on a down-stream task to be able to use it for predictions and inference.\n"
     ]
    },
    {
     "name": "stdout",
     "output_type": "stream",
     "text": [
      "=====\u001b[95mbeomi/kcbert-large\u001b[0m=====\n"
     ]
    },
    {
     "name": "stderr",
     "output_type": "stream",
     "text": [
      "0it [00:00, ?it/s]C:\\Users\\hsl\\AppData\\Local\\Temp\\ipykernel_9128\\1723349136.py:39: SettingWithCopyWarning: \n",
      "A value is trying to be set on a copy of a slice from a DataFrame\n",
      "\n",
      "See the caveats in the documentation: https://pandas.pydata.org/pandas-docs/stable/user_guide/indexing.html#returning-a-view-versus-a-copy\n",
      "  tsh[pre_model][idx] = '-1'\n",
      "C:\\Users\\hsl\\AppData\\Local\\Temp\\ipykernel_9128\\1723349136.py:37: SettingWithCopyWarning: \n",
      "A value is trying to be set on a copy of a slice from a DataFrame\n",
      "\n",
      "See the caveats in the documentation: https://pandas.pydata.org/pandas-docs/stable/user_guide/indexing.html#returning-a-view-versus-a-copy\n",
      "  tsh[pre_model][idx] = '1'\n",
      "12it [00:01,  8.93it/s]C:\\Users\\hsl\\AppData\\Local\\Temp\\ipykernel_9128\\1723349136.py:41: SettingWithCopyWarning: \n",
      "A value is trying to be set on a copy of a slice from a DataFrame\n",
      "\n",
      "See the caveats in the documentation: https://pandas.pydata.org/pandas-docs/stable/user_guide/indexing.html#returning-a-view-versus-a-copy\n",
      "  tsh[pre_model][idx] = '0'\n",
      "2600it [05:07,  8.44it/s]"
     ]
    },
    {
     "name": "stdout",
     "output_type": "stream",
     "text": [
      "🥕\n",
      "\n"
     ]
    },
    {
     "name": "stderr",
     "output_type": "stream",
     "text": [
      "\n"
     ]
    }
   ],
   "source": [
    "\n",
    "model_lst = ['jaehyeong/koelectra-base-v3-generalized-sentiment-analysis', \n",
    "            'klue/bert-base', \n",
    "            'matthewburke/korean_sentiment',\n",
    "            # 'monologg/koelectra-base-discriminator',\n",
    "            # \"monologg/koelectra-small-discriminator\",\n",
    "            \"monologg/koelectra-base-v2-discriminator\",\n",
    "            # \"monologg/koelectra-small-v2-discriminator\",\n",
    "            # \"monologg/koelectra-base-v3-discriminator\",\n",
    "            # \"monologg/koelectra-small-v3-discriminator\",\n",
    "            # \"facebook/bart-large-mnli\",\n",
    "            # \"monologg/koelectra-base-v3-goemotions\",\n",
    "            'skt/kogpt2-base-v2',\n",
    "            # 'skt/kobert-base-v1',\n",
    "            'beomi/kcbert-large',\n",
    "            # \"google/electra-small-discriminator\"\n",
    "            ]\n",
    "\n",
    "\n",
    "for i in model_lst: # 0,1,2,3\n",
    "    # load model\n",
    "    pre_model = i\n",
    "    tokenizer = AutoTokenizer.from_pretrained(pre_model)\n",
    "    model = AutoModelForSequenceClassification.from_pretrained(pre_model)\n",
    "    sentiment_classifier = TextClassificationPipeline(tokenizer=tokenizer, model=model)\n",
    "\n",
    "    print('====='+ '\\033[95m' + pre_model + '\\033[0m' + '=====')\n",
    "\n",
    "    # target reviews\n",
    "    review_list = list(tsh.text)\n",
    "\n",
    "    tsh[pre_model] = '-'\n",
    "    # predict\n",
    "    for idx, review in tqdm(enumerate(review_list)):\n",
    "        pred = sentiment_classifier(review)\n",
    "        # print(f'{review}\\n>> {pred[0]}')\n",
    "        if (pred[0]['label']=='1')&(pred[0]['score'] > 0.51) | (pred[0]['label']=='LABEL_1')&(pred[0]['score'] > 0.51):\n",
    "            tsh[pre_model][idx] = '1'\n",
    "        elif (pred[0]['label']=='0')&(pred[0]['score']>0.51) | (pred[0]['label']=='LABEL_0')&(pred[0]['score'] > 0.51):  \n",
    "            tsh[pre_model][idx] = '-1'\n",
    "        else:\n",
    "            tsh[pre_model][idx] = '0'\n",
    "\n",
    "        # print(f'{review}\\n>> {pred[0]}')\n",
    "\n",
    "print('🥕')\n",
    "print('')\n"
   ]
  },
  {
   "cell_type": "code",
   "execution_count": 18,
   "metadata": {},
   "outputs": [
    {
     "data": {
      "text/html": [
       "<div>\n",
       "<style scoped>\n",
       "    .dataframe tbody tr th:only-of-type {\n",
       "        vertical-align: middle;\n",
       "    }\n",
       "\n",
       "    .dataframe tbody tr th {\n",
       "        vertical-align: top;\n",
       "    }\n",
       "\n",
       "    .dataframe thead th {\n",
       "        text-align: right;\n",
       "    }\n",
       "</style>\n",
       "<table border=\"1\" class=\"dataframe\">\n",
       "  <thead>\n",
       "    <tr style=\"text-align: right;\">\n",
       "      <th></th>\n",
       "      <th>text</th>\n",
       "      <th>score</th>\n",
       "      <th>jaehyeong/koelectra-base-v3-generalized-sentiment-analysis</th>\n",
       "      <th>klue/bert-base</th>\n",
       "      <th>matthewburke/korean_sentiment</th>\n",
       "      <th>monologg/koelectra-base-v2-discriminator</th>\n",
       "      <th>skt/kogpt2-base-v2</th>\n",
       "      <th>beomi/kcbert-large</th>\n",
       "    </tr>\n",
       "  </thead>\n",
       "  <tbody>\n",
       "    <tr>\n",
       "      <th>0</th>\n",
       "      <td>법정연수 유용하네요 의무적으로 해마다 듣는 연수인데 다른 강사에게 듣고 싶어 신청했...</td>\n",
       "      <td>1</td>\n",
       "      <td>1</td>\n",
       "      <td>1</td>\n",
       "      <td>1</td>\n",
       "      <td>-1</td>\n",
       "      <td>-1</td>\n",
       "      <td>-1</td>\n",
       "    </tr>\n",
       "    <tr>\n",
       "      <th>1</th>\n",
       "      <td>독립운동에 관한 지식 쌓기 독립운동에 대해서 알고, 학생 대상으로 수업하기 좋았습니...</td>\n",
       "      <td>1</td>\n",
       "      <td>1</td>\n",
       "      <td>1</td>\n",
       "      <td>1</td>\n",
       "      <td>-1</td>\n",
       "      <td>-1</td>\n",
       "      <td>1</td>\n",
       "    </tr>\n",
       "    <tr>\n",
       "      <th>2</th>\n",
       "      <td>삶을 바꾸는 사회수업 주제통합 질문과 상상으로 진행하기 사회 교과서 개정되고 학습량...</td>\n",
       "      <td>1</td>\n",
       "      <td>1</td>\n",
       "      <td>1</td>\n",
       "      <td>1</td>\n",
       "      <td>-1</td>\n",
       "      <td>-1</td>\n",
       "      <td>1</td>\n",
       "    </tr>\n",
       "    <tr>\n",
       "      <th>3</th>\n",
       "      <td>영어 회화가 막막한 선생님들께 유익한 연수! 영어가 너무 오랜만이시거나 일상생활에서...</td>\n",
       "      <td>1</td>\n",
       "      <td>1</td>\n",
       "      <td>1</td>\n",
       "      <td>1</td>\n",
       "      <td>-1</td>\n",
       "      <td>-1</td>\n",
       "      <td>1</td>\n",
       "    </tr>\n",
       "    <tr>\n",
       "      <th>4</th>\n",
       "      <td>독서교육을 해보고 싶어지게 만드는 연수!!! 아이를 키우며 그림책과 동화책에 관심을...</td>\n",
       "      <td>1</td>\n",
       "      <td>1</td>\n",
       "      <td>1</td>\n",
       "      <td>1</td>\n",
       "      <td>-1</td>\n",
       "      <td>-1</td>\n",
       "      <td>-1</td>\n",
       "    </tr>\n",
       "    <tr>\n",
       "      <th>...</th>\n",
       "      <td>...</td>\n",
       "      <td>...</td>\n",
       "      <td>...</td>\n",
       "      <td>...</td>\n",
       "      <td>...</td>\n",
       "      <td>...</td>\n",
       "      <td>...</td>\n",
       "      <td>...</td>\n",
       "    </tr>\n",
       "    <tr>\n",
       "      <th>2595</th>\n",
       "      <td>알찬연수 고맙습니다.^^ 학교 진로교육의 목표 (2015개정)학생 자신의 진로를 창...</td>\n",
       "      <td>1</td>\n",
       "      <td>1</td>\n",
       "      <td>1</td>\n",
       "      <td>1</td>\n",
       "      <td>-1</td>\n",
       "      <td>-1</td>\n",
       "      <td>-1</td>\n",
       "    </tr>\n",
       "    <tr>\n",
       "      <th>2596</th>\n",
       "      <td>스토리텔링을 활용한 초등수학 수업 연수 굿굿! 선생님들의 수학 개념 설명을 듣고, ...</td>\n",
       "      <td>1</td>\n",
       "      <td>1</td>\n",
       "      <td>1</td>\n",
       "      <td>1</td>\n",
       "      <td>-1</td>\n",
       "      <td>0</td>\n",
       "      <td>1</td>\n",
       "    </tr>\n",
       "    <tr>\n",
       "      <th>2597</th>\n",
       "      <td>고맙습니다. 진로라는게 흥미는 있지만 너무 포괄적이네요.</td>\n",
       "      <td>1</td>\n",
       "      <td>-1</td>\n",
       "      <td>-1</td>\n",
       "      <td>1</td>\n",
       "      <td>-1</td>\n",
       "      <td>0</td>\n",
       "      <td>-1</td>\n",
       "    </tr>\n",
       "    <tr>\n",
       "      <th>2598</th>\n",
       "      <td>감사합니다^^ 진로교육에 관해 많은 것을 알게 되었습니다.\\r\\n감사합니다.</td>\n",
       "      <td>1</td>\n",
       "      <td>1</td>\n",
       "      <td>-1</td>\n",
       "      <td>1</td>\n",
       "      <td>-1</td>\n",
       "      <td>-1</td>\n",
       "      <td>1</td>\n",
       "    </tr>\n",
       "    <tr>\n",
       "      <th>2599</th>\n",
       "      <td>너무 유익한 연수였습니다. 자녀가 현재 고등학교에 재학중이고 또한 오래전부터 진로교...</td>\n",
       "      <td>1</td>\n",
       "      <td>1</td>\n",
       "      <td>-1</td>\n",
       "      <td>1</td>\n",
       "      <td>-1</td>\n",
       "      <td>-1</td>\n",
       "      <td>-1</td>\n",
       "    </tr>\n",
       "  </tbody>\n",
       "</table>\n",
       "<p>2600 rows × 8 columns</p>\n",
       "</div>"
      ],
      "text/plain": [
       "                                                   text  score  \\\n",
       "0     법정연수 유용하네요 의무적으로 해마다 듣는 연수인데 다른 강사에게 듣고 싶어 신청했...      1   \n",
       "1     독립운동에 관한 지식 쌓기 독립운동에 대해서 알고, 학생 대상으로 수업하기 좋았습니...      1   \n",
       "2     삶을 바꾸는 사회수업 주제통합 질문과 상상으로 진행하기 사회 교과서 개정되고 학습량...      1   \n",
       "3     영어 회화가 막막한 선생님들께 유익한 연수! 영어가 너무 오랜만이시거나 일상생활에서...      1   \n",
       "4     독서교육을 해보고 싶어지게 만드는 연수!!! 아이를 키우며 그림책과 동화책에 관심을...      1   \n",
       "...                                                 ...    ...   \n",
       "2595  알찬연수 고맙습니다.^^ 학교 진로교육의 목표 (2015개정)학생 자신의 진로를 창...      1   \n",
       "2596  스토리텔링을 활용한 초등수학 수업 연수 굿굿! 선생님들의 수학 개념 설명을 듣고, ...      1   \n",
       "2597                    고맙습니다. 진로라는게 흥미는 있지만 너무 포괄적이네요.      1   \n",
       "2598         감사합니다^^ 진로교육에 관해 많은 것을 알게 되었습니다.\\r\\n감사합니다.      1   \n",
       "2599  너무 유익한 연수였습니다. 자녀가 현재 고등학교에 재학중이고 또한 오래전부터 진로교...      1   \n",
       "\n",
       "     jaehyeong/koelectra-base-v3-generalized-sentiment-analysis  \\\n",
       "0                                                     1           \n",
       "1                                                     1           \n",
       "2                                                     1           \n",
       "3                                                     1           \n",
       "4                                                     1           \n",
       "...                                                 ...           \n",
       "2595                                                  1           \n",
       "2596                                                  1           \n",
       "2597                                                 -1           \n",
       "2598                                                  1           \n",
       "2599                                                  1           \n",
       "\n",
       "     klue/bert-base matthewburke/korean_sentiment  \\\n",
       "0                 1                             1   \n",
       "1                 1                             1   \n",
       "2                 1                             1   \n",
       "3                 1                             1   \n",
       "4                 1                             1   \n",
       "...             ...                           ...   \n",
       "2595              1                             1   \n",
       "2596              1                             1   \n",
       "2597             -1                             1   \n",
       "2598             -1                             1   \n",
       "2599             -1                             1   \n",
       "\n",
       "     monologg/koelectra-base-v2-discriminator skt/kogpt2-base-v2  \\\n",
       "0                                          -1                 -1   \n",
       "1                                          -1                 -1   \n",
       "2                                          -1                 -1   \n",
       "3                                          -1                 -1   \n",
       "4                                          -1                 -1   \n",
       "...                                       ...                ...   \n",
       "2595                                       -1                 -1   \n",
       "2596                                       -1                  0   \n",
       "2597                                       -1                  0   \n",
       "2598                                       -1                 -1   \n",
       "2599                                       -1                 -1   \n",
       "\n",
       "     beomi/kcbert-large  \n",
       "0                    -1  \n",
       "1                     1  \n",
       "2                     1  \n",
       "3                     1  \n",
       "4                    -1  \n",
       "...                 ...  \n",
       "2595                 -1  \n",
       "2596                  1  \n",
       "2597                 -1  \n",
       "2598                  1  \n",
       "2599                 -1  \n",
       "\n",
       "[2600 rows x 8 columns]"
      ]
     },
     "execution_count": 18,
     "metadata": {},
     "output_type": "execute_result"
    }
   ],
   "source": [
    "tsh"
   ]
  },
  {
   "cell_type": "code",
   "execution_count": 20,
   "metadata": {},
   "outputs": [
    {
     "name": "stdout",
     "output_type": "stream",
     "text": [
      "klue/bert-base\n",
      "1                 1543\n",
      "-1                 637\n",
      "0                  420\n",
      "dtype: int64\n",
      "\n",
      "matthewburke/korean_sentiment\n",
      "1                                2540\n",
      "-1                                 58\n",
      "0                                   2\n",
      "dtype: int64\n",
      "\n",
      "monologg/koelectra-base-v2-discriminator\n",
      "-1                                          2579\n",
      "0                                             21\n",
      "dtype: int64\n",
      "\n",
      "skt/kogpt2-base-v2\n",
      "-1                    2054\n",
      "0                      546\n",
      "dtype: int64\n",
      "\n",
      "beomi/kcbert-large\n",
      "-1                    1221\n",
      "1                     1197\n",
      "0                      182\n",
      "dtype: int64\n",
      "\n"
     ]
    }
   ],
   "source": [
    "for i in tsh.iloc[:, 3:].columns:\n",
    "    print(tsh[[i]].value_counts())\n",
    "    print()"
   ]
  },
  {
   "cell_type": "code",
   "execution_count": 21,
   "metadata": {},
   "outputs": [],
   "source": [
    "# tsh.to_csv('tsh_model.csv')"
   ]
  }
 ],
 "metadata": {
  "kernelspec": {
   "display_name": "lhs",
   "language": "python",
   "name": "python3"
  },
  "language_info": {
   "codemirror_mode": {
    "name": "ipython",
    "version": 3
   },
   "file_extension": ".py",
   "mimetype": "text/x-python",
   "name": "python",
   "nbconvert_exporter": "python",
   "pygments_lexer": "ipython3",
   "version": "3.11.3"
  },
  "orig_nbformat": 4
 },
 "nbformat": 4,
 "nbformat_minor": 2
}
